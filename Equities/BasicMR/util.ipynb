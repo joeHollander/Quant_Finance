{
 "cells": [
  {
   "cell_type": "code",
   "execution_count": 67,
   "metadata": {},
   "outputs": [],
   "source": [
    "import pandas as pd \n",
    "import numpy as np\n",
    "import yfinance as yf\n",
    "import pandas_market_calendars as mcal\n",
    "from datetime import datetime\n",
    "import matplotlib.pyplot as plt"
   ]
  },
  {
   "cell_type": "code",
   "execution_count": 45,
   "metadata": {},
   "outputs": [
    {
     "name": "stderr",
     "output_type": "stream",
     "text": [
      "[*********************100%%**********************]  1 of 1 completed\n"
     ]
    },
    {
     "data": {
      "text/plain": [
       "DatetimeIndex(['2024-01-02 09:30:00', '2024-01-02 10:30:00',\n",
       "               '2024-01-02 11:30:00', '2024-01-02 12:30:00',\n",
       "               '2024-01-02 13:30:00', '2024-01-02 14:30:00',\n",
       "               '2024-01-02 15:30:00', '2024-01-03 09:30:00',\n",
       "               '2024-01-03 10:30:00', '2024-01-03 11:30:00',\n",
       "               ...\n",
       "               '2024-01-29 13:30:00', '2024-01-29 14:30:00',\n",
       "               '2024-01-29 15:30:00', '2024-01-30 09:30:00',\n",
       "               '2024-01-30 10:30:00', '2024-01-30 11:30:00',\n",
       "               '2024-01-30 12:30:00', '2024-01-30 13:30:00',\n",
       "               '2024-01-30 14:30:00', '2024-01-30 15:30:00'],\n",
       "              dtype='datetime64[ns]', name='Datetime', length=140, freq=None)"
      ]
     },
     "execution_count": 45,
     "metadata": {},
     "output_type": "execute_result"
    }
   ],
   "source": [
    "start = '2024-01-01'\n",
    "end = '2024-01-31'\n",
    "df = yf.download('AAPL', start=start, end=end, interval=\"1h\")\n",
    "df.index = pd.DatetimeIndex(df.index.strftime(\"%Y-%m-%d %H:%M\"))\n",
    "df.index"
   ]
  },
  {
   "cell_type": "code",
   "execution_count": 47,
   "metadata": {},
   "outputs": [],
   "source": [
    "# def combine_oc(df):\n",
    "#     oc = []\n",
    "#     for i in range(len(df)):\n",
    "#         oc.append(df.iloc[i,0])\n",
    "#         oc.append(df.iloc[i,2])\n",
    "#     return oc\n",
    "\n",
    "# %timeit combine_oc(df)\n"
   ]
  },
  {
   "cell_type": "code",
   "execution_count": 68,
   "metadata": {},
   "outputs": [],
   "source": [
    "holidays = mcal.get_calendar('NYSE').holidays()\n",
    "holidays = list(holidays.holidays) # NYSE Holidays"
   ]
  },
  {
   "cell_type": "code",
   "execution_count": 100,
   "metadata": {},
   "outputs": [],
   "source": [
    "day_diff = np.busday_count(pd.to_datetime(start).date(), pd.to_datetime(end).date(), holidays=holidays)\n",
    "oc = np.zeros((len(df) + day_diff, ))\n",
    "# open values\n",
    "oc[::8] = df.loc[::7, \"Open\"]\n",
    "# close values\n",
    "idx = np.ones((len(oc), ), dtype=bool)\n",
    "idx[::8] = False\n",
    "oc[idx] = df.loc[:, \"Adj Close\"]"
   ]
  },
  {
   "cell_type": "code",
   "execution_count": 101,
   "metadata": {},
   "outputs": [],
   "source": [
    "# setting index for middle of day\n",
    "idx = np.ones((len(oc), ), dtype=bool)\n",
    "idx[7::8] = False\n",
    "dates = np.zeros(oc.shape, dtype=\"datetime64[ns]\")\n",
    "dates[idx] = df.index\n",
    "# setting index for end of day\n",
    "later_index = df.index + pd.Timedelta(minutes=30)\n",
    "dates[~idx] = later_index[6::7]\n",
    "new_df = pd.DataFrame(data=oc, index=dates, columns=[\"Price\"])"
   ]
  },
  {
   "cell_type": "code",
   "execution_count": null,
   "metadata": {},
   "outputs": [],
   "source": []
  }
 ],
 "metadata": {
  "kernelspec": {
   "display_name": "qfi",
   "language": "python",
   "name": "python3"
  },
  "language_info": {
   "codemirror_mode": {
    "name": "ipython",
    "version": 3
   },
   "file_extension": ".py",
   "mimetype": "text/x-python",
   "name": "python",
   "nbconvert_exporter": "python",
   "pygments_lexer": "ipython3",
   "version": "3.12.4"
  }
 },
 "nbformat": 4,
 "nbformat_minor": 2
}
