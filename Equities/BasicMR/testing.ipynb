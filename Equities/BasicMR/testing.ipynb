{
 "cells": [
  {
   "cell_type": "code",
   "execution_count": 14,
   "metadata": {},
   "outputs": [
    {
     "name": "stderr",
     "output_type": "stream",
     "text": [
      "[*********************100%%**********************]  1 of 1 completed\n"
     ]
    }
   ],
   "source": [
    "# normal imports\n",
    "import time\n",
    "import pandas as pd\n",
    "import numpy as np\n",
    "import datetime as dt\n",
    "import yfinance as yf\n",
    "from datetime import datetime\n",
    "from decimal import Decimal\n",
    "\n",
    "# nautilus trader imports\n",
    "from nautilus_trader.backtest.engine import BacktestEngine, BacktestEngineConfig\n",
    "from nautilus_trader.model.currencies import USD\n",
    "from nautilus_trader.model.enums import AccountType, OmsType\n",
    "from nautilus_trader.model.identifiers import Venue, ClientId\n",
    "from nautilus_trader.model.objects import Money\n",
    "from nautilus_trader.persistence.wranglers import BarDataWrangler\n",
    "from nautilus_trader.test_kit.providers import TestInstrumentProvider, TestDataProvider\n",
    "from nautilus_trader.config import StrategyConfig\n",
    "from nautilus_trader.model.identifiers import InstrumentId\n",
    "from nautilus_trader.model.instruments import Instrument\n",
    "from nautilus_trader.model.orders.list import OrderList\n",
    "from nautilus_trader.trading.strategy import Strategy\n",
    "from nautilus_trader.config import LoggingConfig\n",
    "from nautilus_trader.model.data import Bar, BarSpecification, BarType\n",
    "from nautilus_trader.model.enums import OrderSide, PositionSide, TimeInForce\n",
    "from nautilus_trader.persistence.wranglers import BarDataWrangler\n",
    "from BasicMRStrategy import BasicMR, BasicMRConfig\n",
    "from nautilus_trader.backtest.node import BacktestNode, BacktestVenueConfig, BacktestDataConfig, BacktestRunConfig, BacktestEngineConfig\n",
    "from nautilus_trader.config import ImportableStrategyConfig,  ImportableActorConfig, StreamingConfig\n",
    "from nautilus_trader.persistence.catalog import ParquetDataCatalog\n",
    "from nautilus_trader.model.enums import AggregationSource\n",
    "from nautilus_trader.core.datetime import dt_to_unix_nanos\n",
    "from util import yf_to_timeseries\n",
    "from nautilus_trader.core.data import Data\n",
    "\n",
    "from itertools import repeat\n",
    "from nautilus_trader.model.objects import Price\n",
    "\n",
    "# other file related imports\n",
    "from pathlib import Path\n",
    "import fsspec \n",
    "import shutil\n",
    "\n",
    "\n",
    "# creating instrument\n",
    "MSFT_SIM = TestInstrumentProvider.equity(symbol=\"MSFT\", venue=\"SIM\")\n",
    "\n",
    "# downloading data\n",
    "start_str = \"2023-01-01\"\n",
    "end_str = \"2023-01-31\"\n",
    "\n",
    "msft_df = yf.download(\"MSFT\", start=start_str, end=end_str, interval=\"1h\")\n",
    "msft_ts = yf_to_timeseries(msft_df, 7)\n",
    "\n",
    "\n",
    "# processing data\n",
    "bartype = BarType.from_str(\"MSFT.SIM-1-HOUR-LAST-EXTERNAL\")\n"
   ]
  },
  {
   "cell_type": "code",
   "execution_count": 27,
   "metadata": {},
   "outputs": [],
   "source": [
    "from nautilus_trader.core.datetime import dt_to_unix_nanos, unix_nanos_to_dt, format_iso8601\n",
    "import msgspec\n",
    "import pyarrow as pa\n",
    "\n",
    "def unix_nanos_to_str(unix_nanos):\n",
    "    return format_iso8601(unix_nanos_to_dt(unix_nanos))"
   ]
  },
  {
   "cell_type": "code",
   "execution_count": 28,
   "metadata": {},
   "outputs": [],
   "source": [
    "ts_event = msft_ts.index.view(np.uint64)\n",
    "ts_init = ts_event.copy()"
   ]
  },
  {
   "cell_type": "code",
   "execution_count": 30,
   "metadata": {},
   "outputs": [],
   "source": [
    "class SingleBar(Data):\n",
    "    def __init__(self, price: float, ts_event=0, ts_init=0):\n",
    "        self.price = price\n",
    "        self._ts_event = ts_event  \n",
    "        self._ts_init = ts_init \n",
    "\n",
    "    def __repr__(self):\n",
    "        return (f\"SingleBar(\"\n",
    "                f\"price={self.price:.2f}, \"\n",
    "                f\"ts_event={unix_nanos_to_str(self._ts_event)}, \"\n",
    "                f\"ts_init={unix_nanos_to_str(self._ts_init)}, \")\n",
    "\n",
    "    @property\n",
    "    def ts_event(self) -> int:\n",
    "        return self._ts_event\n",
    "    \n",
    "    @ts_event.setter\n",
    "    def ts_event(self, value):\n",
    "        self._ts_event = value \n",
    "\n",
    "    @property\n",
    "    def ts_init(self) -> int:\n",
    "        return self._ts_init\n",
    "    \n",
    "    @ts_init.setter\n",
    "    def ts_init(self, value):\n",
    "        self._ts_init = value  \n",
    "\n",
    "    def to_dict(self):\n",
    "        return {\n",
    "            \"price\": self.price,\n",
    "            \"ts_event\": self._ts_event,\n",
    "            \"ts_init\": self._ts_init\n",
    "        }\n",
    "\n",
    "    @classmethod\n",
    "    def from_dict(cls, data: dict):\n",
    "        return SingleBar(data[\"price\"], data[\"ts_event\"], data[\"ts_init\"])\n",
    "\n",
    "    @classmethod\n",
    "    def from_bytes(cls, data: bytes):\n",
    "        return cls.from_dict(msgspec.msgpack.decode(data))\n",
    "    \n",
    "    def to_bytes(self):\n",
    "        return msgspec.msgpack.encode(self.to_dict())\n",
    "\n",
    "\n",
    "    def to_catalog(self):\n",
    "        return pa.RecordBatch.from_pylist([self.to_dict()], schema=SingleBar.schema())\n",
    "\n",
    "    @classmethod\n",
    "    def from_catalog(cls, table: pa.Table):\n",
    "        return [SingleBar.from_dict(d) for d in table.to_pylist()]\n",
    "\n",
    "    @classmethod\n",
    "    def schema(cls):\n",
    "        return pa.schema(\n",
    "            {\n",
    "                \"price\": pa.float64(),\n",
    "                \"ts_event\": pa.int64(),\n",
    "                \"ts_init\": pa.int64()\n",
    "            }\n",
    "        )"
   ]
  },
  {
   "cell_type": "code",
   "execution_count": 31,
   "metadata": {},
   "outputs": [
    {
     "data": {
      "text/plain": [
       "[SingleBar(price=243.08, ts_event=2023-01-03T09:30:00.000Z, ts_init=2023-01-03T09:30:00.000Z, ,\n",
       " SingleBar(price=239.79, ts_event=2023-01-03T10:30:00.000Z, ts_init=2023-01-03T10:30:00.000Z, ,\n",
       " SingleBar(price=238.36, ts_event=2023-01-03T11:30:00.000Z, ts_init=2023-01-03T11:30:00.000Z, ,\n",
       " SingleBar(price=238.15, ts_event=2023-01-03T12:30:00.000Z, ts_init=2023-01-03T12:30:00.000Z, ,\n",
       " SingleBar(price=238.44, ts_event=2023-01-03T13:30:00.000Z, ts_init=2023-01-03T13:30:00.000Z, ]"
      ]
     },
     "execution_count": 31,
     "metadata": {},
     "output_type": "execute_result"
    }
   ],
   "source": [
    "def build_bar(price, ts_event, ts_init, price_precision=2):\n",
    "    return SingleBar(\n",
    "        price=price,\n",
    "        ts_event=ts_event,\n",
    "        ts_init=ts_init\n",
    "    )\n",
    "\n",
    "bars = list(map(build_bar, msft_ts.Price, ts_event, ts_init))\n",
    "bars[:5]"
   ]
  },
  {
   "cell_type": "code",
   "execution_count": 32,
   "metadata": {},
   "outputs": [],
   "source": [
    "from nautilus_trader.serialization.base import register_serializable_type\n",
    "from nautilus_trader.serialization.arrow.serializer import register_arrow\n",
    "\n",
    "register_serializable_type(SingleBar, SingleBar.to_dict, SingleBar.from_dict)\n",
    "register_arrow(SingleBar, SingleBar.schema(), SingleBar.to_catalog, SingleBar.from_catalog)"
   ]
  },
  {
   "cell_type": "code",
   "execution_count": 33,
   "metadata": {},
   "outputs": [],
   "source": [
    "# create path and clear if it exists\n",
    "CATALOG_PATH = Path.cwd() / \"Data\" / \"MSFT2023catalog\"\n",
    "\n",
    "if CATALOG_PATH.exists():\n",
    "    shutil.rmtree(CATALOG_PATH)\n",
    "CATALOG_PATH.mkdir(parents=True)\n",
    "\n",
    "# create catalog\n",
    "catalog = ParquetDataCatalog(CATALOG_PATH)\n",
    "\n",
    "# write to catalog\n",
    "catalog.write_data([MSFT_SIM])\n",
    "catalog.write_data(bars)\n",
    "\n",
    "instrument = catalog.instruments()[0]"
   ]
  },
  {
   "cell_type": "code",
   "execution_count": 34,
   "metadata": {},
   "outputs": [
    {
     "data": {
      "text/plain": [
       "Equity(id=MSFT.SIM, raw_symbol=MSFT, asset_class=EQUITY, instrument_class=SPOT, quote_currency=USD, is_inverse=False, price_precision=2, price_increment=0.01, size_precision=0, size_increment=1, multiplier=1, lot_size=100, margin_init=0, margin_maint=0, maker_fee=0, taker_fee=0, info=None)"
      ]
     },
     "execution_count": 34,
     "metadata": {},
     "output_type": "execute_result"
    }
   ],
   "source": [
    "instrument"
   ]
  }
 ],
 "metadata": {
  "kernelspec": {
   "display_name": "qfi",
   "language": "python",
   "name": "python3"
  },
  "language_info": {
   "codemirror_mode": {
    "name": "ipython",
    "version": 3
   },
   "file_extension": ".py",
   "mimetype": "text/x-python",
   "name": "python",
   "nbconvert_exporter": "python",
   "pygments_lexer": "ipython3",
   "version": "3.12.4"
  }
 },
 "nbformat": 4,
 "nbformat_minor": 2
}
