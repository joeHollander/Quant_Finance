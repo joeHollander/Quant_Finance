{
 "cells": [
  {
   "cell_type": "code",
   "execution_count": 14,
   "metadata": {},
   "outputs": [
    {
     "name": "stderr",
     "output_type": "stream",
     "text": [
      "[*********************100%***********************]  1 of 1 completed\n"
     ]
    }
   ],
   "source": [
    "# normal imports\n",
    "import time\n",
    "import pandas as pd\n",
    "import numpy as np\n",
    "import datetime as dt\n",
    "import yfinance as yf\n",
    "from datetime import datetime\n",
    "from decimal import Decimal\n",
    "\n",
    "# nautilus trader imports\n",
    "from nautilus_trader.backtest.engine import BacktestEngine, BacktestEngineConfig\n",
    "from nautilus_trader.model.currencies import USD\n",
    "from nautilus_trader.model.enums import AccountType, OmsType\n",
    "from nautilus_trader.model.identifiers import Venue, ClientId\n",
    "from nautilus_trader.model.objects import Money\n",
    "from nautilus_trader.persistence.wranglers import BarDataWrangler, TradeTickDataWrangler\n",
    "from nautilus_trader.test_kit.providers import TestInstrumentProvider, TestDataProvider\n",
    "from nautilus_trader.config import StrategyConfig\n",
    "from nautilus_trader.model.identifiers import InstrumentId\n",
    "from nautilus_trader.model.instruments import Instrument\n",
    "from nautilus_trader.model.orders.list import OrderList\n",
    "from nautilus_trader.trading.strategy import Strategy\n",
    "from nautilus_trader.config import LoggingConfig\n",
    "from nautilus_trader.model.data import Bar, BarSpecification, BarType\n",
    "from nautilus_trader.model.enums import OrderSide, PositionSide, TimeInForce\n",
    "from nautilus_trader.persistence.wranglers import BarDataWrangler\n",
    "from BasicMRStrategy import BasicMR, BasicMRConfig\n",
    "from nautilus_trader.backtest.node import BacktestNode, BacktestVenueConfig, BacktestDataConfig, BacktestRunConfig, BacktestEngineConfig\n",
    "from nautilus_trader.config import ImportableStrategyConfig,  ImportableActorConfig, StreamingConfig\n",
    "from nautilus_trader.persistence.catalog import ParquetDataCatalog\n",
    "from nautilus_trader.model.enums import AggregationSource\n",
    "from nautilus_trader.core.datetime import dt_to_unix_nanos\n",
    "from util import yf_to_timeseries\n",
    "from nautilus_trader.core.data import Data\n",
    "\n",
    "from itertools import repeat\n",
    "from nautilus_trader.model.objects import Price\n",
    "\n",
    "# other file related imports\n",
    "from pathlib import Path\n",
    "import fsspec \n",
    "import shutil"
   ]
  },
  {
   "cell_type": "code",
   "execution_count": null,
   "metadata": {},
   "outputs": [],
   "source": [
    "# creating instrument\n",
    "MSFT_SIM = TestInstrumentProvider.equity(symbol=\"MSFT\", venue=\"SIM\")\n",
    "\n",
    "# downloading data\n",
    "start_str = \"2023-01-01\"\n",
    "end_str = \"2023-01-31\"\n",
    "\n",
    "msft_df = yf.download(\"MSFT\", start=start_str, end=end_str, interval=\"1h\")\n",
    "msft_ts = yf_to_timeseries(msft_df, 7)\n",
    "\n",
    "\n",
    "# processing data\n",
    "bartype = BarType.from_str(\"MSFT.SIM-1-HOUR-LAST-EXTERNAL\")"
   ]
  },
  {
   "cell_type": "code",
   "execution_count": 16,
   "metadata": {},
   "outputs": [],
   "source": [
    "ts_event = msft_ts.index.view(np.uint64)\n",
    "ts_init = ts_event.copy()"
   ]
  },
  {
   "cell_type": "code",
   "execution_count": 18,
   "metadata": {},
   "outputs": [],
   "source": [
    "msft_ts.rename(columns={'Price': 'price'}, inplace=True)\n",
    "msft_ts[\"quantity\"] = np.ones(len(msft_ts))\n",
    "msft_ts[\"trade_id\"] = np.arange(len(msft_ts))\n",
    "\n",
    "wrangler = TradeTickDataWrangler(instrument=MSFT_SIM)"
   ]
  },
  {
   "cell_type": "code",
   "execution_count": 23,
   "metadata": {},
   "outputs": [],
   "source": [
    "ticks = wrangler.process(msft_ts, ts_init_delta=0)"
   ]
  },
  {
   "cell_type": "code",
   "execution_count": 25,
   "metadata": {},
   "outputs": [],
   "source": [
    "engine = BacktestEngine()\n",
    "\n",
    "SIM = Venue(\"SIM\")\n",
    "engine.add_venue(\n",
    "    venue=SIM,\n",
    "    oms_type=OmsType.HEDGING,\n",
    "    account_type=AccountType.CASH,\n",
    "    starting_balances=[Money(1_000_000, USD)]\n",
    ")"
   ]
  },
  {
   "cell_type": "code",
   "execution_count": 26,
   "metadata": {},
   "outputs": [],
   "source": [
    "engine.add_instrument(MSFT_SIM)\n",
    "engine.add_data(ticks)"
   ]
  },
  {
   "cell_type": "code",
   "execution_count": 28,
   "metadata": {},
   "outputs": [],
   "source": [
    "from BasicMRStrategy import BasicMR, BasicMRConfig\n",
    "\n",
    "strategy_config = BasicMRConfig(\n",
    "    instrument_id=MSFT_SIM.id,\n",
    "    bar_type=bartype,\n",
    "    trade_size=Decimal(1)\n",
    ")\n",
    "strategy = BasicMR(strategy_config)\n",
    "engine.add_strategy(strategy)"
   ]
  },
  {
   "cell_type": "code",
   "execution_count": 32,
   "metadata": {},
   "outputs": [
    {
     "data": {
      "text/html": [
       "<div>\n",
       "<style scoped>\n",
       "    .dataframe tbody tr th:only-of-type {\n",
       "        vertical-align: middle;\n",
       "    }\n",
       "\n",
       "    .dataframe tbody tr th {\n",
       "        vertical-align: top;\n",
       "    }\n",
       "\n",
       "    .dataframe thead th {\n",
       "        text-align: right;\n",
       "    }\n",
       "</style>\n",
       "<table border=\"1\" class=\"dataframe\">\n",
       "  <thead>\n",
       "    <tr style=\"text-align: right;\">\n",
       "      <th></th>\n",
       "    </tr>\n",
       "  </thead>\n",
       "  <tbody>\n",
       "  </tbody>\n",
       "</table>\n",
       "</div>"
      ],
      "text/plain": [
       "Empty DataFrame\n",
       "Columns: []\n",
       "Index: []"
      ]
     },
     "execution_count": 32,
     "metadata": {},
     "output_type": "execute_result"
    }
   ],
   "source": [
    "engine.run()"
   ]
  },
  {
   "cell_type": "code",
   "execution_count": 39,
   "metadata": {},
   "outputs": [],
   "source": [
    "# venue config\n",
    "venues = [\n",
    "    BacktestVenueConfig(\n",
    "        name=\"SIM\",\n",
    "        oms_type=\"NETTING\",\n",
    "        account_type=\"CASH\",\n",
    "        base_currency=\"USD\",\n",
    "        starting_balances=[\"1_000_000 USD\"],\n",
    "    ),\n",
    "]\n",
    "\n",
    "\n",
    "start = dt_to_unix_nanos(pd.Timestamp(start_str, tz=\"EST\"))\n",
    "end =  dt_to_unix_nanos(pd.Timestamp(end_str, tz=\"EST\"))\n",
    "\n",
    "# data config\n",
    "data = [\n",
    "    BacktestDataConfig(\n",
    "        catalog_path=str(CATALOG_PATH),\n",
    "        data_cls=\"bar\",\n",
    "        instrument_id=instrument.id,\n",
    "        start_time=start,\n",
    "        end_time=end,\n",
    "    ),\n",
    "]\n",
    "# strategy \n",
    "strategy = ImportableStrategyConfig(\n",
    "        strategy_path=\"BasicMRStrategy:BasicMR\",\n",
    "        config_path=\"BasicMRStrategy:BasicMRConfig\",\n",
    "        config=dict(\n",
    "            instrument_id=instrument.id,\n",
    "            bar_type=bartype,\n",
    "            trade_size=Decimal(10_000),\n",
    "        ),\n",
    "    )\n",
    "\n",
    "# create engine config\n",
    "engine = BacktestEngineConfig(\n",
    "        trader_id=\"BACKTESTER-001\",\n",
    "        strategies=[strategy])\n",
    "\n",
    "\n",
    "# backtest config\n",
    "run_config = BacktestRunConfig(engine=engine, venues=venues, data=data)\n",
    "node = BacktestNode(configs=[run_config])\n",
    "\n",
    "results = node.run()"
   ]
  }
 ],
 "metadata": {
  "kernelspec": {
   "display_name": "qfi",
   "language": "python",
   "name": "python3"
  },
  "language_info": {
   "codemirror_mode": {
    "name": "ipython",
    "version": 3
   },
   "file_extension": ".py",
   "mimetype": "text/x-python",
   "name": "python",
   "nbconvert_exporter": "python",
   "pygments_lexer": "ipython3",
   "version": "3.12.4"
  }
 },
 "nbformat": 4,
 "nbformat_minor": 2
}
