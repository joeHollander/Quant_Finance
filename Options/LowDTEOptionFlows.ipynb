{
 "cells": [
  {
   "cell_type": "code",
   "execution_count": 1,
   "metadata": {},
   "outputs": [],
   "source": [
    "import pandas as pd\n",
    "import numpy as np\n",
    "import matplotlib.pyplot as plt\n",
    "import matplotlib.dates as mdates\n",
    "from datetime import timedelta\n",
    "import datetime as dt\n",
    "import heapq "
   ]
  },
  {
   "cell_type": "code",
   "execution_count": 2,
   "metadata": {},
   "outputs": [],
   "source": [
    "# loading data\n",
    "path = r\"Data\\AAPL_options.csv\"\n",
    "options_df = pd.read_csv(path, parse_dates=[\"date\", \"expiration date\"])"
   ]
  },
  {
   "cell_type": "code",
   "execution_count": 3,
   "metadata": {},
   "outputs": [],
   "source": [
    "# standardizing column naming \n",
    "options_df.columns = [x.lower().replace(\" \", \"_\") for x in options_df.columns]\n",
    "original_options_df = options_df.copy()"
   ]
  },
  {
   "cell_type": "code",
   "execution_count": 4,
   "metadata": {},
   "outputs": [],
   "source": [
    "# concatenating call and put rows for the same price    \n",
    "# call mid, put mid are columns 16 and 17 respectively\n",
    "options_df[\"call_bid\"] = 0\n",
    "options_df[\"put_bid\"] = 0\n",
    "options_df[\"call_ask\"] = 0 \n",
    "options_df[\"put_ask\"] = 0\n",
    "options_df[\"call_open_interest\"] = 0\n",
    "options_df[\"put_open_interest\"] = 0\n",
    "options_df[\"call_volume\"] = 0\n",
    "options_df[\"put_volume\"] = 0\n",
    "options_df[\"call_bid_size\"] = 0\n",
    "options_df[\"put_bid_size\"] = 0\n",
    "options_df[\"call_ask_size\"] = 0\n",
    "options_df[\"put_ask_size\"] = 0\n",
    "    \n",
    "# boolean masks for call and put options in every second row\n",
    "call_mask = (options_df.iloc[::2, 2] == \"call\").values\n",
    "put_mask = (options_df.iloc[::2, 2] == \"put\").values\n",
    "\n",
    "# indices of every second row\n",
    "indices = np.arange(0, options_df.shape[0], 2)"
   ]
  },
  {
   "cell_type": "code",
   "execution_count": 5,
   "metadata": {},
   "outputs": [
    {
     "name": "stdout",
     "output_type": "stream",
     "text": [
      "0: date, 1: expiration_date, 2: type, 3: strike_price, 4: ask_price, 5: ask_size, 6: bid_price,\n",
      "7: bid_size, 8: last_price, 9: volume, 10: open_interest, 11: closing_price, 12: exp_closing_price,\n",
      "13: date_div, 14: exp_date_div, 15: call_bid, 16: put_bid, 17: call_ask, 18: put_ask,\n",
      "19: call_open_interest, 20: put_open_interest, 21: call_volume, 22: put_volume, 23: call_bid_size, 24: put_bid_size,\n",
      "25: call_ask_size, 26: put_ask_size, "
     ]
    }
   ],
   "source": [
    "def line_break(index):\n",
    "        if index % 6 == 0 and index != 0:\n",
    "            return None\n",
    "        else: \n",
    "            return \" \"\n",
    "\n",
    "for idx, i in enumerate(options_df.columns):\n",
    "    print(f\"{idx}: {i},\", end=line_break(idx))"
   ]
  },
  {
   "cell_type": "code",
   "execution_count": 6,
   "metadata": {},
   "outputs": [
    {
     "data": {
      "text/plain": [
       "27"
      ]
     },
     "execution_count": 6,
     "metadata": {},
     "output_type": "execute_result"
    }
   ],
   "source": [
    "len(options_df.columns)"
   ]
  },
  {
   "cell_type": "code",
   "execution_count": 7,
   "metadata": {},
   "outputs": [
    {
     "name": "stderr",
     "output_type": "stream",
     "text": [
      "C:\\Users\\hollanderj\\AppData\\Local\\Temp\\ipykernel_7188\\2168356756.py:7: FutureWarning: Setting an item of incompatible dtype is deprecated and will raise an error in a future version of pandas. Value '[11.3     5.05    2.325  ...  5.375   4.75    0.4875]' has dtype incompatible with int64, please explicitly cast to a compatible dtype first.\n",
      "  options_df.iloc[indices[call_mask], i] = options_df.iloc[indices[call_mask], list(options_df.columns).index(assignment_list[i-15])]\n",
      "C:\\Users\\hollanderj\\AppData\\Local\\Temp\\ipykernel_7188\\2168356756.py:9: FutureWarning: Setting an item of incompatible dtype is deprecated and will raise an error in a future version of pandas. Value '[0.00000e+00 2.50000e-03 1.75000e-02 ... 2.80000e+00 3.27500e+00\n",
      " 1.46625e+01]' has dtype incompatible with int64, please explicitly cast to a compatible dtype first.\n",
      "  options_df.iloc[indices[call_mask], i + 1] = options_df.iloc[indices[call_mask] + 1, list(options_df.columns).index(assignment_list[i-15])]\n",
      "C:\\Users\\hollanderj\\AppData\\Local\\Temp\\ipykernel_7188\\2168356756.py:9: FutureWarning: Setting an item of incompatible dtype is deprecated and will raise an error in a future version of pandas. Value '[0.00000e+00 2.50000e-03 1.75000e-02 ... 2.80000e+00 3.27500e+00\n",
      " 1.46625e+01]' has dtype incompatible with int64, please explicitly cast to a compatible dtype first.\n",
      "  options_df.iloc[indices[call_mask], i + 1] = options_df.iloc[indices[call_mask] + 1, list(options_df.columns).index(assignment_list[i-15])]\n",
      "C:\\Users\\hollanderj\\AppData\\Local\\Temp\\ipykernel_7188\\2168356756.py:9: FutureWarning: Setting an item of incompatible dtype is deprecated and will raise an error in a future version of pandas. Value '[5.00000e-03 5.00000e-03 2.00000e-02 ... 3.00000e+00 3.52500e+00\n",
      " 1.56875e+01]' has dtype incompatible with int64, please explicitly cast to a compatible dtype first.\n",
      "  options_df.iloc[indices[call_mask], i + 1] = options_df.iloc[indices[call_mask] + 1, list(options_df.columns).index(assignment_list[i-15])]\n",
      "C:\\Users\\hollanderj\\AppData\\Local\\Temp\\ipykernel_7188\\2168356756.py:9: FutureWarning: Setting an item of incompatible dtype is deprecated and will raise an error in a future version of pandas. Value '[5.00000e-03 5.00000e-03 2.00000e-02 ... 3.00000e+00 3.52500e+00\n",
      " 1.56875e+01]' has dtype incompatible with int64, please explicitly cast to a compatible dtype first.\n",
      "  options_df.iloc[indices[call_mask], i + 1] = options_df.iloc[indices[call_mask] + 1, list(options_df.columns).index(assignment_list[i-15])]\n"
     ]
    }
   ],
   "source": [
    "assignment_list = [\"bid_price\", \"bid_price\", \"ask_price\", \"ask_price\",\n",
    "                   \"open_interest\", \"open_interest\", \"volume\", \"volume\", \n",
    "                   \"bid_size\", \"bid_size\", \"ask_size\", \"ask_size\"]\n",
    "\n",
    "for i in range(15, len(options_df.columns)-1):\n",
    "    # call value assignment based on call mask\n",
    "    options_df.iloc[indices[call_mask], i] = options_df.iloc[indices[call_mask], list(options_df.columns).index(assignment_list[i-15])]\n",
    "    # put value assignment based on call mask\n",
    "    options_df.iloc[indices[call_mask], i + 1] = options_df.iloc[indices[call_mask] + 1, list(options_df.columns).index(assignment_list[i-15])]\n",
    "\n",
    "    # put value assignment based on put mask\n",
    "    options_df.iloc[indices[put_mask], i + 1] = options_df.iloc[indices[put_mask], list(options_df.columns).index(assignment_list[i-15])]\n",
    "    # call value assignment based on put mask\n",
    "    options_df.iloc[indices[put_mask], i] = options_df.iloc[indices[put_mask] + 1, list(options_df.columns).index(assignment_list[i-15])]"
   ]
  },
  {
   "cell_type": "code",
   "execution_count": 8,
   "metadata": {},
   "outputs": [],
   "source": [
    "# reducing rows to every other and fixing index\n",
    "options_df = options_df[options_df.index % 2 == 0]\n",
    "options_df.index = np.arange(0, len(options_df))"
   ]
  },
  {
   "cell_type": "code",
   "execution_count": 9,
   "metadata": {},
   "outputs": [],
   "source": [
    "# combining open interest and volume\n",
    "options_df[\"combined_oi\"] = options_df[\"call_open_interest\"] + options_df[\"put_open_interest\"]\n",
    "options_df[\"combined_volume\"] = options_df[\"call_volume\"] + options_df[\"put_volume\"]"
   ]
  },
  {
   "cell_type": "code",
   "execution_count": 10,
   "metadata": {},
   "outputs": [],
   "source": [
    "# creating DTE\n",
    "T = (options_df[\"expiration_date\"] - options_df[\"date\"]).dt.days\n",
    "options_df[\"DTE\"] = T"
   ]
  },
  {
   "cell_type": "code",
   "execution_count": 11,
   "metadata": {},
   "outputs": [
    {
     "data": {
      "text/plain": [
       "date                  2016-01-04 00:00:00\n",
       "expiration_date       2016-01-08 00:00:00\n",
       "type                                 call\n",
       "strike_price                         15.0\n",
       "ask_price                          11.375\n",
       "ask_size                             20.0\n",
       "bid_price                            11.3\n",
       "bid_size                             12.0\n",
       "last_price                            0.0\n",
       "volume                                0.0\n",
       "open_interest                         0.0\n",
       "closing_price                      26.337\n",
       "exp_closing_price                   24.24\n",
       "date_div                         0.085246\n",
       "exp_date_div                      0.09377\n",
       "call_bid                             11.3\n",
       "put_bid                              11.3\n",
       "call_ask                           11.375\n",
       "put_ask                            11.375\n",
       "call_open_interest                    0.0\n",
       "put_open_interest                       0\n",
       "call_volume                             0\n",
       "put_volume                              0\n",
       "call_bid_size                          12\n",
       "put_bid_size                           12\n",
       "call_ask_size                          20\n",
       "put_ask_size                         1400\n",
       "Name: 0, dtype: object"
      ]
     },
     "execution_count": 11,
     "metadata": {},
     "output_type": "execute_result"
    }
   ],
   "source": [
    "options_df.iloc[0, :-3]"
   ]
  },
  {
   "cell_type": "code",
   "execution_count": null,
   "metadata": {},
   "outputs": [
    {
     "data": {
      "text/html": [
       "<div>\n",
       "<style scoped>\n",
       "    .dataframe tbody tr th:only-of-type {\n",
       "        vertical-align: middle;\n",
       "    }\n",
       "\n",
       "    .dataframe tbody tr th {\n",
       "        vertical-align: top;\n",
       "    }\n",
       "\n",
       "    .dataframe thead th {\n",
       "        text-align: right;\n",
       "    }\n",
       "</style>\n",
       "<table border=\"1\" class=\"dataframe\">\n",
       "  <thead>\n",
       "    <tr style=\"text-align: right;\">\n",
       "      <th></th>\n",
       "      <th>date</th>\n",
       "      <th>expiration_date</th>\n",
       "      <th>strike_price</th>\n",
       "      <th>closing_price</th>\n",
       "      <th>call_bid</th>\n",
       "      <th>call_ask</th>\n",
       "      <th>call_bid_size</th>\n",
       "      <th>call_ask_size</th>\n",
       "      <th>call_open_interest</th>\n",
       "      <th>call_volume</th>\n",
       "      <th>DTE</th>\n",
       "    </tr>\n",
       "  </thead>\n",
       "  <tbody>\n",
       "    <tr>\n",
       "      <th>0</th>\n",
       "      <td>2016-01-04</td>\n",
       "      <td>2016-01-08</td>\n",
       "      <td>15.0</td>\n",
       "      <td>26.337</td>\n",
       "      <td>11.3</td>\n",
       "      <td>11.375</td>\n",
       "      <td>12</td>\n",
       "      <td>20</td>\n",
       "      <td>0.0</td>\n",
       "      <td>0</td>\n",
       "      <td>4</td>\n",
       "    </tr>\n",
       "  </tbody>\n",
       "</table>\n",
       "</div>"
      ],
      "text/plain": [
       "        date expiration_date  strike_price  closing_price  call_bid  call_ask  \\\n",
       "0 2016-01-04      2016-01-08          15.0         26.337      11.3    11.375   \n",
       "\n",
       "   call_bid_size  call_ask_size  call_open_interest  call_volume  DTE  \n",
       "0             12             20                 0.0            0    4  "
      ]
     },
     "execution_count": 16,
     "metadata": {},
     "output_type": "execute_result"
    }
   ],
   "source": [
    "# new df with just call columns\n",
    "call_columns_to_keep = [\"date\", \"expiration_date\", \"strike_price\", \n",
    "                        \"closing_price\", \"call_bid\", \"call_ask\", \"call_bid_size\",\n",
    "                        \"call_ask_size\", \"call_open_interest\", \"call_volume\", \"DTE\"]\n",
    "call_df = options_df[call_columns_to_keep]\n",
    "call_df.head(1)"
   ]
  },
  {
   "cell_type": "code",
   "execution_count": null,
   "metadata": {},
   "outputs": [
    {
     "data": {
      "text/html": [
       "<div>\n",
       "<style scoped>\n",
       "    .dataframe tbody tr th:only-of-type {\n",
       "        vertical-align: middle;\n",
       "    }\n",
       "\n",
       "    .dataframe tbody tr th {\n",
       "        vertical-align: top;\n",
       "    }\n",
       "\n",
       "    .dataframe thead th {\n",
       "        text-align: right;\n",
       "    }\n",
       "</style>\n",
       "<table border=\"1\" class=\"dataframe\">\n",
       "  <thead>\n",
       "    <tr style=\"text-align: right;\">\n",
       "      <th></th>\n",
       "      <th>date</th>\n",
       "      <th>expiration_date</th>\n",
       "      <th>strike_price</th>\n",
       "      <th>closing_price</th>\n",
       "      <th>put_bid</th>\n",
       "      <th>put_ask</th>\n",
       "      <th>put_bid_size</th>\n",
       "      <th>put_ask_size</th>\n",
       "      <th>put_open_interest</th>\n",
       "      <th>put_volume</th>\n",
       "      <th>DTE</th>\n",
       "    </tr>\n",
       "  </thead>\n",
       "  <tbody>\n",
       "    <tr>\n",
       "      <th>0</th>\n",
       "      <td>2016-01-04</td>\n",
       "      <td>2016-01-08</td>\n",
       "      <td>15.0</td>\n",
       "      <td>26.337</td>\n",
       "      <td>11.3</td>\n",
       "      <td>11.375</td>\n",
       "      <td>12</td>\n",
       "      <td>1400</td>\n",
       "      <td>0</td>\n",
       "      <td>0</td>\n",
       "      <td>4</td>\n",
       "    </tr>\n",
       "  </tbody>\n",
       "</table>\n",
       "</div>"
      ],
      "text/plain": [
       "        date expiration_date  strike_price  closing_price  put_bid  put_ask  \\\n",
       "0 2016-01-04      2016-01-08          15.0         26.337     11.3   11.375   \n",
       "\n",
       "   put_bid_size  put_ask_size  put_open_interest  put_volume  DTE  \n",
       "0            12          1400                  0           0    4  "
      ]
     },
     "execution_count": 17,
     "metadata": {},
     "output_type": "execute_result"
    }
   ],
   "source": [
    "# new df with just put columns\n",
    "put_columns_to_keep = [\"date\", \"expiration_date\", \"strike_price\", \n",
    "                        \"closing_price\", \"put_bid\", \"put_ask\", \"put_bid_size\",\n",
    "                        \"put_ask_size\", \"put_open_interest\", \"put_volume\", \"DTE\"]\n",
    "put_df = options_df[put_columns_to_keep]\n",
    "put_df.head(1)"
   ]
  },
  {
   "cell_type": "code",
   "execution_count": 22,
   "metadata": {},
   "outputs": [],
   "source": [
    "# removing unwanted (empty) bids and asks from calls and puts\n",
    "call_bid_mask = (call_df[\"call_bid\"] > 0) & (call_df[\"call_bid_size\"] > 0) \n",
    "call_ask_mask = (call_df[\"call_ask\"] > 0) & (call_df[\"call_ask_size\"] > 0 )\n",
    "call_df = call_df[call_bid_mask]\n",
    "\n",
    "put_bid_mask = (put_df[\"put_bid\"] > 0) & (put_df[\"put_bid_size\"] > 0)\n",
    "put_ask_mask = (put_df[\"put_ask\"] > 0) & (put_df[\"put_ask_size\"] > 0)\n",
    "put_df = put_df[put_bid_mask]"
   ]
  },
  {
   "cell_type": "code",
   "execution_count": 24,
   "metadata": {},
   "outputs": [
    {
     "data": {
      "text/plain": [
       "(136350, 136350)"
      ]
     },
     "execution_count": 24,
     "metadata": {},
     "output_type": "execute_result"
    }
   ],
   "source": [
    "len(call_df), len(put_df)"
   ]
  },
  {
   "cell_type": "code",
   "execution_count": null,
   "metadata": {},
   "outputs": [],
   "source": [
    "# creating new dataframe for date organization\n",
    "call_date_df = pd.DataFrame()\n",
    "\n",
    "# organizing based on dates\n",
    "for header in [\"DTE\", \"strike price\", \"closing price\", \"call mid\", \"put mid\", \"call_open_interest\", \"put_open_interest\", \"combined_oi\", \"combined_volume\"]:\n",
    "    df[header] = options_df.groupby(\"date\")[header].apply(np.array)\n",
    "\n",
    "# converting index to date column\n",
    "if \"date\" not in df.columns:\n",
    "    df = df.reset_index()\n",
    "\n",
    "df[\"date\"] = pd.to_datetime(df[\"date\"])\n",
    "df[\"terms\"] = df[\"DTE\"].apply(lambda x: sorted(set(x)))\n",
    "df.head(1)"
   ]
  },
  {
   "cell_type": "code",
   "execution_count": 43,
   "metadata": {},
   "outputs": [],
   "source": [
    "def organize_by_dates(old_df, columns, df):\n",
    "    for header in columns:\n",
    "        df[header] = old_df.groupby(\"date\")[header].apply(np.array)\n",
    "    \n",
    "    df[\"terms\"] = df[\"DTE\"].apply(lambda x: sorted(set(x)))\n",
    "    return df\n",
    "\n",
    "call_date_df = organize_by_dates(options_df, call_df.columns[call_df.columns != \"date\"], pd.DataFrame())\n",
    "put_date_df = organize_by_dates(options_df, put_df.columns[put_df.columns != \"date\"], pd.DataFrame())"
   ]
  },
  {
   "cell_type": "code",
   "execution_count": 44,
   "metadata": {},
   "outputs": [
    {
     "data": {
      "text/html": [
       "<div>\n",
       "<style scoped>\n",
       "    .dataframe tbody tr th:only-of-type {\n",
       "        vertical-align: middle;\n",
       "    }\n",
       "\n",
       "    .dataframe tbody tr th {\n",
       "        vertical-align: top;\n",
       "    }\n",
       "\n",
       "    .dataframe thead th {\n",
       "        text-align: right;\n",
       "    }\n",
       "</style>\n",
       "<table border=\"1\" class=\"dataframe\">\n",
       "  <thead>\n",
       "    <tr style=\"text-align: right;\">\n",
       "      <th></th>\n",
       "      <th>expiration_date</th>\n",
       "      <th>strike_price</th>\n",
       "      <th>closing_price</th>\n",
       "      <th>call_bid</th>\n",
       "      <th>call_ask</th>\n",
       "      <th>call_bid_size</th>\n",
       "      <th>call_ask_size</th>\n",
       "      <th>call_open_interest</th>\n",
       "      <th>call_volume</th>\n",
       "      <th>DTE</th>\n",
       "      <th>terms</th>\n",
       "    </tr>\n",
       "    <tr>\n",
       "      <th>date</th>\n",
       "      <th></th>\n",
       "      <th></th>\n",
       "      <th></th>\n",
       "      <th></th>\n",
       "      <th></th>\n",
       "      <th></th>\n",
       "      <th></th>\n",
       "      <th></th>\n",
       "      <th></th>\n",
       "      <th></th>\n",
       "      <th></th>\n",
       "    </tr>\n",
       "  </thead>\n",
       "  <tbody>\n",
       "    <tr>\n",
       "      <th>2016-01-04</th>\n",
       "      <td>[2016-01-08T00:00:00.000000000, 2016-01-08T00:...</td>\n",
       "      <td>[15.0, 16.25, 17.5, 18.75, 20.0, 21.25, 22.5, ...</td>\n",
       "      <td>[26.337, 26.337, 26.337, 26.337, 26.337, 26.33...</td>\n",
       "      <td>[11.3, 10.05, 8.8, 7.55, 6.3, 5.05, 3.8, 3.562...</td>\n",
       "      <td>[11.375, 10.125, 8.875, 7.625, 6.375, 5.1075, ...</td>\n",
       "      <td>[12, 12, 20, 20, 80, 196, 2644, 100, 128, 128,...</td>\n",
       "      <td>[20, 20, 20, 20, 76, 24, 1848, 72, 56, 68, 44,...</td>\n",
       "      <td>[0.0, 0.0, 0.0, 0.0, 4.0, 8.0, 972.0, 0.0, 0.0...</td>\n",
       "      <td>[0, 0, 0, 0, 0, 0, 52, 0, 4, 0, 0, 324, 88, 44...</td>\n",
       "      <td>[4, 4, 4, 4, 4, 4, 4, 4, 4, 4, 4, 4, 4, 4, 4, ...</td>\n",
       "      <td>[4, 11, 18, 25, 32, 39, 46, 74, 102, 165, 193,...</td>\n",
       "    </tr>\n",
       "  </tbody>\n",
       "</table>\n",
       "</div>"
      ],
      "text/plain": [
       "                                              expiration_date  \\\n",
       "date                                                            \n",
       "2016-01-04  [2016-01-08T00:00:00.000000000, 2016-01-08T00:...   \n",
       "\n",
       "                                                 strike_price  \\\n",
       "date                                                            \n",
       "2016-01-04  [15.0, 16.25, 17.5, 18.75, 20.0, 21.25, 22.5, ...   \n",
       "\n",
       "                                                closing_price  \\\n",
       "date                                                            \n",
       "2016-01-04  [26.337, 26.337, 26.337, 26.337, 26.337, 26.33...   \n",
       "\n",
       "                                                     call_bid  \\\n",
       "date                                                            \n",
       "2016-01-04  [11.3, 10.05, 8.8, 7.55, 6.3, 5.05, 3.8, 3.562...   \n",
       "\n",
       "                                                     call_ask  \\\n",
       "date                                                            \n",
       "2016-01-04  [11.375, 10.125, 8.875, 7.625, 6.375, 5.1075, ...   \n",
       "\n",
       "                                                call_bid_size  \\\n",
       "date                                                            \n",
       "2016-01-04  [12, 12, 20, 20, 80, 196, 2644, 100, 128, 128,...   \n",
       "\n",
       "                                                call_ask_size  \\\n",
       "date                                                            \n",
       "2016-01-04  [20, 20, 20, 20, 76, 24, 1848, 72, 56, 68, 44,...   \n",
       "\n",
       "                                           call_open_interest  \\\n",
       "date                                                            \n",
       "2016-01-04  [0.0, 0.0, 0.0, 0.0, 4.0, 8.0, 972.0, 0.0, 0.0...   \n",
       "\n",
       "                                                  call_volume  \\\n",
       "date                                                            \n",
       "2016-01-04  [0, 0, 0, 0, 0, 0, 52, 0, 4, 0, 0, 324, 88, 44...   \n",
       "\n",
       "                                                          DTE  \\\n",
       "date                                                            \n",
       "2016-01-04  [4, 4, 4, 4, 4, 4, 4, 4, 4, 4, 4, 4, 4, 4, 4, ...   \n",
       "\n",
       "                                                        terms  \n",
       "date                                                           \n",
       "2016-01-04  [4, 11, 18, 25, 32, 39, 46, 74, 102, 165, 193,...  "
      ]
     },
     "execution_count": 44,
     "metadata": {},
     "output_type": "execute_result"
    }
   ],
   "source": [
    "call_date_df.head(1)"
   ]
  },
  {
   "cell_type": "code",
   "execution_count": null,
   "metadata": {},
   "outputs": [],
   "source": []
  }
 ],
 "metadata": {
  "kernelspec": {
   "display_name": "qfi",
   "language": "python",
   "name": "python3"
  },
  "language_info": {
   "codemirror_mode": {
    "name": "ipython",
    "version": 3
   },
   "file_extension": ".py",
   "mimetype": "text/x-python",
   "name": "python",
   "nbconvert_exporter": "python",
   "pygments_lexer": "ipython3",
   "version": "3.12.4"
  }
 },
 "nbformat": 4,
 "nbformat_minor": 2
}
