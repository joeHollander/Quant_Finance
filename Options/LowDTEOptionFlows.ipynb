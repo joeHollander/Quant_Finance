{
 "cells": [
  {
   "cell_type": "code",
   "execution_count": 21,
   "metadata": {},
   "outputs": [],
   "source": [
    "import pandas as pd\n",
    "import numpy as np\n",
    "import matplotlib.pyplot as plt\n",
    "import matplotlib.dates as mdates\n",
    "from datetime import timedelta\n",
    "import datetime as dt\n",
    "import heapq "
   ]
  },
  {
   "cell_type": "code",
   "execution_count": 22,
   "metadata": {},
   "outputs": [],
   "source": [
    "# loading data\n",
    "path = r\"Data\\CVX_options.csv\"\n",
    "options_df = pd.read_csv(path, parse_dates=[\"date\", \"expiration date\"])"
   ]
  },
  {
   "cell_type": "code",
   "execution_count": 23,
   "metadata": {},
   "outputs": [],
   "source": [
    "# standardizing column naming \n",
    "options_df.columns = [x.lower().replace(\" \", \"_\") for x in options_df.columns]"
   ]
  },
  {
   "cell_type": "code",
   "execution_count": 24,
   "metadata": {},
   "outputs": [],
   "source": [
    "# concatenating call and put rows for the same price    \n",
    "# call mid, put mid are columns 16 and 17 respectively\n",
    "options_df[\"call_bid\"] = 0\n",
    "options_df[\"put_bid\"] = 0\n",
    "options_df[\"call_ask\"] = 0 \n",
    "options_df[\"put_ask\"] = 0\n",
    "options_df[\"call_open_interest\"] = 0\n",
    "options_df[\"put_open_interest\"] = 0\n",
    "options_df[\"call_volume\"] = 0\n",
    "options_df[\"put_volume\"] = 0\n",
    "options_df[\"call_size\"] = False\n",
    "options_df[\"put_size\"] = False\n",
    "    \n",
    "# boolean masks for call and put options in every second row\n",
    "call_mask = (options_df.iloc[::2, 2] == \"call\").values\n",
    "put_mask = (options_df.iloc[::2, 2] == \"put\").values\n",
    "\n",
    "# indices of every second row\n",
    "indices = np.arange(0, options_df.shape[0], 2)"
   ]
  },
  {
   "cell_type": "code",
   "execution_count": 25,
   "metadata": {},
   "outputs": [
    {
     "name": "stdout",
     "output_type": "stream",
     "text": [
      "0: date, 1: expiration_date, 2: type, 3: strike_price, 4: ask_price, 5: ask_size, 6: bid_price,\n",
      "7: bid_size, 8: last_price, 9: volume, 10: open_interest, 11: closing_price, 12: exp_closing_price,\n",
      "13: date_div, 14: exp_date_div, 15: call_bid, 16: put_bid, 17: call_ask, 18: put_ask,\n",
      "19: call_open_interest, 20: put_open_interest, 21: call_volume, 22: put_volume, 23: call_size, 24: put_size,\n"
     ]
    }
   ],
   "source": [
    "def line_break(index):\n",
    "        if index % 6 == 0 and index != 0:\n",
    "            return None\n",
    "        else: \n",
    "            return \" \"\n",
    "\n",
    "for idx, i in enumerate(options_df.columns):\n",
    "    print(f\"{idx}: {i},\", end=line_break(idx))"
   ]
  },
  {
   "cell_type": "code",
   "execution_count": 26,
   "metadata": {},
   "outputs": [
    {
     "name": "stderr",
     "output_type": "stream",
     "text": [
      "C:\\Users\\semic\\AppData\\Local\\Temp\\ipykernel_32544\\4246586470.py:6: FutureWarning: Setting an item of incompatible dtype is deprecated and will raise an error in a future version of pandas. Value '[41.65 12.15  7.1  ...  8.3   6.35  0.43]' has dtype incompatible with int64, please explicitly cast to a compatible dtype first.\n",
      "  options_df.iloc[indices[call_mask], i] = options_df.iloc[indices[call_mask], list(options_df.columns).index(assignment_list[i-16])]\n",
      "C:\\Users\\semic\\AppData\\Local\\Temp\\ipykernel_32544\\4246586470.py:8: FutureWarning: Setting an item of incompatible dtype is deprecated and will raise an error in a future version of pandas. Value '[0.00e+00 1.00e-02 5.00e-02 ... 1.97e+01 2.28e+01 5.37e+01]' has dtype incompatible with int64, please explicitly cast to a compatible dtype first.\n",
      "  options_df.iloc[indices[call_mask], i + 1] = options_df.iloc[indices[call_mask] + 1, list(options_df.columns).index(assignment_list[i-16])]\n",
      "C:\\Users\\semic\\AppData\\Local\\Temp\\ipykernel_32544\\4246586470.py:8: FutureWarning: Setting an item of incompatible dtype is deprecated and will raise an error in a future version of pandas. Value '[0.00e+00 1.00e-02 5.00e-02 ... 1.97e+01 2.28e+01 5.37e+01]' has dtype incompatible with int64, please explicitly cast to a compatible dtype first.\n",
      "  options_df.iloc[indices[call_mask], i + 1] = options_df.iloc[indices[call_mask] + 1, list(options_df.columns).index(assignment_list[i-16])]\n",
      "C:\\Users\\semic\\AppData\\Local\\Temp\\ipykernel_32544\\4246586470.py:8: FutureWarning: Setting an item of incompatible dtype is deprecated and will raise an error in a future version of pandas. Value '[2.50e-01 5.00e-02 8.00e-02 ... 2.07e+01 2.39e+01 5.85e+01]' has dtype incompatible with int64, please explicitly cast to a compatible dtype first.\n",
      "  options_df.iloc[indices[call_mask], i + 1] = options_df.iloc[indices[call_mask] + 1, list(options_df.columns).index(assignment_list[i-16])]\n",
      "C:\\Users\\semic\\AppData\\Local\\Temp\\ipykernel_32544\\4246586470.py:8: FutureWarning: Setting an item of incompatible dtype is deprecated and will raise an error in a future version of pandas. Value '[2.50e-01 5.00e-02 8.00e-02 ... 2.07e+01 2.39e+01 5.85e+01]' has dtype incompatible with int64, please explicitly cast to a compatible dtype first.\n",
      "  options_df.iloc[indices[call_mask], i + 1] = options_df.iloc[indices[call_mask] + 1, list(options_df.columns).index(assignment_list[i-16])]\n"
     ]
    }
   ],
   "source": [
    "assignment_list = [\"bid_price\", \"bid_price\", \"ask_price\", \"ask_price\",\n",
    "                   \"open_interest\", \"open_interest\", \"volume\", \"volume\"]\n",
    "\n",
    "for i in range(16, 21):\n",
    "    # call value assignment based on call mask\n",
    "    options_df.iloc[indices[call_mask], i] = options_df.iloc[indices[call_mask], list(options_df.columns).index(assignment_list[i-16])]\n",
    "    # put value assignment based on call mask\n",
    "    options_df.iloc[indices[call_mask], i + 1] = options_df.iloc[indices[call_mask] + 1, list(options_df.columns).index(assignment_list[i-16])]\n",
    "\n",
    "    # put value assignment based on put mask\n",
    "    options_df.iloc[indices[put_mask], i] = options_df.iloc[indices[put_mask], list(options_df.columns).index(assignment_list[i-16])]\n",
    "    # call value assignment based on put mask\n",
    "    options_df.iloc[indices[put_mask], i + 1] = options_df.iloc[indices[put_mask] + 1, list(options_df.columns).index(assignment_list[i-16])]"
   ]
  },
  {
   "cell_type": "code",
   "execution_count": 27,
   "metadata": {},
   "outputs": [],
   "source": [
    "# bool values if size exists \n",
    "# bid size and ask size col\n",
    "as_col, bs_col = 6, 8\n",
    "\n",
    "# call size assignment based on call mask\n",
    "options_df.iloc[indices[call_mask], 23] = (options_df.iloc[indices[call_mask], as_col] > 0) & (options_df.iloc[indices[call_mask], bs_col] > 0)\n",
    "# put size assignment based on call mask\n",
    "options_df.iloc[indices[call_mask], 24] = (options_df.iloc[indices[call_mask], as_col] > 0) & (options_df.iloc[indices[call_mask], bs_col] > 0)                                                                                  \n",
    "\n",
    "# call size assignment based on put mask\n",
    "options_df.iloc[indices[put_mask], 24] = (options_df.iloc[indices[put_mask], as_col] > 0) & (options_df.iloc[indices[put_mask], bs_col] > 0)\n",
    "# put size assignment based on put mask\n",
    "options_df.iloc[indices[put_mask], 23] = (options_df.iloc[indices[put_mask], as_col] > 0) & (options_df.iloc[indices[put_mask], bs_col] > 0)     "
   ]
  },
  {
   "cell_type": "code",
   "execution_count": 28,
   "metadata": {},
   "outputs": [],
   "source": [
    "# reducing rows to every other and fixing index\n",
    "options_df = options_df[options_df.index % 2 == 0]\n",
    "options_df.index = np.arange(0, len(options_df))"
   ]
  },
  {
   "cell_type": "code",
   "execution_count": 29,
   "metadata": {},
   "outputs": [],
   "source": [
    "# combining open interest and volume\n",
    "options_df[\"combined_oi\"] = options_df[\"call_open_interest\"] + options_df[\"put_open_interest\"]\n",
    "options_df[\"combined_volume\"] = options_df[\"call_volume\"] + options_df[\"put_volume\"]"
   ]
  },
  {
   "cell_type": "code",
   "execution_count": 30,
   "metadata": {},
   "outputs": [],
   "source": [
    "# creating DTE\n",
    "T = (options_df[\"expiration_date\"] - options_df[\"date\"]).dt.days\n",
    "options_df[\"DTE\"] = T"
   ]
  },
  {
   "cell_type": "code",
   "execution_count": 31,
   "metadata": {},
   "outputs": [
    {
     "data": {
      "text/html": [
       "<div>\n",
       "<style scoped>\n",
       "    .dataframe tbody tr th:only-of-type {\n",
       "        vertical-align: middle;\n",
       "    }\n",
       "\n",
       "    .dataframe tbody tr th {\n",
       "        vertical-align: top;\n",
       "    }\n",
       "\n",
       "    .dataframe thead th {\n",
       "        text-align: right;\n",
       "    }\n",
       "</style>\n",
       "<table border=\"1\" class=\"dataframe\">\n",
       "  <thead>\n",
       "    <tr style=\"text-align: right;\">\n",
       "      <th></th>\n",
       "      <th>call_bid</th>\n",
       "      <th>put_bid</th>\n",
       "      <th>call_ask</th>\n",
       "      <th>put_ask</th>\n",
       "      <th>call_open_interest</th>\n",
       "      <th>put_open_interest</th>\n",
       "      <th>call_volume</th>\n",
       "      <th>put_volume</th>\n",
       "      <th>call_size</th>\n",
       "      <th>put_size</th>\n",
       "      <th>combined_oi</th>\n",
       "      <th>combined_volume</th>\n",
       "      <th>DTE</th>\n",
       "    </tr>\n",
       "  </thead>\n",
       "  <tbody>\n",
       "    <tr>\n",
       "      <th>0</th>\n",
       "      <td>0</td>\n",
       "      <td>41.65</td>\n",
       "      <td>41.65</td>\n",
       "      <td>45.50</td>\n",
       "      <td>45.50</td>\n",
       "      <td>0.0</td>\n",
       "      <td>0</td>\n",
       "      <td>0</td>\n",
       "      <td>False</td>\n",
       "      <td>False</td>\n",
       "      <td>45.50</td>\n",
       "      <td>0</td>\n",
       "      <td>4</td>\n",
       "    </tr>\n",
       "    <tr>\n",
       "      <th>1</th>\n",
       "      <td>0</td>\n",
       "      <td>0.00</td>\n",
       "      <td>0.00</td>\n",
       "      <td>0.25</td>\n",
       "      <td>0.25</td>\n",
       "      <td>0.0</td>\n",
       "      <td>0</td>\n",
       "      <td>0</td>\n",
       "      <td>False</td>\n",
       "      <td>False</td>\n",
       "      <td>0.25</td>\n",
       "      <td>0</td>\n",
       "      <td>4</td>\n",
       "    </tr>\n",
       "    <tr>\n",
       "      <th>2</th>\n",
       "      <td>0</td>\n",
       "      <td>0.00</td>\n",
       "      <td>0.00</td>\n",
       "      <td>0.25</td>\n",
       "      <td>0.25</td>\n",
       "      <td>0.0</td>\n",
       "      <td>0</td>\n",
       "      <td>0</td>\n",
       "      <td>False</td>\n",
       "      <td>False</td>\n",
       "      <td>0.25</td>\n",
       "      <td>0</td>\n",
       "      <td>4</td>\n",
       "    </tr>\n",
       "    <tr>\n",
       "      <th>3</th>\n",
       "      <td>0</td>\n",
       "      <td>0.00</td>\n",
       "      <td>0.00</td>\n",
       "      <td>0.25</td>\n",
       "      <td>0.25</td>\n",
       "      <td>0.0</td>\n",
       "      <td>0</td>\n",
       "      <td>0</td>\n",
       "      <td>False</td>\n",
       "      <td>False</td>\n",
       "      <td>0.25</td>\n",
       "      <td>0</td>\n",
       "      <td>4</td>\n",
       "    </tr>\n",
       "    <tr>\n",
       "      <th>4</th>\n",
       "      <td>0</td>\n",
       "      <td>0.00</td>\n",
       "      <td>0.00</td>\n",
       "      <td>0.25</td>\n",
       "      <td>0.25</td>\n",
       "      <td>13.0</td>\n",
       "      <td>0</td>\n",
       "      <td>0</td>\n",
       "      <td>False</td>\n",
       "      <td>False</td>\n",
       "      <td>13.25</td>\n",
       "      <td>0</td>\n",
       "      <td>4</td>\n",
       "    </tr>\n",
       "  </tbody>\n",
       "</table>\n",
       "</div>"
      ],
      "text/plain": [
       "   call_bid  put_bid  call_ask  put_ask  call_open_interest  \\\n",
       "0         0    41.65     41.65    45.50               45.50   \n",
       "1         0     0.00      0.00     0.25                0.25   \n",
       "2         0     0.00      0.00     0.25                0.25   \n",
       "3         0     0.00      0.00     0.25                0.25   \n",
       "4         0     0.00      0.00     0.25                0.25   \n",
       "\n",
       "   put_open_interest  call_volume  put_volume  call_size  put_size  \\\n",
       "0                0.0            0           0      False     False   \n",
       "1                0.0            0           0      False     False   \n",
       "2                0.0            0           0      False     False   \n",
       "3                0.0            0           0      False     False   \n",
       "4               13.0            0           0      False     False   \n",
       "\n",
       "   combined_oi  combined_volume  DTE  \n",
       "0        45.50                0    4  \n",
       "1         0.25                0    4  \n",
       "2         0.25                0    4  \n",
       "3         0.25                0    4  \n",
       "4        13.25                0    4  "
      ]
     },
     "execution_count": 31,
     "metadata": {},
     "output_type": "execute_result"
    }
   ],
   "source": [
    "options_df.iloc[:, 15:].head()"
   ]
  },
  {
   "cell_type": "code",
   "execution_count": 33,
   "metadata": {},
   "outputs": [],
   "source": [
    "bid_mask = (options_df[\"call_bid\"] > 0) & (options_df[\"put_bid\"] > 0)\n",
    "ask_mask = (options_df[\"call_ask\"] > 0) & (options_df[\"put_ask\"] > 0)\n",
    "size_mask = options_df[\"call_size\"] & options_df[\"put_size\"]\n",
    "\n",
    "options_df = options_df[bid_mask & ask_mask & size_mask]"
   ]
  }
 ],
 "metadata": {
  "kernelspec": {
   "display_name": "qfi",
   "language": "python",
   "name": "python3"
  },
  "language_info": {
   "codemirror_mode": {
    "name": "ipython",
    "version": 3
   },
   "file_extension": ".py",
   "mimetype": "text/x-python",
   "name": "python",
   "nbconvert_exporter": "python",
   "pygments_lexer": "ipython3",
   "version": "3.12.4"
  }
 },
 "nbformat": 4,
 "nbformat_minor": 2
}
