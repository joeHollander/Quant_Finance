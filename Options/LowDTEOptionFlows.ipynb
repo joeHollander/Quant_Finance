{
 "cells": [
  {
   "cell_type": "code",
   "execution_count": 1,
   "metadata": {},
   "outputs": [],
   "source": [
    "import pandas as pd\n",
    "import numpy as np\n",
    "import matplotlib.pyplot as plt\n",
    "import matplotlib.dates as mdates\n",
    "from datetime import timedelta\n",
    "import datetime as dt\n",
    "import heapq "
   ]
  },
  {
   "cell_type": "code",
   "execution_count": 3,
   "metadata": {},
   "outputs": [
    {
     "name": "stdout",
     "output_type": "stream",
     "text": [
      "inf\n"
     ]
    },
    {
     "name": "stderr",
     "output_type": "stream",
     "text": [
      "C:\\Users\\hollanderj\\AppData\\Local\\Temp\\ipykernel_5368\\3189171147.py:4: RuntimeWarning: overflow encountered in scalar add\n",
      "  sigma += i**2 * (((1+np.sqrt(5))/2)**i - ((1-np.sqrt(5))/2)**i)\n",
      "C:\\Users\\hollanderj\\AppData\\Local\\Temp\\ipykernel_5368\\3189171147.py:4: RuntimeWarning: overflow encountered in scalar multiply\n",
      "  sigma += i**2 * (((1+np.sqrt(5))/2)**i - ((1-np.sqrt(5))/2)**i)\n",
      "C:\\Users\\hollanderj\\AppData\\Local\\Temp\\ipykernel_5368\\3189171147.py:4: RuntimeWarning: overflow encountered in scalar power\n",
      "  sigma += i**2 * (((1+np.sqrt(5))/2)**i - ((1-np.sqrt(5))/2)**i)\n"
     ]
    }
   ],
   "source": [
    "import numpy as np\n",
    "sigma = 0\n",
    "for i in range(1, 2026):\n",
    "    sigma += i**2 * (((1+np.sqrt(5))/2)**i - ((1-np.sqrt(5))/2)**i)\n",
    "print(sigma)"
   ]
  },
  {
   "cell_type": "code",
   "execution_count": 2,
   "metadata": {},
   "outputs": [],
   "source": [
    "# loading data\n",
    "path = r\"Data\\CVX_options.csv\"\n",
    "options_df = pd.read_csv(path)"
   ]
  },
  {
   "cell_type": "code",
   "execution_count": 3,
   "metadata": {},
   "outputs": [],
   "source": [
    "# standardizing column naming \n",
    "options_df.columns = [x.lower().replace(\" \", \"_\") for x in options_df.columns]"
   ]
  },
  {
   "cell_type": "code",
   "execution_count": 4,
   "metadata": {},
   "outputs": [],
   "source": [
    "# dropping rows with impossible prices\n",
    "mask1 = options_df[\"bid_price\"] > 0\n",
    "mask2 = options_df[\"ask_price\"] > 0\n",
    "mask3 = options_df[\"bid_size\"] > 0\n",
    "mask4 = options_df[\"ask_size\"] > 0\n",
    "\n",
    "options_df = options_df[mask1 | mask2 | mask3 | mask4]"
   ]
  },
  {
   "cell_type": "code",
   "execution_count": 5,
   "metadata": {},
   "outputs": [
    {
     "data": {
      "text/plain": [
       "[<matplotlib.lines.Line2D at 0x209c8199040>]"
      ]
     },
     "execution_count": 5,
     "metadata": {},
     "output_type": "execute_result"
    },
    {
     "data": {
      "image/png": "[encoded data removed]",
      "text/plain": [
       "<Figure size 640x480 with 1 Axes>"
      ]
     },
     "metadata": {},
     "output_type": "display_data"
    }
   ],
   "source": [
    "# creating mid price\n",
    "plt.plot(options_df[\"ask_price\"] - options_df[\"bid_price\"], label=\"Spread\")\n",
    "#options_df.loc[:, \"mid_price\"] = round((options_df[\"ask_price\"] + options_df[\"bid_price\"])/2, 5)"
   ]
  },
  {
   "cell_type": "code",
   "execution_count": 6,
   "metadata": {},
   "outputs": [
    {
     "data": {
      "text/plain": [
       "(array([1.44522e+05, 1.81410e+04, 1.26430e+04, 1.34240e+04, 1.21680e+04,\n",
       "        1.30930e+04, 1.08470e+04, 9.03300e+03, 0.00000e+00, 1.00000e+00]),\n",
       " array([0.01 , 0.634, 1.258, 1.882, 2.506, 3.13 , 3.754, 4.378, 5.002,\n",
       "        5.626, 6.25 ]),\n",
       " <BarContainer object of 10 artists>)"
      ]
     },
     "execution_count": 6,
     "metadata": {},
     "output_type": "execute_result"
    },
    {
     "data": {
      "image/png": "[encoded data removed]",
      "text/plain": [
       "<Figure size 640x480 with 1 Axes>"
      ]
     },
     "metadata": {},
     "output_type": "display_data"
    }
   ],
   "source": [
    "plt.hist(options_df[\"ask_price\"] - options_df[\"bid_price\"])"
   ]
  },
  {
   "cell_type": "code",
   "execution_count": 7,
   "metadata": {},
   "outputs": [
    {
     "ename": "IndexError",
     "evalue": "iloc cannot enlarge its target object",
     "output_type": "error",
     "traceback": [
      "\u001b[1;31m---------------------------------------------------------------------------\u001b[0m",
      "\u001b[1;31mIndexError\u001b[0m                                Traceback (most recent call last)",
      "Cell \u001b[1;32mIn[7], line 32\u001b[0m\n\u001b[0;32m     30\u001b[0m \u001b[38;5;66;03m#volume\u001b[39;00m\n\u001b[0;32m     31\u001b[0m options_df\u001b[38;5;241m.\u001b[39miloc[indices[call_mask], \u001b[38;5;241m20\u001b[39m] \u001b[38;5;241m=\u001b[39m options_df\u001b[38;5;241m.\u001b[39miloc[indices[call_mask], \u001b[38;5;241m9\u001b[39m]\u001b[38;5;241m.\u001b[39mvalues\n\u001b[1;32m---> 32\u001b[0m \u001b[43moptions_df\u001b[49m\u001b[38;5;241;43m.\u001b[39;49m\u001b[43miloc\u001b[49m\u001b[43m[\u001b[49m\u001b[43mindices\u001b[49m\u001b[43m[\u001b[49m\u001b[43mcall_mask\u001b[49m\u001b[43m]\u001b[49m\u001b[43m,\u001b[49m\u001b[43m \u001b[49m\u001b[38;5;241;43m21\u001b[39;49m\u001b[43m]\u001b[49m \u001b[38;5;241m=\u001b[39m options_df\u001b[38;5;241m.\u001b[39miloc[indices[call_mask] \u001b[38;5;241m+\u001b[39m \u001b[38;5;241m1\u001b[39m, \u001b[38;5;241m9\u001b[39m]\u001b[38;5;241m.\u001b[39mvalues\n\u001b[0;32m     34\u001b[0m options_df\u001b[38;5;241m.\u001b[39miloc[indices[put_mask], \u001b[38;5;241m21\u001b[39m] \u001b[38;5;241m=\u001b[39m options_df\u001b[38;5;241m.\u001b[39miloc[indices[put_mask], \u001b[38;5;241m9\u001b[39m]\u001b[38;5;241m.\u001b[39mvalues\n\u001b[0;32m     35\u001b[0m options_df\u001b[38;5;241m.\u001b[39miloc[indices[put_mask], \u001b[38;5;241m20\u001b[39m] \u001b[38;5;241m=\u001b[39m options_\n",
      "File \u001b[1;32mc:\\Users\\hollanderj\\AppData\\Local\\miniconda3\\envs\\qfi\\Lib\\site-packages\\pandas\\core\\indexing.py:908\u001b[0m, in \u001b[0;36m_LocationIndexer.__setitem__\u001b[1;34m(self, key, value)\u001b[0m\n\u001b[0;32m    906\u001b[0m     key \u001b[38;5;241m=\u001b[39m \u001b[38;5;28mself\u001b[39m\u001b[38;5;241m.\u001b[39m_check_deprecated_callable_usage(key, maybe_callable)\n\u001b[0;32m    907\u001b[0m indexer \u001b[38;5;241m=\u001b[39m \u001b[38;5;28mself\u001b[39m\u001b[38;5;241m.\u001b[39m_get_setitem_indexer(key)\n\u001b[1;32m--> 908\u001b[0m \u001b[38;5;28;43mself\u001b[39;49m\u001b[38;5;241;43m.\u001b[39;49m\u001b[43m_has_valid_setitem_indexer\u001b[49m\u001b[43m(\u001b[49m\u001b[43mkey\u001b[49m\u001b[43m)\u001b[49m\n\u001b[0;32m    910\u001b[0m iloc \u001b[38;5;241m=\u001b[39m \u001b[38;5;28mself\u001b[39m \u001b[38;5;28;01mif\u001b[39;00m \u001b[38;5;28mself\u001b[39m\u001b[38;5;241m.\u001b[39mname \u001b[38;5;241m==\u001b[39m \u001b[38;5;124m\"\u001b[39m\u001b[38;5;124miloc\u001b[39m\u001b[38;5;124m\"\u001b[39m \u001b[38;5;28;01melse\u001b[39;00m \u001b[38;5;28mself\u001b[39m\u001b[38;5;241m.\u001b[39mobj\u001b[38;5;241m.\u001b[39miloc\n\u001b[0;32m    911\u001b[0m iloc\u001b[38;5;241m.\u001b[39m_setitem_with_indexer(indexer, value, \u001b[38;5;28mself\u001b[39m\u001b[38;5;241m.\u001b[39mname)\n",
      "File \u001b[1;32mc:\\Users\\hollanderj\\AppData\\Local\\miniconda3\\envs\\qfi\\Lib\\site-packages\\pandas\\core\\indexing.py:1646\u001b[0m, in \u001b[0;36m_iLocIndexer._has_valid_setitem_indexer\u001b[1;34m(self, indexer)\u001b[0m\n\u001b[0;32m   1644\u001b[0m \u001b[38;5;28;01melif\u001b[39;00m is_integer(i):\n\u001b[0;32m   1645\u001b[0m     \u001b[38;5;28;01mif\u001b[39;00m i \u001b[38;5;241m>\u001b[39m\u001b[38;5;241m=\u001b[39m \u001b[38;5;28mlen\u001b[39m(ax):\n\u001b[1;32m-> 1646\u001b[0m         \u001b[38;5;28;01mraise\u001b[39;00m \u001b[38;5;167;01mIndexError\u001b[39;00m(\u001b[38;5;124m\"\u001b[39m\u001b[38;5;124miloc cannot enlarge its target object\u001b[39m\u001b[38;5;124m\"\u001b[39m)\n\u001b[0;32m   1647\u001b[0m \u001b[38;5;28;01melif\u001b[39;00m \u001b[38;5;28misinstance\u001b[39m(i, \u001b[38;5;28mdict\u001b[39m):\n\u001b[0;32m   1648\u001b[0m     \u001b[38;5;28;01mraise\u001b[39;00m \u001b[38;5;167;01mIndexError\u001b[39;00m(\u001b[38;5;124m\"\u001b[39m\u001b[38;5;124miloc cannot enlarge its target object\u001b[39m\u001b[38;5;124m\"\u001b[39m)\n",
      "\u001b[1;31mIndexError\u001b[0m: iloc cannot enlarge its target object"
     ]
    }
   ],
   "source": [
    "# concatenating call and put rows for the same price    \n",
    "# call mid, put mid are columns 16 and 17 respectively\n",
    "options_df[\"call_mid\"] = 0\n",
    "options_df[\"put_mid\"] = 0\n",
    "options_df[\"call_open_interest\"] = 0\n",
    "options_df[\"put_open_interest\"] = 0\n",
    "options_df[\"call_volume\"] = 0\n",
    "options_df[\"put_volume\"] = 0\n",
    "    \n",
    "# boolean masks for call and put options in every second row\n",
    "call_mask = (options_df.iloc[::2, 2] == \"call\").values\n",
    "put_mask = (options_df.iloc[::2, 2] == \"put\").values\n",
    "\n",
    "# indices of every second row\n",
    "indices = np.arange(0, options_df.shape[0], 2)\n",
    "\n",
    "# assign values based on call options\n",
    "# if call, call mid will be assigned from mid price and put mid will be assigned from next mid price same with open interest\n",
    "options_df.iloc[indices[call_mask], 16] = options_df.iloc[indices[call_mask], 15].values\n",
    "options_df.iloc[indices[call_mask], 17] = options_df.iloc[indices[call_mask] + 1, 15].values\n",
    "# assign values based on put options\n",
    "options_df.iloc[indices[put_mask], 17] = options_df.iloc[indices[put_mask], 15].values\n",
    "options_df.iloc[indices[put_mask], 16] = options_df.iloc[indices[put_mask] + 1, 15].values\n",
    "# open interest\n",
    "options_df.iloc[indices[call_mask], 18] = options_df.iloc[indices[call_mask], 10].values\n",
    "options_df.iloc[indices[call_mask], 19] = options_df.iloc[indices[call_mask] + 1, 10].values\n",
    "\n",
    "options_df.iloc[indices[put_mask], 19] = options_df.iloc[indices[put_mask], 10].values\n",
    "options_df.iloc[indices[put_mask], 18] = options_df.iloc[indices[put_mask] + 1, 10].values\n",
    "#volume\n",
    "options_df.iloc[indices[call_mask], 20] = options_df.iloc[indices[call_mask], 9].values\n",
    "options_df.iloc[indices[call_mask], 21] = options_df.iloc[indices[call_mask] + 1, 9].values\n",
    "\n",
    "options_df.iloc[indices[put_mask], 21] = options_df.iloc[indices[put_mask], 9].values\n",
    "options_df.iloc[indices[put_mask], 20] = options_\n",
    "df.iloc[indices[put_mask] + 1, 9].values"
   ]
  },
  {
   "cell_type": "code",
   "execution_count": 6,
   "metadata": {},
   "outputs": [],
   "source": [
    "# reducing rows to every other and fixing index\n",
    "options_df = options_df[options_df.index % 2 == 0]\n",
    "options_df.index = np.arange(0, len(options_df))"
   ]
  },
  {
   "cell_type": "code",
   "execution_count": 7,
   "metadata": {},
   "outputs": [],
   "source": [
    "# combining open interest and volume\n",
    "options_df[\"combined_oi\"] = options_df[\"call_open_interest\"] + options_df[\"put_open_interest\"]\n",
    "options_df[\"combined_volume\"] = options_df[\"call_volume\"] + options_df[\"put_volume\"]"
   ]
  },
  {
   "cell_type": "code",
   "execution_count": 8,
   "metadata": {},
   "outputs": [],
   "source": [
    "# creating DTE\n",
    "T = (pd.to_datetime(options_df[\"expiration_date\"]) - pd.to_datetime(options_df[\"date\"])).dt.days\n",
    "options_df[\"DTE\"] = T"
   ]
  },
  {
   "cell_type": "code",
   "execution_count": 10,
   "metadata": {},
   "outputs": [
    {
     "data": {
      "text/plain": [
       "Index(['date', 'expiration_date', 'type', 'strike_price', 'ask_price',\n",
       "       'ask_size', 'bid_price', 'bid_size', 'last_price', 'volume',\n",
       "       'open_interest', 'closing_price', 'exp_closing_price', 'date_div',\n",
       "       'exp_date_div', 'mid_price', 'call_mid', 'put_mid',\n",
       "       'call_open_interest', 'put_open_interest', 'call_volume', 'put_volume',\n",
       "       'combined_oi', 'combined_volume', 'DTE'],\n",
       "      dtype='object')"
      ]
     },
     "execution_count": 10,
     "metadata": {},
     "output_type": "execute_result"
    }
   ],
   "source": [
    "options_df.columns"
   ]
  },
  {
   "cell_type": "code",
   "execution_count": 42,
   "metadata": {},
   "outputs": [
    {
     "ename": "RuntimeError",
     "evalue": "Tolerance of 15948.36990428351 reached. Failed to converge after 3 iterations, value is -2221.125793777974.",
     "output_type": "error",
     "traceback": [
      "\u001b[1;31m---------------------------------------------------------------------------\u001b[0m",
      "\u001b[1;31mRuntimeError\u001b[0m                              Traceback (most recent call last)",
      "Cell \u001b[1;32mIn[42], line 20\u001b[0m\n\u001b[0;32m     17\u001b[0m     \u001b[38;5;28;01mreturn\u001b[39;00m opt\u001b[38;5;241m.\u001b[39mnewton(bs_price, \u001b[38;5;241m0.3\u001b[39m, maxiter\u001b[38;5;241m=\u001b[39m\u001b[38;5;241m100\u001b[39m)\n\u001b[0;32m     19\u001b[0m row \u001b[38;5;241m=\u001b[39m options_df\u001b[38;5;241m.\u001b[39miloc[\u001b[38;5;241m10\u001b[39m, :]\n\u001b[1;32m---> 20\u001b[0m s \u001b[38;5;241m=\u001b[39m \u001b[43mimplied_vol\u001b[49m\u001b[43m(\u001b[49m\u001b[43mrow\u001b[49m\u001b[43m[\u001b[49m\u001b[38;5;124;43m\"\u001b[39;49m\u001b[38;5;124;43mmid_price\u001b[39;49m\u001b[38;5;124;43m\"\u001b[39;49m\u001b[43m]\u001b[49m\u001b[43m,\u001b[49m\u001b[43m \u001b[49m\u001b[43mrow\u001b[49m\u001b[43m[\u001b[49m\u001b[38;5;124;43m\"\u001b[39;49m\u001b[38;5;124;43mclosing_price\u001b[39;49m\u001b[38;5;124;43m\"\u001b[39;49m\u001b[43m]\u001b[49m\u001b[43m,\u001b[49m\u001b[43m \u001b[49m\u001b[43mrow\u001b[49m\u001b[43m[\u001b[49m\u001b[38;5;124;43m\"\u001b[39;49m\u001b[38;5;124;43mstrike_price\u001b[39;49m\u001b[38;5;124;43m\"\u001b[39;49m\u001b[43m]\u001b[49m\u001b[43m,\u001b[49m\u001b[43m \u001b[49m\u001b[43mrow\u001b[49m\u001b[43m[\u001b[49m\u001b[38;5;124;43m\"\u001b[39;49m\u001b[38;5;124;43mDTE\u001b[39;49m\u001b[38;5;124;43m\"\u001b[39;49m\u001b[43m]\u001b[49m\u001b[38;5;241;43m/\u001b[39;49m\u001b[38;5;241;43m365\u001b[39;49m\u001b[43m)\u001b[49m\n",
      "Cell \u001b[1;32mIn[42], line 17\u001b[0m, in \u001b[0;36mimplied_vol\u001b[1;34m(price, S, K, T, r)\u001b[0m\n\u001b[0;32m     14\u001b[0m     \u001b[38;5;28;01mreturn\u001b[39;00m S \u001b[38;5;241m*\u001b[39m np\u001b[38;5;241m.\u001b[39msqrt(T) \u001b[38;5;241m*\u001b[39m si\u001b[38;5;241m.\u001b[39mnorm\u001b[38;5;241m.\u001b[39mpdf(d1, \u001b[38;5;241m0\u001b[39m, \u001b[38;5;241m1\u001b[39m)\n\u001b[0;32m     16\u001b[0m \u001b[38;5;66;03m#return opt.brentq(bs_price, 0.00001, 20, maxiter=1000)\u001b[39;00m\n\u001b[1;32m---> 17\u001b[0m \u001b[38;5;28;01mreturn\u001b[39;00m \u001b[43mopt\u001b[49m\u001b[38;5;241;43m.\u001b[39;49m\u001b[43mnewton\u001b[49m\u001b[43m(\u001b[49m\u001b[43mbs_price\u001b[49m\u001b[43m,\u001b[49m\u001b[43m \u001b[49m\u001b[38;5;241;43m0.3\u001b[39;49m\u001b[43m,\u001b[49m\u001b[43m \u001b[49m\u001b[43mmaxiter\u001b[49m\u001b[38;5;241;43m=\u001b[39;49m\u001b[38;5;241;43m100\u001b[39;49m\u001b[43m)\u001b[49m\n",
      "File \u001b[1;32mc:\\Users\\hollanderj\\AppData\\Local\\miniconda3\\envs\\qfi\\Lib\\site-packages\\scipy\\optimize\\_zeros_py.py:370\u001b[0m, in \u001b[0;36mnewton\u001b[1;34m(func, x0, fprime, args, tol, maxiter, fprime2, x1, rtol, full_output, disp)\u001b[0m\n\u001b[0;32m    366\u001b[0m     \u001b[38;5;28;01mif\u001b[39;00m disp:\n\u001b[0;32m    367\u001b[0m         msg \u001b[38;5;241m+\u001b[39m\u001b[38;5;241m=\u001b[39m (\n\u001b[0;32m    368\u001b[0m             \u001b[38;5;124m\"\u001b[39m\u001b[38;5;124m Failed to converge after \u001b[39m\u001b[38;5;132;01m%d\u001b[39;00m\u001b[38;5;124m iterations, value is \u001b[39m\u001b[38;5;132;01m%s\u001b[39;00m\u001b[38;5;124m.\u001b[39m\u001b[38;5;124m\"\u001b[39m\n\u001b[0;32m    369\u001b[0m             \u001b[38;5;241m%\u001b[39m (itr \u001b[38;5;241m+\u001b[39m \u001b[38;5;241m1\u001b[39m, p1))\n\u001b[1;32m--> 370\u001b[0m         \u001b[38;5;28;01mraise\u001b[39;00m \u001b[38;5;167;01mRuntimeError\u001b[39;00m(msg)\n\u001b[0;32m    371\u001b[0m     warnings\u001b[38;5;241m.\u001b[39mwarn(msg, \u001b[38;5;167;01mRuntimeWarning\u001b[39;00m, stacklevel\u001b[38;5;241m=\u001b[39m\u001b[38;5;241m2\u001b[39m)\n\u001b[0;32m    372\u001b[0m p \u001b[38;5;241m=\u001b[39m (p1 \u001b[38;5;241m+\u001b[39m p0) \u001b[38;5;241m/\u001b[39m \u001b[38;5;241m2.0\u001b[39m\n",
      "\u001b[1;31mRuntimeError\u001b[0m: Tolerance of 15948.36990428351 reached. Failed to converge after 3 iterations, value is -2221.125793777974."
     ]
    }
   ],
   "source": [
    "from scipy import optimize as opt\n",
    "import scipy.stats as si\n",
    "\n",
    "\n",
    "# defining implied vol function\n",
    "def implied_vol(price, S, K, T, r=0.05):\n",
    "    def bs_price(sigma):\n",
    "        d1 = (np.log(S / K) + (r + 0.5 * sigma**2) * T) / (sigma * np.sqrt(T))\n",
    "        d2 = d1 - sigma * np.sqrt(T)\n",
    "        est_price = S * si.norm.cdf(d1, 0, 1) - K * np.exp(-r * T) * si.norm.cdf(d2, 0, 1)\n",
    "        return est_price - price\n",
    "    def vega(sigma):\n",
    "        d1 = (np.log(S / K) + (r + 0.5 * sigma**2) * T) / (sigma * np.sqrt(T))\n",
    "        return S * np.sqrt(T) * si.norm.pdf(d1, 0, 1)\n",
    "    \n",
    "    #return opt.brentq(bs_price, 0.00001, 20, maxiter=1000)\n",
    "    return opt.newton(bs_price, 0.3, maxiter=100)\n",
    "\n",
    "row = options_df.iloc[10, :]\n",
    "s = implied_vol(row[\"mid_price\"], row[\"closing_price\"], row[\"strike_price\"], row[\"DTE\"]/365)"
   ]
  },
  {
   "cell_type": "code",
   "execution_count": 46,
   "metadata": {},
   "outputs": [],
   "source": [
    "row = options_df.iloc[10, :]\n",
    "S = row[\"closing_price\"]\n",
    "K = row[\"strike_price\"]\n",
    "r = 0.05\n",
    "T = row[\"DTE\"]/365\n",
    "price = row[\"mid_price\"]\n",
    "sigma = 0.3\n",
    "\n",
    "def bs_price(sigma):\n",
    "        d1 = (np.log(S / K) + (r + 0.5 * sigma**2) * T) / (sigma * np.sqrt(T))\n",
    "        d2 = d1 - sigma * np.sqrt(T)\n",
    "        est_price = S * si.norm.cdf(d1, 0, 1) - K * np.exp(-r * T) * si.norm.cdf(d2, 0, 1)\n",
    "        return est_price - price \n",
    "\n",
    "d1 = (np.log(S / K) + (r + 0.5 * sigma**2) * T) / (sigma * np.sqrt(T))\n",
    "v = S * np.sqrt(T) * si.norm.pdf(d1, 0, 1)"
   ]
  },
  {
   "cell_type": "code",
   "execution_count": 47,
   "metadata": {},
   "outputs": [
    {
     "name": "stderr",
     "output_type": "stream",
     "text": [
      "C:\\Users\\hollanderj\\AppData\\Local\\Temp\\ipykernel_13508\\1487816262.py:10: RuntimeWarning: divide by zero encountered in scalar divide\n",
      "  d1 = (np.log(S / K) + (r + 0.5 * sigma**2) * T) / (sigma * np.sqrt(T))\n"
     ]
    },
    {
     "data": {
      "text/plain": [
       "0.0"
      ]
     },
     "execution_count": 47,
     "metadata": {},
     "output_type": "execute_result"
    },
    {
     "data": {
      "image/png": "[encoded data removed]",
      "text/plain": [
       "<Figure size 640x480 with 1 Axes>"
      ]
     },
     "metadata": {},
     "output_type": "display_data"
    }
   ],
   "source": [
    "ff = np.linspace(0, 1, 100)\n",
    "plt.plot(ff, y := [bs_price(x) for x in ff], 'ro')\n",
    "ff[np.argmin(np.abs(y))]"
   ]
  },
  {
   "cell_type": "code",
   "execution_count": 51,
   "metadata": {},
   "outputs": [
    {
     "name": "stdout",
     "output_type": "stream",
     "text": [
      "88.85 78.0 0.010958904109589041 0.03\n"
     ]
    }
   ],
   "source": [
    "row = options_df.iloc[10, :]\n",
    "S = row[\"closing_price\"]\n",
    "K = row[\"strike_price\"]\n",
    "r = 0.05\n",
    "T = row[\"DTE\"]/365\n",
    "price = row[\"mid_price\"]\n",
    "print(S, K, T, price)"
   ]
  },
  {
   "cell_type": "code",
   "execution_count": null,
   "metadata": {},
   "outputs": [],
   "source": [
    "# creating new dataframe for date organization\n",
    "df = pd.DataFrame()\n",
    "\n",
    "# organizing based on dates\n",
    "for header in [\"DTE\", \"strike price\", \"closing price\", \"call mid\", \"put mid\", \"call_open_interest\", \"put_open_interest\", \"combined_oi\", \"combined_volume\"]:\n",
    "    df[header] = options_df.groupby(\"date\")[header].apply(np.array)\n",
    "\n",
    "# converting index to date column\n",
    "if \"date\" not in df.columns:\n",
    "    df = df.reset_index()\n",
    "\n",
    "df[\"date\"] = pd.to_datetime(df[\"date\"])\n",
    "df[\"terms\"] = df[\"DTE\"].apply(lambda x: sorted(set(x)))\n",
    "df.head(1)"
   ]
  }
 ],
 "metadata": {
  "kernelspec": {
   "display_name": "qfi",
   "language": "python",
   "name": "python3"
  },
  "language_info": {
   "codemirror_mode": {
    "name": "ipython",
    "version": 3
   },
   "file_extension": ".py",
   "mimetype": "text/x-python",
   "name": "python",
   "nbconvert_exporter": "python",
   "pygments_lexer": "ipython3",
   "version": "3.12.4"
  }
 },
 "nbformat": 4,
 "nbformat_minor": 2
}
