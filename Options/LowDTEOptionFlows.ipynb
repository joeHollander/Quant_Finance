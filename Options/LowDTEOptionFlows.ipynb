{
 "cells": [
  {
   "cell_type": "code",
   "execution_count": 91,
   "metadata": {},
   "outputs": [],
   "source": [
    "import pandas as pd\n",
    "import numpy as np\n",
    "import matplotlib.pyplot as plt\n",
    "import matplotlib.dates as mdates\n",
    "from datetime import timedelta\n",
    "import datetime as dt\n",
    "import heapq "
   ]
  },
  {
   "cell_type": "code",
   "execution_count": 92,
   "metadata": {},
   "outputs": [],
   "source": [
    "# loading data\n",
    "path = r\"Data\\AAPL_options.csv\"\n",
    "options_df = pd.read_csv(path, parse_dates=[\"date\", \"expiration date\"])"
   ]
  },
  {
   "cell_type": "code",
   "execution_count": 93,
   "metadata": {},
   "outputs": [],
   "source": [
    "# standardizing column naming \n",
    "options_df.columns = [x.lower().replace(\" \", \"_\") for x in options_df.columns]\n",
    "original_options_df = options_df.copy()"
   ]
  },
  {
   "cell_type": "code",
   "execution_count": 94,
   "metadata": {},
   "outputs": [],
   "source": [
    "# concatenating call and put rows for the same price    \n",
    "# call mid, put mid are columns 16 and 17 respectively\n",
    "options_df[\"call_bid\"] = 0\n",
    "options_df[\"put_bid\"] = 0\n",
    "options_df[\"call_ask\"] = 0 \n",
    "options_df[\"put_ask\"] = 0\n",
    "options_df[\"call_open_interest\"] = 0\n",
    "options_df[\"put_open_interest\"] = 0\n",
    "options_df[\"call_volume\"] = 0\n",
    "options_df[\"put_volume\"] = 0\n",
    "options_df[\"call_flow\"] = 0\n",
    "options_df[\"put_flow\"] = 0\n",
    "    \n",
    "# boolean masks for call and put options in every second row\n",
    "call_mask = (options_df.iloc[::2, 2] == \"call\").values\n",
    "put_mask = (options_df.iloc[::2, 2] == \"put\").values\n",
    "\n",
    "# indices of every second row\n",
    "indices = np.arange(0, options_df.shape[0], 2)"
   ]
  },
  {
   "cell_type": "code",
   "execution_count": 95,
   "metadata": {},
   "outputs": [
    {
     "name": "stdout",
     "output_type": "stream",
     "text": [
      "0: date, 1: expiration_date, 2: type, 3: strike_price, 4: ask_price, 5: ask_size, 6: bid_price,\n",
      "7: bid_size, 8: last_price, 9: volume, 10: open_interest, 11: closing_price, 12: exp_closing_price,\n",
      "13: date_div, 14: exp_date_div, 15: call_bid, 16: put_bid, 17: call_ask, 18: put_ask,\n",
      "19: call_open_interest, 20: put_open_interest, 21: call_volume, 22: put_volume, 23: call_flow, 24: put_flow,\n"
     ]
    }
   ],
   "source": [
    "def line_break(index):\n",
    "        if index % 6 == 0 and index != 0:\n",
    "            return None\n",
    "        else: \n",
    "            return \" \"\n",
    "\n",
    "for idx, i in enumerate(options_df.columns):\n",
    "    print(f\"{idx}: {i},\", end=line_break(idx))"
   ]
  },
  {
   "cell_type": "code",
   "execution_count": 96,
   "metadata": {},
   "outputs": [
    {
     "name": "stderr",
     "output_type": "stream",
     "text": [
      "C:\\Users\\semic\\AppData\\Local\\Temp\\ipykernel_1120\\381390948.py:13: FutureWarning: Setting an item of incompatible dtype is deprecated and will raise an error in a future version of pandas. Value '[10.05    8.8     7.55   ...  0.925   0.7625  0.6375]' has dtype incompatible with int64, please explicitly cast to a compatible dtype first.\n",
      "  options_df.iloc[indices[put_mask], i] = options_df.iloc[indices[put_mask] + 1, list(options_df.columns).index(assignment_list[i-15])]\n",
      "C:\\Users\\semic\\AppData\\Local\\Temp\\ipykernel_1120\\381390948.py:6: FutureWarning: Setting an item of incompatible dtype is deprecated and will raise an error in a future version of pandas. Value '[11.3     5.05    2.325  ...  5.375   4.75    0.4875]' has dtype incompatible with int64, please explicitly cast to a compatible dtype first.\n",
      "  options_df.iloc[indices[call_mask], i] = options_df.iloc[indices[call_mask], list(options_df.columns).index(assignment_list[i-16])]\n",
      "C:\\Users\\semic\\AppData\\Local\\Temp\\ipykernel_1120\\381390948.py:8: FutureWarning: Setting an item of incompatible dtype is deprecated and will raise an error in a future version of pandas. Value '[0.00000e+00 2.50000e-03 1.75000e-02 ... 2.80000e+00 3.27500e+00\n",
      " 1.46625e+01]' has dtype incompatible with int64, please explicitly cast to a compatible dtype first.\n",
      "  options_df.iloc[indices[call_mask], i + 1] = options_df.iloc[indices[call_mask] + 1, list(options_df.columns).index(assignment_list[i-16])]\n",
      "C:\\Users\\semic\\AppData\\Local\\Temp\\ipykernel_1120\\381390948.py:8: FutureWarning: Setting an item of incompatible dtype is deprecated and will raise an error in a future version of pandas. Value '[0.00000e+00 2.50000e-03 1.75000e-02 ... 2.80000e+00 3.27500e+00\n",
      " 1.46625e+01]' has dtype incompatible with int64, please explicitly cast to a compatible dtype first.\n",
      "  options_df.iloc[indices[call_mask], i + 1] = options_df.iloc[indices[call_mask] + 1, list(options_df.columns).index(assignment_list[i-16])]\n",
      "C:\\Users\\semic\\AppData\\Local\\Temp\\ipykernel_1120\\381390948.py:8: FutureWarning: Setting an item of incompatible dtype is deprecated and will raise an error in a future version of pandas. Value '[5.00000e-03 5.00000e-03 2.00000e-02 ... 3.00000e+00 3.52500e+00\n",
      " 1.56875e+01]' has dtype incompatible with int64, please explicitly cast to a compatible dtype first.\n",
      "  options_df.iloc[indices[call_mask], i + 1] = options_df.iloc[indices[call_mask] + 1, list(options_df.columns).index(assignment_list[i-16])]\n",
      "C:\\Users\\semic\\AppData\\Local\\Temp\\ipykernel_1120\\381390948.py:8: FutureWarning: Setting an item of incompatible dtype is deprecated and will raise an error in a future version of pandas. Value '[5.00000e-03 5.00000e-03 2.00000e-02 ... 3.00000e+00 3.52500e+00\n",
      " 1.56875e+01]' has dtype incompatible with int64, please explicitly cast to a compatible dtype first.\n",
      "  options_df.iloc[indices[call_mask], i + 1] = options_df.iloc[indices[call_mask] + 1, list(options_df.columns).index(assignment_list[i-16])]\n"
     ]
    }
   ],
   "source": [
    "assignment_list = [\"bid_price\", \"bid_price\", \"ask_price\", \"ask_price\",\n",
    "                   \"open_interest\", \"open_interest\", \"volume\", \"volume\"]\n",
    "\n",
    "for i in range(15, 23):\n",
    "    # call value assignment based on call mask\n",
    "    options_df.iloc[indices[call_mask], i] = options_df.iloc[indices[call_mask], list(options_df.columns).index(assignment_list[i-16])]\n",
    "    # put value assignment based on call mask\n",
    "    options_df.iloc[indices[call_mask], i + 1] = options_df.iloc[indices[call_mask] + 1, list(options_df.columns).index(assignment_list[i-16])]\n",
    "\n",
    "    # put value assignment based on put mask\n",
    "    options_df.iloc[indices[put_mask], i + 1] = options_df.iloc[indices[put_mask], list(options_df.columns).index(assignment_list[i-16])]\n",
    "    # call value assignment based on put mask\n",
    "    options_df.iloc[indices[put_mask], i] = options_df.iloc[indices[put_mask] + 1, list(options_df.columns).index(assignment_list[i-15])]"
   ]
  },
  {
   "cell_type": "code",
   "execution_count": 97,
   "metadata": {},
   "outputs": [
    {
     "name": "stderr",
     "output_type": "stream",
     "text": [
      "C:\\Users\\semic\\AppData\\Local\\Temp\\ipykernel_1120\\2338619968.py:6: FutureWarning: Setting an item of incompatible dtype is deprecated and will raise an error in a future version of pandas. Value '[11.3     2.3375  0.3375 ... -0.13   -0.05   -0.055 ]' has dtype incompatible with int64, please explicitly cast to a compatible dtype first.\n",
      "  options_df.iloc[indices[call_mask], 23] = (options_df.iloc[indices[call_mask], as_col]) - (options_df.iloc[indices[call_mask], bs_col])\n",
      "C:\\Users\\semic\\AppData\\Local\\Temp\\ipykernel_1120\\2338619968.py:8: FutureWarning: Setting an item of incompatible dtype is deprecated and will raise an error in a future version of pandas. Value '[ 0.      0.     -0.01   ...  1.3625 -0.2125  7.2025]' has dtype incompatible with int64, please explicitly cast to a compatible dtype first.\n",
      "  options_df.iloc[indices[call_mask], 24] = (options_df.iloc[indices[call_mask] + 1, as_col]) - (options_df.iloc[indices[call_mask] + 1, bs_col])\n"
     ]
    }
   ],
   "source": [
    "# bool values if size exists \n",
    "# bid size and ask size col\n",
    "as_col, bs_col = 6, 8\n",
    "\n",
    "# call size assignment based on call mask\n",
    "options_df.iloc[indices[call_mask], 23] = (options_df.iloc[indices[call_mask], as_col]) - (options_df.iloc[indices[call_mask], bs_col])\n",
    "# put size assignment based on call mask\n",
    "options_df.iloc[indices[call_mask], 24] = (options_df.iloc[indices[call_mask] + 1, as_col]) - (options_df.iloc[indices[call_mask] + 1, bs_col])                                                                                 \n",
    "\n",
    "# call size assignment based on put mask\n",
    "options_df.iloc[indices[put_mask], 24] = (options_df.iloc[indices[put_mask] + 1, as_col]) - (options_df.iloc[indices[put_mask] + 1, bs_col])\n",
    "# put size assignment based on put mask\n",
    "options_df.iloc[indices[put_mask], 23] = (options_df.iloc[indices[put_mask], as_col]) - (options_df.iloc[indices[put_mask], bs_col])     "
   ]
  },
  {
   "cell_type": "code",
   "execution_count": 98,
   "metadata": {},
   "outputs": [],
   "source": [
    "# reducing rows to every other and fixing index\n",
    "options_df = options_df[options_df.index % 2 == 0]\n",
    "options_df.index = np.arange(0, len(options_df))"
   ]
  },
  {
   "cell_type": "code",
   "execution_count": 99,
   "metadata": {},
   "outputs": [],
   "source": [
    "# combining open interest and volume\n",
    "options_df[\"combined_oi\"] = options_df[\"call_open_interest\"] + options_df[\"put_open_interest\"]\n",
    "options_df[\"combined_volume\"] = options_df[\"call_volume\"] + options_df[\"put_volume\"]"
   ]
  },
  {
   "cell_type": "code",
   "execution_count": 100,
   "metadata": {},
   "outputs": [],
   "source": [
    "# creating DTE\n",
    "T = (options_df[\"expiration_date\"] - options_df[\"date\"]).dt.days\n",
    "options_df[\"DTE\"] = T"
   ]
  },
  {
   "cell_type": "code",
   "execution_count": 101,
   "metadata": {},
   "outputs": [
    {
     "name": "stdout",
     "output_type": "stream",
     "text": [
      "[ 0 10 24 26 28] [ 2  4  6  8 12]\n"
     ]
    }
   ],
   "source": [
    "print(indices[call_mask][:5], indices[put_mask][:5])"
   ]
  },
  {
   "cell_type": "code",
   "execution_count": 102,
   "metadata": {},
   "outputs": [
    {
     "data": {
      "text/plain": [
       "date                  2016-01-04 00:00:00\n",
       "expiration_date       2016-01-08 00:00:00\n",
       "type                                 call\n",
       "strike_price                         15.0\n",
       "ask_price                          11.375\n",
       "ask_size                             20.0\n",
       "bid_price                            11.3\n",
       "bid_size                             12.0\n",
       "last_price                            0.0\n",
       "volume                                0.0\n",
       "open_interest                         0.0\n",
       "closing_price                      26.337\n",
       "exp_closing_price                   24.24\n",
       "date_div                         0.085246\n",
       "exp_date_div                      0.09377\n",
       "call_bid                              0.0\n",
       "put_bid                              11.3\n",
       "call_ask                             11.3\n",
       "put_ask                            11.375\n",
       "call_open_interest                 11.375\n",
       "put_open_interest                     0.0\n",
       "call_volume                             0\n",
       "put_volume                              0\n",
       "call_flow                            11.3\n",
       "put_flow                              0.0\n",
       "combined_oi                        11.375\n",
       "combined_volume                         0\n",
       "DTE                                     4\n",
       "Name: 0, dtype: object"
      ]
     },
     "execution_count": 102,
     "metadata": {},
     "output_type": "execute_result"
    }
   ],
   "source": [
    "options_df.iloc[0, :]"
   ]
  },
  {
   "cell_type": "code",
   "execution_count": 90,
   "metadata": {},
   "outputs": [
    {
     "data": {
      "text/html": [
       "<div>\n",
       "<style scoped>\n",
       "    .dataframe tbody tr th:only-of-type {\n",
       "        vertical-align: middle;\n",
       "    }\n",
       "\n",
       "    .dataframe tbody tr th {\n",
       "        vertical-align: top;\n",
       "    }\n",
       "\n",
       "    .dataframe thead th {\n",
       "        text-align: right;\n",
       "    }\n",
       "</style>\n",
       "<table border=\"1\" class=\"dataframe\">\n",
       "  <thead>\n",
       "    <tr style=\"text-align: right;\">\n",
       "      <th></th>\n",
       "      <th>date</th>\n",
       "      <th>expiration_date</th>\n",
       "      <th>type</th>\n",
       "      <th>strike_price</th>\n",
       "      <th>ask_price</th>\n",
       "      <th>ask_size</th>\n",
       "      <th>bid_price</th>\n",
       "      <th>bid_size</th>\n",
       "      <th>last_price</th>\n",
       "      <th>volume</th>\n",
       "      <th>open_interest</th>\n",
       "      <th>closing_price</th>\n",
       "      <th>exp_closing_price</th>\n",
       "      <th>date_div</th>\n",
       "      <th>exp_date_div</th>\n",
       "    </tr>\n",
       "  </thead>\n",
       "  <tbody>\n",
       "    <tr>\n",
       "      <th>0</th>\n",
       "      <td>2016-01-04</td>\n",
       "      <td>2016-01-08</td>\n",
       "      <td>call</td>\n",
       "      <td>15.00</td>\n",
       "      <td>11.375</td>\n",
       "      <td>20.0</td>\n",
       "      <td>11.30</td>\n",
       "      <td>12.0</td>\n",
       "      <td>0.0</td>\n",
       "      <td>0.0</td>\n",
       "      <td>0.0</td>\n",
       "      <td>26.337</td>\n",
       "      <td>24.24</td>\n",
       "      <td>0.085246</td>\n",
       "      <td>0.09377</td>\n",
       "    </tr>\n",
       "    <tr>\n",
       "      <th>1</th>\n",
       "      <td>2016-01-04</td>\n",
       "      <td>2016-01-08</td>\n",
       "      <td>put</td>\n",
       "      <td>15.00</td>\n",
       "      <td>0.005</td>\n",
       "      <td>1400.0</td>\n",
       "      <td>0.00</td>\n",
       "      <td>0.0</td>\n",
       "      <td>0.0</td>\n",
       "      <td>0.0</td>\n",
       "      <td>0.0</td>\n",
       "      <td>26.337</td>\n",
       "      <td>24.24</td>\n",
       "      <td>0.085246</td>\n",
       "      <td>0.09377</td>\n",
       "    </tr>\n",
       "    <tr>\n",
       "      <th>2</th>\n",
       "      <td>2016-01-04</td>\n",
       "      <td>2016-01-08</td>\n",
       "      <td>put</td>\n",
       "      <td>16.25</td>\n",
       "      <td>0.005</td>\n",
       "      <td>1412.0</td>\n",
       "      <td>0.00</td>\n",
       "      <td>0.0</td>\n",
       "      <td>0.0</td>\n",
       "      <td>0.0</td>\n",
       "      <td>0.0</td>\n",
       "      <td>26.337</td>\n",
       "      <td>24.24</td>\n",
       "      <td>0.085246</td>\n",
       "      <td>0.09377</td>\n",
       "    </tr>\n",
       "    <tr>\n",
       "      <th>3</th>\n",
       "      <td>2016-01-04</td>\n",
       "      <td>2016-01-08</td>\n",
       "      <td>call</td>\n",
       "      <td>16.25</td>\n",
       "      <td>10.125</td>\n",
       "      <td>20.0</td>\n",
       "      <td>10.05</td>\n",
       "      <td>12.0</td>\n",
       "      <td>0.0</td>\n",
       "      <td>0.0</td>\n",
       "      <td>0.0</td>\n",
       "      <td>26.337</td>\n",
       "      <td>24.24</td>\n",
       "      <td>0.085246</td>\n",
       "      <td>0.09377</td>\n",
       "    </tr>\n",
       "    <tr>\n",
       "      <th>4</th>\n",
       "      <td>2016-01-04</td>\n",
       "      <td>2016-01-08</td>\n",
       "      <td>put</td>\n",
       "      <td>17.50</td>\n",
       "      <td>0.005</td>\n",
       "      <td>1404.0</td>\n",
       "      <td>0.00</td>\n",
       "      <td>0.0</td>\n",
       "      <td>0.0</td>\n",
       "      <td>0.0</td>\n",
       "      <td>0.0</td>\n",
       "      <td>26.337</td>\n",
       "      <td>24.24</td>\n",
       "      <td>0.085246</td>\n",
       "      <td>0.09377</td>\n",
       "    </tr>\n",
       "  </tbody>\n",
       "</table>\n",
       "</div>"
      ],
      "text/plain": [
       "        date expiration_date  type  strike_price  ask_price  ask_size  \\\n",
       "0 2016-01-04      2016-01-08  call         15.00     11.375      20.0   \n",
       "1 2016-01-04      2016-01-08   put         15.00      0.005    1400.0   \n",
       "2 2016-01-04      2016-01-08   put         16.25      0.005    1412.0   \n",
       "3 2016-01-04      2016-01-08  call         16.25     10.125      20.0   \n",
       "4 2016-01-04      2016-01-08   put         17.50      0.005    1404.0   \n",
       "\n",
       "   bid_price  bid_size  last_price  volume  open_interest  closing_price  \\\n",
       "0      11.30      12.0         0.0     0.0            0.0         26.337   \n",
       "1       0.00       0.0         0.0     0.0            0.0         26.337   \n",
       "2       0.00       0.0         0.0     0.0            0.0         26.337   \n",
       "3      10.05      12.0         0.0     0.0            0.0         26.337   \n",
       "4       0.00       0.0         0.0     0.0            0.0         26.337   \n",
       "\n",
       "   exp_closing_price  date_div  exp_date_div  \n",
       "0              24.24  0.085246       0.09377  \n",
       "1              24.24  0.085246       0.09377  \n",
       "2              24.24  0.085246       0.09377  \n",
       "3              24.24  0.085246       0.09377  \n",
       "4              24.24  0.085246       0.09377  "
      ]
     },
     "execution_count": 90,
     "metadata": {},
     "output_type": "execute_result"
    }
   ],
   "source": [
    "original_options_df.head()"
   ]
  },
  {
   "cell_type": "code",
   "execution_count": 12,
   "metadata": {},
   "outputs": [
    {
     "data": {
      "text/plain": [
       "Index(['date', 'expiration_date', 'type', 'strike_price', 'ask_price',\n",
       "       'ask_size', 'bid_price', 'bid_size', 'last_price', 'volume',\n",
       "       'open_interest', 'closing_price', 'exp_closing_price', 'date_div',\n",
       "       'exp_date_div', 'call_bid', 'put_bid', 'call_ask', 'put_ask',\n",
       "       'call_open_interest', 'put_open_interest', 'call_volume', 'put_volume',\n",
       "       'call_size', 'put_size', 'combined_oi', 'combined_volume', 'DTE'],\n",
       "      dtype='object')"
      ]
     },
     "execution_count": 12,
     "metadata": {},
     "output_type": "execute_result"
    }
   ],
   "source": [
    "options_df.columns"
   ]
  },
  {
   "cell_type": "code",
   "execution_count": null,
   "metadata": {},
   "outputs": [],
   "source": [
    "call_columns_to_keep = [\"date\", \"expiration_date\", \"strike_price\", \"closing_price\", \"call_bid\", \"call_size\", \"\"]\n",
    "call_df = options_df[\"call_bid\"]"
   ]
  },
  {
   "cell_type": "code",
   "execution_count": 33,
   "metadata": {},
   "outputs": [],
   "source": [
    "bid_mask = (options_df[\"call_bid\"] > 0) & (options_df[\"put_bid\"] > 0)\n",
    "ask_mask = (options_df[\"call_ask\"] > 0) & (options_df[\"put_ask\"] > 0)\n",
    "size_mask = options_df[\"call_size\"] & options_df[\"put_size\"]\n",
    "\n",
    "options_df = options_df[bid_mask & ask_mask & size_mask]"
   ]
  },
  {
   "cell_type": "code",
   "execution_count": 15,
   "metadata": {},
   "outputs": [
    {
     "data": {
      "text/plain": [
       "116936"
      ]
     },
     "execution_count": 15,
     "metadata": {},
     "output_type": "execute_result"
    }
   ],
   "source": [
    "len(options_df)"
   ]
  }
 ],
 "metadata": {
  "kernelspec": {
   "display_name": "qfi",
   "language": "python",
   "name": "python3"
  },
  "language_info": {
   "codemirror_mode": {
    "name": "ipython",
    "version": 3
   },
   "file_extension": ".py",
   "mimetype": "text/x-python",
   "name": "python",
   "nbconvert_exporter": "python",
   "pygments_lexer": "ipython3",
   "version": "3.12.4"
  }
 },
 "nbformat": 4,
 "nbformat_minor": 2
}
