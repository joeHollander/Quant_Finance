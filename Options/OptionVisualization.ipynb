{
 "cells": [
  {
   "cell_type": "markdown",
   "metadata": {},
   "source": [
    "Display skew, term structure, greeks, distribution of returns, statistical moments, vol smile/smirk, vol surface, IV vs RV"
   ]
  },
  {
   "cell_type": "code",
   "execution_count": 1,
   "metadata": {},
   "outputs": [],
   "source": [
    "import numpy as  np\n",
    "import matplotlib.pyplot as plt\n",
    "import pandas as pd\n",
    "from datetime import datetime"
   ]
  },
  {
   "cell_type": "code",
   "execution_count": 2,
   "metadata": {},
   "outputs": [
    {
     "data": {
      "text/html": [
       "<div>\n",
       "<style scoped>\n",
       "    .dataframe tbody tr th:only-of-type {\n",
       "        vertical-align: middle;\n",
       "    }\n",
       "\n",
       "    .dataframe tbody tr th {\n",
       "        vertical-align: top;\n",
       "    }\n",
       "\n",
       "    .dataframe thead th {\n",
       "        text-align: right;\n",
       "    }\n",
       "</style>\n",
       "<table border=\"1\" class=\"dataframe\">\n",
       "  <thead>\n",
       "    <tr style=\"text-align: right;\">\n",
       "      <th></th>\n",
       "      <th>date</th>\n",
       "      <th>expiration date</th>\n",
       "      <th>type</th>\n",
       "      <th>strike price</th>\n",
       "      <th>ask price</th>\n",
       "      <th>ask size</th>\n",
       "      <th>bid price</th>\n",
       "      <th>bid size</th>\n",
       "      <th>last price</th>\n",
       "      <th>volume</th>\n",
       "      <th>open interest</th>\n",
       "      <th>closing price</th>\n",
       "      <th>exp closing price</th>\n",
       "      <th>date div</th>\n",
       "      <th>exp date div</th>\n",
       "    </tr>\n",
       "  </thead>\n",
       "  <tbody>\n",
       "    <tr>\n",
       "      <th>0</th>\n",
       "      <td>2016-01-04</td>\n",
       "      <td>2016-01-08</td>\n",
       "      <td>call</td>\n",
       "      <td>15.0</td>\n",
       "      <td>11.375</td>\n",
       "      <td>20.0</td>\n",
       "      <td>11.3</td>\n",
       "      <td>12.0</td>\n",
       "      <td>0.0</td>\n",
       "      <td>0.0</td>\n",
       "      <td>0.0</td>\n",
       "      <td>26.337</td>\n",
       "      <td>24.24</td>\n",
       "      <td>0.085246</td>\n",
       "      <td>0.09377</td>\n",
       "    </tr>\n",
       "    <tr>\n",
       "      <th>1</th>\n",
       "      <td>2016-01-04</td>\n",
       "      <td>2016-01-08</td>\n",
       "      <td>put</td>\n",
       "      <td>15.0</td>\n",
       "      <td>0.005</td>\n",
       "      <td>1400.0</td>\n",
       "      <td>0.0</td>\n",
       "      <td>0.0</td>\n",
       "      <td>0.0</td>\n",
       "      <td>0.0</td>\n",
       "      <td>0.0</td>\n",
       "      <td>26.337</td>\n",
       "      <td>24.24</td>\n",
       "      <td>0.085246</td>\n",
       "      <td>0.09377</td>\n",
       "    </tr>\n",
       "  </tbody>\n",
       "</table>\n",
       "</div>"
      ],
      "text/plain": [
       "         date expiration date  type  strike price  ask price  ask size  \\\n",
       "0  2016-01-04      2016-01-08  call          15.0     11.375      20.0   \n",
       "1  2016-01-04      2016-01-08   put          15.0      0.005    1400.0   \n",
       "\n",
       "   bid price  bid size  last price  volume  open interest  closing price  \\\n",
       "0       11.3      12.0         0.0     0.0            0.0         26.337   \n",
       "1        0.0       0.0         0.0     0.0            0.0         26.337   \n",
       "\n",
       "   exp closing price  date div  exp date div  \n",
       "0              24.24  0.085246       0.09377  \n",
       "1              24.24  0.085246       0.09377  "
      ]
     },
     "execution_count": 2,
     "metadata": {},
     "output_type": "execute_result"
    }
   ],
   "source": [
    "# loading data\n",
    "path = r\"Data\\AAPL_options.csv\"\n",
    "options_df = pd.read_csv(path)\n",
    "options_df.head(2)"
   ]
  },
  {
   "cell_type": "code",
   "execution_count": 3,
   "metadata": {},
   "outputs": [
    {
     "data": {
      "text/html": [
       "<div>\n",
       "<style scoped>\n",
       "    .dataframe tbody tr th:only-of-type {\n",
       "        vertical-align: middle;\n",
       "    }\n",
       "\n",
       "    .dataframe tbody tr th {\n",
       "        vertical-align: top;\n",
       "    }\n",
       "\n",
       "    .dataframe thead th {\n",
       "        text-align: right;\n",
       "    }\n",
       "</style>\n",
       "<table border=\"1\" class=\"dataframe\">\n",
       "  <thead>\n",
       "    <tr style=\"text-align: right;\">\n",
       "      <th></th>\n",
       "      <th>date</th>\n",
       "      <th>expiration date</th>\n",
       "      <th>type</th>\n",
       "      <th>strike price</th>\n",
       "      <th>ask price</th>\n",
       "      <th>ask size</th>\n",
       "      <th>bid price</th>\n",
       "      <th>bid size</th>\n",
       "      <th>last price</th>\n",
       "      <th>volume</th>\n",
       "      <th>open interest</th>\n",
       "      <th>closing price</th>\n",
       "      <th>exp closing price</th>\n",
       "      <th>date div</th>\n",
       "      <th>exp date div</th>\n",
       "      <th>mid price</th>\n",
       "    </tr>\n",
       "  </thead>\n",
       "  <tbody>\n",
       "    <tr>\n",
       "      <th>0</th>\n",
       "      <td>2016-01-04</td>\n",
       "      <td>2016-01-08</td>\n",
       "      <td>call</td>\n",
       "      <td>15.0</td>\n",
       "      <td>11.375</td>\n",
       "      <td>20.0</td>\n",
       "      <td>11.3</td>\n",
       "      <td>12.0</td>\n",
       "      <td>0.0</td>\n",
       "      <td>0.0</td>\n",
       "      <td>0.0</td>\n",
       "      <td>26.337</td>\n",
       "      <td>24.24</td>\n",
       "      <td>0.085246</td>\n",
       "      <td>0.09377</td>\n",
       "      <td>11.3375</td>\n",
       "    </tr>\n",
       "    <tr>\n",
       "      <th>1</th>\n",
       "      <td>2016-01-04</td>\n",
       "      <td>2016-01-08</td>\n",
       "      <td>put</td>\n",
       "      <td>15.0</td>\n",
       "      <td>0.005</td>\n",
       "      <td>1400.0</td>\n",
       "      <td>0.0</td>\n",
       "      <td>0.0</td>\n",
       "      <td>0.0</td>\n",
       "      <td>0.0</td>\n",
       "      <td>0.0</td>\n",
       "      <td>26.337</td>\n",
       "      <td>24.24</td>\n",
       "      <td>0.085246</td>\n",
       "      <td>0.09377</td>\n",
       "      <td>0.0025</td>\n",
       "    </tr>\n",
       "  </tbody>\n",
       "</table>\n",
       "</div>"
      ],
      "text/plain": [
       "         date expiration date  type  strike price  ask price  ask size  \\\n",
       "0  2016-01-04      2016-01-08  call          15.0     11.375      20.0   \n",
       "1  2016-01-04      2016-01-08   put          15.0      0.005    1400.0   \n",
       "\n",
       "   bid price  bid size  last price  volume  open interest  closing price  \\\n",
       "0       11.3      12.0         0.0     0.0            0.0         26.337   \n",
       "1        0.0       0.0         0.0     0.0            0.0         26.337   \n",
       "\n",
       "   exp closing price  date div  exp date div  mid price  \n",
       "0              24.24  0.085246       0.09377    11.3375  \n",
       "1              24.24  0.085246       0.09377     0.0025  "
      ]
     },
     "execution_count": 3,
     "metadata": {},
     "output_type": "execute_result"
    }
   ],
   "source": [
    "# creating mid price\n",
    "options_df[\"mid price\"] = round((options_df[\"ask price\"] + options_df[\"bid price\"])/2, 5)\n",
    "options_df.head(2)"
   ]
  },
  {
   "cell_type": "code",
   "execution_count": 4,
   "metadata": {},
   "outputs": [],
   "source": [
    "# concatenating call and put rows for the same price    \n",
    "# call mid, put mid are columns 16 and 17 respectively\n",
    "options_df[\"call mid\"] = 0\n",
    "options_df[\"put mid\"] = 0\n",
    "    \n",
    "# boolean masks for call and put options in every second row\n",
    "call_mask = (options_df.iloc[::2, 2] == \"call\").values\n",
    "put_mask = (options_df.iloc[::2, 2] == \"put\").values\n",
    "\n",
    "# indices of every second row\n",
    "indices = np.arange(0, options_df.shape[0], 2)\n",
    "\n",
    "# assign values based on call options\n",
    "# if call, call mid will be assigned from mid price and put mid will be assigned from next mid price\n",
    "options_df.iloc[indices[call_mask], 16] = options_df.iloc[indices[call_mask], 15].values\n",
    "options_df.iloc[indices[call_mask], 17] = options_df.iloc[indices[call_mask] + 1, 15].values\n",
    "# assign values based on put options\n",
    "options_df.iloc[indices[put_mask], 17] = options_df.iloc[indices[put_mask], 15].values\n",
    "options_df.iloc[indices[put_mask], 16] = options_df.iloc[indices[put_mask] + 1, 15].values"
   ]
  },
  {
   "cell_type": "code",
   "execution_count": 5,
   "metadata": {},
   "outputs": [
    {
     "data": {
      "text/html": [
       "<div>\n",
       "<style scoped>\n",
       "    .dataframe tbody tr th:only-of-type {\n",
       "        vertical-align: middle;\n",
       "    }\n",
       "\n",
       "    .dataframe tbody tr th {\n",
       "        vertical-align: top;\n",
       "    }\n",
       "\n",
       "    .dataframe thead th {\n",
       "        text-align: right;\n",
       "    }\n",
       "</style>\n",
       "<table border=\"1\" class=\"dataframe\">\n",
       "  <thead>\n",
       "    <tr style=\"text-align: right;\">\n",
       "      <th></th>\n",
       "      <th>date</th>\n",
       "      <th>expiration date</th>\n",
       "      <th>strike price</th>\n",
       "      <th>ask size</th>\n",
       "      <th>bid size</th>\n",
       "      <th>closing price</th>\n",
       "      <th>mid price</th>\n",
       "      <th>call mid</th>\n",
       "      <th>put mid</th>\n",
       "      <th>DTE</th>\n",
       "    </tr>\n",
       "  </thead>\n",
       "  <tbody>\n",
       "    <tr>\n",
       "      <th>55</th>\n",
       "      <td>2016-01-04</td>\n",
       "      <td>2016-01-15</td>\n",
       "      <td>8.5725</td>\n",
       "      <td>168.0</td>\n",
       "      <td>0.0</td>\n",
       "      <td>26.337</td>\n",
       "      <td>0.00125</td>\n",
       "      <td>17.75625</td>\n",
       "      <td>0.00125</td>\n",
       "      <td>11</td>\n",
       "    </tr>\n",
       "    <tr>\n",
       "      <th>56</th>\n",
       "      <td>2016-01-04</td>\n",
       "      <td>2016-01-15</td>\n",
       "      <td>8.9275</td>\n",
       "      <td>1436.0</td>\n",
       "      <td>0.0</td>\n",
       "      <td>26.337</td>\n",
       "      <td>0.00250</td>\n",
       "      <td>17.40625</td>\n",
       "      <td>0.00250</td>\n",
       "      <td>11</td>\n",
       "    </tr>\n",
       "  </tbody>\n",
       "</table>\n",
       "</div>"
      ],
      "text/plain": [
       "          date expiration date  strike price  ask size  bid size  \\\n",
       "55  2016-01-04      2016-01-15        8.5725     168.0       0.0   \n",
       "56  2016-01-04      2016-01-15        8.9275    1436.0       0.0   \n",
       "\n",
       "    closing price  mid price  call mid  put mid  DTE  \n",
       "55         26.337    0.00125  17.75625  0.00125   11  \n",
       "56         26.337    0.00250  17.40625  0.00250   11  "
      ]
     },
     "execution_count": 5,
     "metadata": {},
     "output_type": "execute_result"
    }
   ],
   "source": [
    "# reducing rows to every other and fixing index\n",
    "options_df = options_df[options_df.index % 2 == 0]\n",
    "options_df.index = np.arange(0, len(options_df))\n",
    "\n",
    "# dropping unnecessary columns\n",
    "options_df = options_df.drop([\"bid price\", \"ask price\", \"last price\",\n",
    "\"volume\", \"open interest\", \"exp closing price\", \"date div\", \"exp date div\",\"type\"], axis=1)\n",
    "\n",
    "# creating DTE\n",
    "T = (pd.to_datetime(options_df[\"expiration date\"]) - pd.to_datetime(options_df[\"date\"])).dt.days\n",
    "options_df[\"DTE\"] = T\n",
    "\n",
    "# restricting DTE\n",
    "options_df = options_df[options_df[\"DTE\"] > 4]\n",
    "options_df = options_df[options_df[\"DTE\"] < 365]\n",
    "\n",
    "# dropping rows with zero call and put mid\n",
    "mask1 = options_df[\"call mid\"] > 0\n",
    "mask2 = options_df[\"put mid\"] > 0\n",
    "options_df = options_df[mask1 | mask2]\n",
    "options_df.head(2)"
   ]
  },
  {
   "cell_type": "code",
   "execution_count": 6,
   "metadata": {},
   "outputs": [
    {
     "data": {
      "text/html": [
       "<div>\n",
       "<style scoped>\n",
       "    .dataframe tbody tr th:only-of-type {\n",
       "        vertical-align: middle;\n",
       "    }\n",
       "\n",
       "    .dataframe tbody tr th {\n",
       "        vertical-align: top;\n",
       "    }\n",
       "\n",
       "    .dataframe thead th {\n",
       "        text-align: right;\n",
       "    }\n",
       "</style>\n",
       "<table border=\"1\" class=\"dataframe\">\n",
       "  <thead>\n",
       "    <tr style=\"text-align: right;\">\n",
       "      <th></th>\n",
       "      <th>date</th>\n",
       "      <th>DTE</th>\n",
       "      <th>strike price</th>\n",
       "      <th>closing price</th>\n",
       "      <th>call mid</th>\n",
       "      <th>put mid</th>\n",
       "      <th>terms</th>\n",
       "    </tr>\n",
       "  </thead>\n",
       "  <tbody>\n",
       "    <tr>\n",
       "      <th>0</th>\n",
       "      <td>2016-01-04</td>\n",
       "      <td>[11, 11, 11, 11, 11, 11, 11, 11, 11, 11, 11, 1...</td>\n",
       "      <td>[8.5725, 8.9275, 9.285, 9.6425, 10.0, 10.3575,...</td>\n",
       "      <td>[26.337, 26.337, 26.337, 26.337, 26.337, 26.33...</td>\n",
       "      <td>[17.75625, 17.40625, 17.05, 16.7, 16.3375, 15....</td>\n",
       "      <td>[0.00125, 0.0025, 0.0025, 0.0025, 0.0025, 0.00...</td>\n",
       "      <td>[11, 18, 25, 32, 39, 46, 74, 102, 165, 193, 291]</td>\n",
       "    </tr>\n",
       "  </tbody>\n",
       "</table>\n",
       "</div>"
      ],
      "text/plain": [
       "        date                                                DTE  \\\n",
       "0 2016-01-04  [11, 11, 11, 11, 11, 11, 11, 11, 11, 11, 11, 1...   \n",
       "\n",
       "                                        strike price  \\\n",
       "0  [8.5725, 8.9275, 9.285, 9.6425, 10.0, 10.3575,...   \n",
       "\n",
       "                                       closing price  \\\n",
       "0  [26.337, 26.337, 26.337, 26.337, 26.337, 26.33...   \n",
       "\n",
       "                                            call mid  \\\n",
       "0  [17.75625, 17.40625, 17.05, 16.7, 16.3375, 15....   \n",
       "\n",
       "                                             put mid  \\\n",
       "0  [0.00125, 0.0025, 0.0025, 0.0025, 0.0025, 0.00...   \n",
       "\n",
       "                                              terms  \n",
       "0  [11, 18, 25, 32, 39, 46, 74, 102, 165, 193, 291]  "
      ]
     },
     "execution_count": 6,
     "metadata": {},
     "output_type": "execute_result"
    }
   ],
   "source": [
    "# creating new dataframe for date organization\n",
    "df = pd.DataFrame()\n",
    "\n",
    "# organizing based on dates\n",
    "for header in [\"DTE\", \"strike price\", \"closing price\", \"call mid\", \"put mid\"]:\n",
    "    df[header] = options_df.groupby(\"date\")[header].apply(np.array)\n",
    "\n",
    "# converting index to date column\n",
    "if \"date\" not in df.columns:\n",
    "    df = df.reset_index()\n",
    "\n",
    "df[\"date\"] = pd.to_datetime(df[\"date\"])\n",
    "df[\"terms\"] = df[\"DTE\"].apply(lambda x: sorted(set(x)))\n",
    "df.head(1)"
   ]
  },
  {
   "cell_type": "code",
   "execution_count": 13,
   "metadata": {},
   "outputs": [],
   "source": [
    "# for simplicity assuming interest rate is 0.05, will probably adjust later using cubic spline approach\n",
    "# calculating implied volatility using root optimizer\n",
    "from scipy import optimize\n",
    "import scipy.stats as si\n",
    "\n",
    "def calcimpliedvol(price, S, K, T, r=0.05):\n",
    "    def bs_price(sigma):\n",
    "        d1 = (np.log(S / K) + (r + 0.5 * sigma**2) * T) / (sigma * np.sqrt(T))\n",
    "        d2 = d1 - sigma * np.sqrt(T)\n",
    "        fx = (S * si.norm.cdf(d1, 0, 1) - K * np.exp(-r * T) * si.norm.cdf(d2, 0, 1)) - price\n",
    "        return fx \n",
    "    \n",
    "    try:\n",
    "        return optimize.brentq(bs_price, 0.00001, 20, maxiter=1000)\n",
    "    except:\n",
    "        return np.NaN \n",
    "    \n",
    "def compute_iv(price, S, K, T):\n",
    "    return [calcimpliedvol(price, s, k, t) for price, s, k, t in zip(price, S, K, T)]"
   ]
  },
  {
   "cell_type": "code",
   "execution_count": 17,
   "metadata": {},
   "outputs": [],
   "source": [
    "# getting df ready for IV calculation\n",
    "df[\"T\"] = df[\"DTE\"].to_numpy() / 365"
   ]
  },
  {
   "cell_type": "code",
   "execution_count": 20,
   "metadata": {},
   "outputs": [
    {
     "name": "stderr",
     "output_type": "stream",
     "text": [
      "C:\\Users\\hollanderj\\AppData\\Local\\Temp\\ipykernel_18684\\2523724924.py:3: SettingWithCopyWarning: \n",
      "A value is trying to be set on a copy of a slice from a DataFrame.\n",
      "Try using .loc[row_indexer,col_indexer] = value instead\n",
      "\n",
      "See the caveats in the documentation: https://pandas.pydata.org/pandas-docs/stable/user_guide/indexing.html#returning-a-view-versus-a-copy\n",
      "  df1[\"IV\"] = list(map(compute_iv, df1[\"call mid\"], df1[\"closing price\"], df1[\"strike price\"], df1[\"T\"]))\n"
     ]
    }
   ],
   "source": [
    "# performing IV calc on df\n",
    "df1 = df.head(5)\n",
    "df1[\"IV\"] = list(map(compute_iv, df1[\"call mid\"], df1[\"closing price\"], df1[\"strike price\"], df1[\"T\"]))\n",
    "# df1[\"IV\"] = [np.round(x, 5) for x in df1[\"IV\"]]"
   ]
  },
  {
   "cell_type": "code",
   "execution_count": 21,
   "metadata": {},
   "outputs": [
    {
     "name": "stderr",
     "output_type": "stream",
     "text": [
      "C:\\Users\\hollanderj\\AppData\\Local\\Temp\\ipykernel_18684\\2034578682.py:12: SettingWithCopyWarning: \n",
      "A value is trying to be set on a copy of a slice from a DataFrame.\n",
      "Try using .loc[row_indexer,col_indexer] = value instead\n",
      "\n",
      "See the caveats in the documentation: https://pandas.pydata.org/pandas-docs/stable/user_guide/indexing.html#returning-a-view-versus-a-copy\n",
      "  df1[\"IV by DTE\"] = [groupy_by_dte(row[\"DTE\"], row[\"IV\"], row[\"terms\"]) for idx, row in df1.iterrows()]\n",
      "C:\\Users\\hollanderj\\AppData\\Local\\Temp\\ipykernel_18684\\2034578682.py:13: SettingWithCopyWarning: \n",
      "A value is trying to be set on a copy of a slice from a DataFrame.\n",
      "Try using .loc[row_indexer,col_indexer] = value instead\n",
      "\n",
      "See the caveats in the documentation: https://pandas.pydata.org/pandas-docs/stable/user_guide/indexing.html#returning-a-view-versus-a-copy\n",
      "  df1[\"strike by DTE\"] = [groupy_by_dte(row[\"DTE\"], row[\"strike price\"], row[\"terms\"]) for idx, row in df1.iterrows()]\n"
     ]
    },
    {
     "data": {
      "image/png": "[encoded data removed]",
      "text/plain": [
       "<Figure size 432x144 with 1 Axes>"
      ]
     },
     "metadata": {
      "needs_background": "light"
     },
     "output_type": "display_data"
    },
    {
     "data": {
      "image/png": "[encoded data removed]",
      "text/plain": [
       "<Figure size 432x144 with 1 Axes>"
      ]
     },
     "metadata": {
      "needs_background": "light"
     },
     "output_type": "display_data"
    },
    {
     "data": {
      "image/png": "[encoded data removed]",
      "text/plain": [
       "<Figure size 432x144 with 1 Axes>"
      ]
     },
     "metadata": {
      "needs_background": "light"
     },
     "output_type": "display_data"
    },
    {
     "data": {
      "image/png": "[encoded data removed]",
      "text/plain": [
       "<Figure size 432x144 with 1 Axes>"
      ]
     },
     "metadata": {
      "needs_background": "light"
     },
     "output_type": "display_data"
    },
    {
     "data": {
      "image/png": "[encoded data removed]",
      "text/plain": [
       "<Figure size 432x144 with 1 Axes>"
      ]
     },
     "metadata": {
      "needs_background": "light"
     },
     "output_type": "display_data"
    }
   ],
   "source": [
    "#graphing skew\n",
    "def groupy_by_dte(dte, val, terms):\n",
    "    grouped_mask = {}\n",
    "    for i in terms:\n",
    "        if i not in grouped_mask:\n",
    "            grouped_mask[i] = []\n",
    "        grouped_mask[i] = list(np.array(val)[dte == i])\n",
    "\n",
    "    return list(grouped_mask.values())\n",
    "\n",
    "\n",
    "df1[\"IV by DTE\"] = [groupy_by_dte(row[\"DTE\"], row[\"IV\"], row[\"terms\"]) for idx, row in df1.iterrows()]\n",
    "df1[\"strike by DTE\"] = [groupy_by_dte(row[\"DTE\"], row[\"strike price\"], row[\"terms\"]) for idx, row in df1.iterrows()]\n",
    "\n",
    "num_of_graphs = 5\n",
    "for i in range(num_of_graphs):\n",
    "    x = np.round(100 * np.array(df1.loc[0, \"strike by DTE\"][i]) / df1.loc[0, \"closing price\"][i], 5)\n",
    "    y = df1.loc[0, \"IV by DTE\"][i]\n",
    "    plt.figure(i, figsize=(6,2))\n",
    "    plt.plot(x, y)\n",
    "    plt.xlim(40, 180)\n",
    "    plt.ylim(0, 2)\n",
    "    DTE = df1.loc[0, \"terms\"][i]\n",
    "    plt.title(f\"Skew at {DTE} DTE\")\n",
    "    plt.xlabel(\"Strike Price as Percent of Closing Price\")\n",
    "    plt.ylabel(\"IV from Black Scholes\")"
   ]
  },
  {
   "cell_type": "code",
   "execution_count": 25,
   "metadata": {},
   "outputs": [
    {
     "name": "stderr",
     "output_type": "stream",
     "text": [
      "C:\\Users\\hollanderj\\AppData\\Local\\Temp\\ipykernel_13396\\3713327667.py:3: SettingWithCopyWarning: \n",
      "A value is trying to be set on a copy of a slice from a DataFrame.\n",
      "Try using .loc[row_indexer,col_indexer] = value instead\n",
      "\n",
      "See the caveats in the documentation: https://pandas.pydata.org/pandas-docs/stable/user_guide/indexing.html#returning-a-view-versus-a-copy\n",
      "  df1[\"close adj strike\"] = df1[\"strike price\"] / df1[\"closing price\"]\n",
      "C:\\Users\\hollanderj\\AppData\\Local\\Temp\\ipykernel_13396\\3713327667.py:13: SettingWithCopyWarning: \n",
      "A value is trying to be set on a copy of a slice from a DataFrame.\n",
      "Try using .loc[row_indexer,col_indexer] = value instead\n",
      "\n",
      "See the caveats in the documentation: https://pandas.pydata.org/pandas-docs/stable/user_guide/indexing.html#returning-a-view-versus-a-copy\n",
      "  df1[\"atm strike index\"] = list(map(index_closest_to, np.full(len(df1[\"close adj strike\"]), moneyness_val), df1[\"close adj strike\"]))\n",
      "C:\\Users\\hollanderj\\AppData\\Local\\Temp\\ipykernel_13396\\3713327667.py:14: SettingWithCopyWarning: \n",
      "A value is trying to be set on a copy of a slice from a DataFrame.\n",
      "Try using .loc[row_indexer,col_indexer] = value instead\n",
      "\n",
      "See the caveats in the documentation: https://pandas.pydata.org/pandas-docs/stable/user_guide/indexing.html#returning-a-view-versus-a-copy\n",
      "  df1[\"atm strike index\"] = [np.array(x).flatten() for x in df1[\"atm strike index\"]]\n"
     ]
    },
    {
     "data": {
      "text/html": [
       "<div>\n",
       "<style scoped>\n",
       "    .dataframe tbody tr th:only-of-type {\n",
       "        vertical-align: middle;\n",
       "    }\n",
       "\n",
       "    .dataframe tbody tr th {\n",
       "        vertical-align: top;\n",
       "    }\n",
       "\n",
       "    .dataframe thead th {\n",
       "        text-align: right;\n",
       "    }\n",
       "</style>\n",
       "<table border=\"1\" class=\"dataframe\">\n",
       "  <thead>\n",
       "    <tr style=\"text-align: right;\">\n",
       "      <th></th>\n",
       "      <th>date</th>\n",
       "      <th>DTE</th>\n",
       "      <th>strike price</th>\n",
       "      <th>closing price</th>\n",
       "      <th>call mid</th>\n",
       "      <th>put mid</th>\n",
       "      <th>terms</th>\n",
       "      <th>T</th>\n",
       "      <th>IV</th>\n",
       "      <th>IV by DTE</th>\n",
       "      <th>strike by DTE</th>\n",
       "      <th>close adj strike</th>\n",
       "      <th>atm strike index</th>\n",
       "    </tr>\n",
       "  </thead>\n",
       "  <tbody>\n",
       "    <tr>\n",
       "      <th>0</th>\n",
       "      <td>2016-01-04</td>\n",
       "      <td>[11, 11, 11, 11, 11, 11, 11, 11, 11, 11, 11, 1...</td>\n",
       "      <td>[8.5725, 8.9275, 9.285, 9.6425, 10.0, 10.3575,...</td>\n",
       "      <td>[26.337, 26.337, 26.337, 26.337, 26.337, 26.33...</td>\n",
       "      <td>[17.75625, 17.40625, 17.05, 16.7, 16.3375, 15....</td>\n",
       "      <td>[0.00125, 0.0025, 0.0025, 0.0025, 0.0025, 0.00...</td>\n",
       "      <td>[11, 18, 25, 32, 39, 46, 74, 102, 165, 193, 291]</td>\n",
       "      <td>[0.03014, 0.03014, 0.03014, 0.03014, 0.03014, ...</td>\n",
       "      <td>[nan, nan, nan, nan, nan, nan, nan, nan, nan, ...</td>\n",
       "      <td>[[nan, nan, nan, nan, nan, nan, nan, nan, nan,...</td>\n",
       "      <td>[[8.5725, 8.9275, 9.285, 9.6425, 10.0, 10.3575...</td>\n",
       "      <td>[0.32549265292174506, 0.33897178873827694, 0.3...</td>\n",
       "      <td>[73, 148, 188, 233, 276, 308, 331, 357, 387, 4...</td>\n",
       "    </tr>\n",
       "    <tr>\n",
       "      <th>1</th>\n",
       "      <td>2016-01-05</td>\n",
       "      <td>[10, 10, 10, 10, 10, 10, 10, 10, 10, 10, 10, 1...</td>\n",
       "      <td>[8.5725, 8.9275, 9.285, 9.6425, 10.0, 10.3575,...</td>\n",
       "      <td>[25.677, 25.677, 25.677, 25.677, 25.677, 25.67...</td>\n",
       "      <td>[17.1125, 16.75, 16.4, 16.0375, 15.67875, 15.3...</td>\n",
       "      <td>[0.00125, 0.0025, 0.0025, 0.0025, 0.0025, 0.00...</td>\n",
       "      <td>[10, 17, 24, 31, 38, 45, 73, 101, 164, 192, 290]</td>\n",
       "      <td>[0.0274, 0.0274, 0.0274, 0.0274, 0.0274, 0.027...</td>\n",
       "      <td>[nan, nan, nan, nan, nan, nan, nan, nan, nan, ...</td>\n",
       "      <td>[[nan, nan, nan, nan, nan, nan, nan, nan, nan,...</td>\n",
       "      <td>[[8.5725, 8.9275, 9.285, 9.6425, 10.0, 10.3575...</td>\n",
       "      <td>[0.33385909568874866, 0.34768469836818944, 0.3...</td>\n",
       "      <td>[67]</td>\n",
       "    </tr>\n",
       "    <tr>\n",
       "      <th>2</th>\n",
       "      <td>2016-01-06</td>\n",
       "      <td>[9, 9, 9, 9, 9, 9, 9, 9, 9, 9, 9, 9, 9, 9, 9, ...</td>\n",
       "      <td>[8.5725, 8.9275, 9.285, 9.6425, 10.0, 10.3575,...</td>\n",
       "      <td>[25.175, 25.175, 25.175, 25.175, 25.175, 25.17...</td>\n",
       "      <td>[16.6, 16.24375, 15.8875, 15.525, 15.175, 14.8...</td>\n",
       "      <td>[0.00125, 0.0025, 0.0025, 0.0025, 0.0025, 0.00...</td>\n",
       "      <td>[9, 16, 23, 30, 37, 44, 72, 100, 163, 191, 289]</td>\n",
       "      <td>[0.02466, 0.02466, 0.02466, 0.02466, 0.02466, ...</td>\n",
       "      <td>[nan, nan, nan, nan, nan, nan, nan, nan, nan, ...</td>\n",
       "      <td>[[nan, nan, nan, nan, nan, nan, nan, nan, nan,...</td>\n",
       "      <td>[[8.5725, 8.9275, 9.285, 9.6425, 10.0, 10.3575...</td>\n",
       "      <td>[0.3405163853028798, 0.35461767626613705, 0.36...</td>\n",
       "      <td>[62, 145, 183, 229, 276, 312, 335, 361, 391, 4...</td>\n",
       "    </tr>\n",
       "    <tr>\n",
       "      <th>3</th>\n",
       "      <td>2016-01-07</td>\n",
       "      <td>[8, 8, 8, 8, 8, 8, 8, 8, 8, 8, 8, 8, 8, 8, 8, ...</td>\n",
       "      <td>[8.5725, 8.9275, 9.285, 9.6425, 10.0, 10.3575,...</td>\n",
       "      <td>[24.113000000000003, 24.113000000000003, 24.11...</td>\n",
       "      <td>[15.56875, 15.2, 14.8475, 14.49125, 14.125, 13...</td>\n",
       "      <td>[0.00125, 0.00375, 0.00375, 0.0025, 0.00125, 0...</td>\n",
       "      <td>[8, 15, 22, 29, 36, 43, 50, 71, 99, 162, 190, ...</td>\n",
       "      <td>[0.02192, 0.02192, 0.02192, 0.02192, 0.02192, ...</td>\n",
       "      <td>[2.961124353222518, 2.4439932560228956, 2.5265...</td>\n",
       "      <td>[[2.961124353222518, 2.4439932560228956, 2.526...</td>\n",
       "      <td>[[8.5725, 8.9275, 9.285, 9.6425, 10.0, 10.3575...</td>\n",
       "      <td>[0.3555136233566955, 0.3702359722971011, 0.385...</td>\n",
       "      <td>[61, 347]</td>\n",
       "    </tr>\n",
       "    <tr>\n",
       "      <th>4</th>\n",
       "      <td>2016-01-08</td>\n",
       "      <td>[7, 7, 7, 7, 7, 7, 7, 7, 7, 7, 7, 7, 7, 7, 7, ...</td>\n",
       "      <td>[8.5725, 8.9275, 9.285, 9.6425, 10.0, 10.3575,...</td>\n",
       "      <td>[24.24, 24.24, 24.24, 24.24, 24.24, 24.24, 24....</td>\n",
       "      <td>[15.68125, 15.33125, 14.96875, 14.61625, 14.25...</td>\n",
       "      <td>[0.00125, 0.0025, 0.0025, 0.0025, 0.00375, 0.0...</td>\n",
       "      <td>[7, 14, 21, 28, 35, 42, 49, 70, 98, 161, 189, ...</td>\n",
       "      <td>[0.01918, 0.01918, 0.01918, 0.01918, 0.01918, ...</td>\n",
       "      <td>[2.769355468083506, 2.845943003418371, 2.53276...</td>\n",
       "      <td>[[2.769355468083506, 2.845943003418371, 2.5327...</td>\n",
       "      <td>[[8.5725, 8.9275, 9.285, 9.6425, 10.0, 10.3575...</td>\n",
       "      <td>[0.3536509900990099, 0.3682962046204621, 0.383...</td>\n",
       "      <td>[62, 280, 348]</td>\n",
       "    </tr>\n",
       "  </tbody>\n",
       "</table>\n",
       "</div>"
      ],
      "text/plain": [
       "        date                                                DTE  \\\n",
       "0 2016-01-04  [11, 11, 11, 11, 11, 11, 11, 11, 11, 11, 11, 1...   \n",
       "1 2016-01-05  [10, 10, 10, 10, 10, 10, 10, 10, 10, 10, 10, 1...   \n",
       "2 2016-01-06  [9, 9, 9, 9, 9, 9, 9, 9, 9, 9, 9, 9, 9, 9, 9, ...   \n",
       "3 2016-01-07  [8, 8, 8, 8, 8, 8, 8, 8, 8, 8, 8, 8, 8, 8, 8, ...   \n",
       "4 2016-01-08  [7, 7, 7, 7, 7, 7, 7, 7, 7, 7, 7, 7, 7, 7, 7, ...   \n",
       "\n",
       "                                        strike price  \\\n",
       "0  [8.5725, 8.9275, 9.285, 9.6425, 10.0, 10.3575,...   \n",
       "1  [8.5725, 8.9275, 9.285, 9.6425, 10.0, 10.3575,...   \n",
       "2  [8.5725, 8.9275, 9.285, 9.6425, 10.0, 10.3575,...   \n",
       "3  [8.5725, 8.9275, 9.285, 9.6425, 10.0, 10.3575,...   \n",
       "4  [8.5725, 8.9275, 9.285, 9.6425, 10.0, 10.3575,...   \n",
       "\n",
       "                                       closing price  \\\n",
       "0  [26.337, 26.337, 26.337, 26.337, 26.337, 26.33...   \n",
       "1  [25.677, 25.677, 25.677, 25.677, 25.677, 25.67...   \n",
       "2  [25.175, 25.175, 25.175, 25.175, 25.175, 25.17...   \n",
       "3  [24.113000000000003, 24.113000000000003, 24.11...   \n",
       "4  [24.24, 24.24, 24.24, 24.24, 24.24, 24.24, 24....   \n",
       "\n",
       "                                            call mid  \\\n",
       "0  [17.75625, 17.40625, 17.05, 16.7, 16.3375, 15....   \n",
       "1  [17.1125, 16.75, 16.4, 16.0375, 15.67875, 15.3...   \n",
       "2  [16.6, 16.24375, 15.8875, 15.525, 15.175, 14.8...   \n",
       "3  [15.56875, 15.2, 14.8475, 14.49125, 14.125, 13...   \n",
       "4  [15.68125, 15.33125, 14.96875, 14.61625, 14.25...   \n",
       "\n",
       "                                             put mid  \\\n",
       "0  [0.00125, 0.0025, 0.0025, 0.0025, 0.0025, 0.00...   \n",
       "1  [0.00125, 0.0025, 0.0025, 0.0025, 0.0025, 0.00...   \n",
       "2  [0.00125, 0.0025, 0.0025, 0.0025, 0.0025, 0.00...   \n",
       "3  [0.00125, 0.00375, 0.00375, 0.0025, 0.00125, 0...   \n",
       "4  [0.00125, 0.0025, 0.0025, 0.0025, 0.00375, 0.0...   \n",
       "\n",
       "                                               terms  \\\n",
       "0   [11, 18, 25, 32, 39, 46, 74, 102, 165, 193, 291]   \n",
       "1   [10, 17, 24, 31, 38, 45, 73, 101, 164, 192, 290]   \n",
       "2    [9, 16, 23, 30, 37, 44, 72, 100, 163, 191, 289]   \n",
       "3  [8, 15, 22, 29, 36, 43, 50, 71, 99, 162, 190, ...   \n",
       "4  [7, 14, 21, 28, 35, 42, 49, 70, 98, 161, 189, ...   \n",
       "\n",
       "                                                   T  \\\n",
       "0  [0.03014, 0.03014, 0.03014, 0.03014, 0.03014, ...   \n",
       "1  [0.0274, 0.0274, 0.0274, 0.0274, 0.0274, 0.027...   \n",
       "2  [0.02466, 0.02466, 0.02466, 0.02466, 0.02466, ...   \n",
       "3  [0.02192, 0.02192, 0.02192, 0.02192, 0.02192, ...   \n",
       "4  [0.01918, 0.01918, 0.01918, 0.01918, 0.01918, ...   \n",
       "\n",
       "                                                  IV  \\\n",
       "0  [nan, nan, nan, nan, nan, nan, nan, nan, nan, ...   \n",
       "1  [nan, nan, nan, nan, nan, nan, nan, nan, nan, ...   \n",
       "2  [nan, nan, nan, nan, nan, nan, nan, nan, nan, ...   \n",
       "3  [2.961124353222518, 2.4439932560228956, 2.5265...   \n",
       "4  [2.769355468083506, 2.845943003418371, 2.53276...   \n",
       "\n",
       "                                           IV by DTE  \\\n",
       "0  [[nan, nan, nan, nan, nan, nan, nan, nan, nan,...   \n",
       "1  [[nan, nan, nan, nan, nan, nan, nan, nan, nan,...   \n",
       "2  [[nan, nan, nan, nan, nan, nan, nan, nan, nan,...   \n",
       "3  [[2.961124353222518, 2.4439932560228956, 2.526...   \n",
       "4  [[2.769355468083506, 2.845943003418371, 2.5327...   \n",
       "\n",
       "                                       strike by DTE  \\\n",
       "0  [[8.5725, 8.9275, 9.285, 9.6425, 10.0, 10.3575...   \n",
       "1  [[8.5725, 8.9275, 9.285, 9.6425, 10.0, 10.3575...   \n",
       "2  [[8.5725, 8.9275, 9.285, 9.6425, 10.0, 10.3575...   \n",
       "3  [[8.5725, 8.9275, 9.285, 9.6425, 10.0, 10.3575...   \n",
       "4  [[8.5725, 8.9275, 9.285, 9.6425, 10.0, 10.3575...   \n",
       "\n",
       "                                    close adj strike  \\\n",
       "0  [0.32549265292174506, 0.33897178873827694, 0.3...   \n",
       "1  [0.33385909568874866, 0.34768469836818944, 0.3...   \n",
       "2  [0.3405163853028798, 0.35461767626613705, 0.36...   \n",
       "3  [0.3555136233566955, 0.3702359722971011, 0.385...   \n",
       "4  [0.3536509900990099, 0.3682962046204621, 0.383...   \n",
       "\n",
       "                                    atm strike index  \n",
       "0  [73, 148, 188, 233, 276, 308, 331, 357, 387, 4...  \n",
       "1                                               [67]  \n",
       "2  [62, 145, 183, 229, 276, 312, 335, 361, 391, 4...  \n",
       "3                                          [61, 347]  \n",
       "4                                     [62, 280, 348]  "
      ]
     },
     "execution_count": 25,
     "metadata": {},
     "output_type": "execute_result"
    },
    {
     "data": {
      "image/png": "[encoded data removed]",
      "text/plain": [
       "<Figure size 432x288 with 1 Axes>"
      ]
     },
     "metadata": {
      "needs_background": "light"
     },
     "output_type": "display_data"
    }
   ],
   "source": [
    "# finding term structure\n",
    "# creating strike divided by close column\n",
    "df1[\"close adj strike\"] = df1[\"strike price\"] / df1[\"closing price\"]\n",
    "\n",
    "# finding closest to the money strike (ATM)\n",
    "def index_closest_to(val, arr):\n",
    "    arr = np.array(arr)\n",
    "    closest = np.max(arr[arr < val])\n",
    "    return np.where(arr == closest)\n",
    "\n",
    "moneyness_val = 1 # 1 is ATM, 0.5 would be ITM, 1.5 would be OTM\n",
    "#df1[\"moneyness_val\"] = list(map(np.full, len(df1[\"close adj strike\"]), moneyness_val))\n",
    "df1[\"atm strike index\"] = list(map(index_closest_to, np.full(len(df1[\"close adj strike\"]), moneyness_val), df1[\"close adj strike\"]))\n",
    "df1[\"atm strike index\"] = [np.array(x).flatten() for x in df1[\"atm strike index\"]]\n",
    "\n",
    "x = np.array(df1.loc[0, \"DTE\"])[df1.loc[0, \"atm strike index\"]]\n",
    "y = np.array(df1.loc[0, \"call mid\"])[df1.loc[0, \"atm strike index\"]]\n",
    "plt.plot(x, y, \"ro\")\n",
    "\n",
    "df1.head()"
   ]
  },
  {
   "cell_type": "code",
   "execution_count": 23,
   "metadata": {},
   "outputs": [
    {
     "data": {
      "text/plain": [
       "Text(0.5, 1.0, 'Returns vs Normal Distribution')"
      ]
     },
     "execution_count": 23,
     "metadata": {},
     "output_type": "execute_result"
    },
    {
     "data": {
      "image/png": "[encoded data removed]",
      "text/plain": [
       "<Figure size 432x288 with 1 Axes>"
      ]
     },
     "metadata": {
      "needs_background": "light"
     },
     "output_type": "display_data"
    }
   ],
   "source": [
    "# distribution of returns\n",
    "import random\n",
    "\n",
    "rand = [random.normalvariate(0.00016, 0.0064) for i in range(10000)] \n",
    "\n",
    "close = pd.Series([x[0] for x in df[\"closing price\"]])\n",
    "day = [(pd.to_datetime(x) - datetime(2016, 1, 1,)).days for x in df[\"date\"]]\n",
    "logret = np.log10(close) - np.log10(close.shift(1))\n",
    "plt.hist(logret[1:], 20, weights=100*np.ones(len(logret[1:]))/len(logret))\n",
    "plt.hist(rand, 20, weights=100*np.ones(len(rand))/len(rand))\n",
    "plt.ylabel(\"Frequency (%)\")\n",
    "plt.xlabel(\"Daily Logarithmic Return\")\n",
    "plt.title(\"Returns vs Normal Distribution\")"
   ]
  },
  {
   "cell_type": "code",
   "execution_count": 24,
   "metadata": {},
   "outputs": [
    {
     "name": "stdout",
     "output_type": "stream",
     "text": [
      "0.00016397316942111511\n",
      "4.1160615794899866e-05\n",
      "0.006415653964710056\n",
      "-0.30793008225744223\n",
      "4.366096538844962\n"
     ]
    }
   ],
   "source": [
    "# statistic moments\n",
    "if len(logret) == 252:\n",
    "    logret = logret[1:]\n",
    "\n",
    "mean = logret.mean()\n",
    "var = logret.var()\n",
    "skew = logret.skew()\n",
    "kurtosis = logret.kurtosis()\n",
    "\n",
    "print(mean)\n",
    "print(var)\n",
    "print(np.sqrt(var))\n",
    "print(skew)\n",
    "print(kurtosis)"
   ]
  },
  {
   "cell_type": "code",
   "execution_count": 28,
   "metadata": {},
   "outputs": [
    {
     "name": "stdout",
     "output_type": "stream",
     "text": [
      "[0.9999897932036521, 2.583418547213839e-05, -8.073182960043247e-05, 0.0016146365920086496]\n"
     ]
    },
    {
     "data": {
      "image/png": "[encoded data removed]",
      "text/plain": [
       "<Figure size 432x288 with 1 Axes>"
      ]
     },
     "metadata": {
      "needs_background": "light"
     },
     "output_type": "display_data"
    },
    {
     "data": {
      "image/png": "[encoded data removed]",
      "text/plain": [
       "<Figure size 432x288 with 1 Axes>"
      ]
     },
     "metadata": {
      "needs_background": "light"
     },
     "output_type": "display_data"
    },
    {
     "data": {
      "image/png": "[encoded data removed]",
      "text/plain": [
       "<Figure size 432x288 with 1 Axes>"
      ]
     },
     "metadata": {
      "needs_background": "light"
     },
     "output_type": "display_data"
    },
    {
     "data": {
      "image/png": "[encoded data removed]",
      "text/plain": [
       "<Figure size 432x288 with 1 Axes>"
      ]
     },
     "metadata": {
      "needs_background": "light"
     },
     "output_type": "display_data"
    }
   ],
   "source": [
    "# greeks (delta, gamma, theta, vega)\n",
    "# one function for simplicity\n",
    "def greeks(S, K, T, sigma, r=0.05, type=\"call\"):\n",
    "    d1 = (np.log(S/K) + (r + 0.5 * sigma ** 2) * T) / (sigma * np.sqrt(T))\n",
    "    d2 = d1 - sigma * np.sqrt(T)\n",
    "\n",
    "    gamma = si.norm.pdf(d1, 0, 1) / (S * sigma * np.sqrt(T))\n",
    "    theta = - (S * si.norm.pdf(d1, 0, 1) * sigma) / (2 * np.sqrt(T))\n",
    "    - r * K * np.exp(-r * T) * si.norm.cdf(d2, 0, 1)\n",
    "    vega = S * np.sqrt(T) * si.norm.pdf(d1, 0, 1)\n",
    "    delta = si.norm.cdf(d1, 0, 1)\n",
    "\n",
    "    if type != \"call\":\n",
    "        theta += r * K * np.exp(-r * T)\n",
    "        delta -= 1\n",
    "\n",
    "\n",
    "\n",
    "    try:\n",
    "        return [delta, gamma, theta, vega]\n",
    "    except: \n",
    "        return np.NaN\n",
    "\n",
    "print(greeks(50, 50, 0.5, 0.05, 0.3)) \n",
    "\n",
    "x = range(30, 71)\n",
    "deltas = [val[0] for val in [greeks(i, 50, 0.5, 0.3) for i in x]]\n",
    "gammas = [val[1] for val in [greeks(i, 50, 0.5, 0.3) for i in x]]\n",
    "thetas = [val[2] for val in [greeks(i, 50, 0.5, 0.3) for i in x]]\n",
    "vegas = [val[3] for val in [greeks(i, 50, 0.5, 0.3) for i in x]]\n",
    "\n",
    "ys = [deltas, gammas, thetas, vegas]\n",
    "y_names = [\"Delta\", \"Gamma\", \"Theta\", \"Vega\"]\n",
    "for i in range(4):\n",
    "    plt.figure()\n",
    "    plt.plot(x, ys[i])\n",
    "    plt.xlabel(\"Spot\")\n",
    "    plt.ylabel(y_names[i])"
   ]
  },
  {
   "cell_type": "code",
   "execution_count": 37,
   "metadata": {},
   "outputs": [
    {
     "name": "stderr",
     "output_type": "stream",
     "text": [
      "C:\\Users\\hollanderj\\AppData\\Local\\Temp\\ipykernel_18684\\2183275689.py:4: SettingWithCopyWarning: \n",
      "A value is trying to be set on a copy of a slice from a DataFrame.\n",
      "Try using .loc[row_indexer,col_indexer] = value instead\n",
      "\n",
      "See the caveats in the documentation: https://pandas.pydata.org/pandas-docs/stable/user_guide/indexing.html#returning-a-view-versus-a-copy\n",
      "  df1[\"greeks\"] = list(map(greeks_arr, df1[\"closing price\"], df1[\"strike price\"], df1[\"T\"], df1[\"IV\"]))\n"
     ]
    }
   ],
   "source": [
    "def greeks_arr(S, K, T, sigma):\n",
    "    return [greeks(S, K, T, sigma) for S, K, T, sigma in zip(S, K, T, sigma)]\n",
    "\n",
    "df1[\"greeks\"] = list(map(greeks_arr, df1[\"closing price\"], df1[\"strike price\"], df1[\"T\"], df1[\"IV\"]))"
   ]
  }
 ],
 "metadata": {
  "kernelspec": {
   "display_name": "base",
   "language": "python",
   "name": "python3"
  },
  "language_info": {
   "codemirror_mode": {
    "name": "ipython",
    "version": 3
   },
   "file_extension": ".py",
   "mimetype": "text/x-python",
   "name": "python",
   "nbconvert_exporter": "python",
   "pygments_lexer": "ipython3",
   "version": "3.9.12"
  }
 },
 "nbformat": 4,
 "nbformat_minor": 2
}
