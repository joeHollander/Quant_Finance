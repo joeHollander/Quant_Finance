{
 "cells": [
  {
   "cell_type": "code",
   "execution_count": 6,
   "metadata": {},
   "outputs": [],
   "source": [
    "import vectorbt as vbt\n",
    "import numpy as np\n",
    "import pandas as pd\n",
    "import matplotlib.pyplot as plt\n",
    "import datetime as dt"
   ]
  },
  {
   "cell_type": "code",
   "execution_count": 7,
   "metadata": {},
   "outputs": [
    {
     "name": "stdout",
     "output_type": "stream",
     "text": [
      "<class 'pandas.core.frame.DataFrame'>\n",
      "DatetimeIndex: 6500 entries, 1999-01-04 to 2024-07-11\n",
      "Data columns (total 1 columns):\n",
      " #   Column  Non-Null Count  Dtype  \n",
      "---  ------  --------------  -----  \n",
      " 0   Close   6500 non-null   float64\n",
      "dtypes: float64(1)\n",
      "memory usage: 101.6 KB\n"
     ]
    }
   ],
   "source": [
    "vstoxx_df = pd.read_csv(\"Data/VSTOXXhistorical.txt\",\n",
    "                 index_col=0, \n",
    "                 parse_dates=True, \n",
    "                 dayfirst=True)\n",
    " \n",
    "vix_df = pd.read_csv(\"Data/VIXhistorical.csv\",\n",
    "                     index_col=0,\n",
    "                     parse_dates=True)\n",
    "\n",
    "vstoxx_df = vstoxx_df.iloc[:, 1:]\n",
    "vstoxx_df = vstoxx_df.rename(columns={\"Indexvalue\": \"Close\"})\n",
    "vstoxx_df.info()"
   ]
  },
  {
   "cell_type": "code",
   "execution_count": 11,
   "metadata": {},
   "outputs": [
    {
     "data": {
      "text/html": [
       "<div>\n",
       "<style scoped>\n",
       "    .dataframe tbody tr th:only-of-type {\n",
       "        vertical-align: middle;\n",
       "    }\n",
       "\n",
       "    .dataframe tbody tr th {\n",
       "        vertical-align: top;\n",
       "    }\n",
       "\n",
       "    .dataframe thead th {\n",
       "        text-align: right;\n",
       "    }\n",
       "</style>\n",
       "<table border=\"1\" class=\"dataframe\">\n",
       "  <thead>\n",
       "    <tr style=\"text-align: right;\">\n",
       "      <th></th>\n",
       "      <th>VSTOXX</th>\n",
       "      <th>VIX</th>\n",
       "    </tr>\n",
       "  </thead>\n",
       "  <tbody>\n",
       "    <tr>\n",
       "      <th>1999-01-04</th>\n",
       "      <td>18.2033</td>\n",
       "      <td>26.17</td>\n",
       "    </tr>\n",
       "    <tr>\n",
       "      <th>1999-01-05</th>\n",
       "      <td>29.6912</td>\n",
       "      <td>24.46</td>\n",
       "    </tr>\n",
       "    <tr>\n",
       "      <th>1999-01-06</th>\n",
       "      <td>25.1670</td>\n",
       "      <td>23.34</td>\n",
       "    </tr>\n",
       "    <tr>\n",
       "      <th>1999-01-07</th>\n",
       "      <td>32.5205</td>\n",
       "      <td>24.37</td>\n",
       "    </tr>\n",
       "    <tr>\n",
       "      <th>1999-01-08</th>\n",
       "      <td>33.2296</td>\n",
       "      <td>23.28</td>\n",
       "    </tr>\n",
       "  </tbody>\n",
       "</table>\n",
       "</div>"
      ],
      "text/plain": [
       "             VSTOXX    VIX\n",
       "1999-01-04  18.2033  26.17\n",
       "1999-01-05  29.6912  24.46\n",
       "1999-01-06  25.1670  23.34\n",
       "1999-01-07  32.5205  24.37\n",
       "1999-01-08  33.2296  23.28"
      ]
     },
     "execution_count": 11,
     "metadata": {},
     "output_type": "execute_result"
    }
   ],
   "source": [
    "#concatenating data\n",
    "cutoff_date = dt.datetime(1999, 1, 4)\n",
    "df = pd.DataFrame(\n",
    "    {\"VSTOXX\": vstoxx_df.loc[vstoxx_df.index >= cutoff_date, \"Close\"],\n",
    "     \"VIX\": vix_df.loc[vix_df.index >= cutoff_date, \"CLOSE\"]} \n",
    ")\n",
    "df.head()"
   ]
  },
  {
   "cell_type": "code",
   "execution_count": 12,
   "metadata": {},
   "outputs": [
    {
     "data": {
      "text/html": [
       "<div>\n",
       "<style scoped>\n",
       "    .dataframe tbody tr th:only-of-type {\n",
       "        vertical-align: middle;\n",
       "    }\n",
       "\n",
       "    .dataframe tbody tr th {\n",
       "        vertical-align: top;\n",
       "    }\n",
       "\n",
       "    .dataframe thead th {\n",
       "        text-align: right;\n",
       "    }\n",
       "</style>\n",
       "<table border=\"1\" class=\"dataframe\">\n",
       "  <thead>\n",
       "    <tr style=\"text-align: right;\">\n",
       "      <th></th>\n",
       "      <th>VSTOXX</th>\n",
       "      <th>VIX</th>\n",
       "    </tr>\n",
       "  </thead>\n",
       "  <tbody>\n",
       "    <tr>\n",
       "      <th>count</th>\n",
       "      <td>6500.000000</td>\n",
       "      <td>6437.000000</td>\n",
       "    </tr>\n",
       "    <tr>\n",
       "      <th>mean</th>\n",
       "      <td>23.495357</td>\n",
       "      <td>20.086699</td>\n",
       "    </tr>\n",
       "    <tr>\n",
       "      <th>std</th>\n",
       "      <td>9.352124</td>\n",
       "      <td>8.414864</td>\n",
       "    </tr>\n",
       "    <tr>\n",
       "      <th>min</th>\n",
       "      <td>10.678300</td>\n",
       "      <td>9.140000</td>\n",
       "    </tr>\n",
       "    <tr>\n",
       "      <th>25%</th>\n",
       "      <td>16.998550</td>\n",
       "      <td>13.960000</td>\n",
       "    </tr>\n",
       "    <tr>\n",
       "      <th>50%</th>\n",
       "      <td>21.573800</td>\n",
       "      <td>18.260000</td>\n",
       "    </tr>\n",
       "    <tr>\n",
       "      <th>75%</th>\n",
       "      <td>27.119575</td>\n",
       "      <td>23.860000</td>\n",
       "    </tr>\n",
       "    <tr>\n",
       "      <th>max</th>\n",
       "      <td>87.512700</td>\n",
       "      <td>82.690000</td>\n",
       "    </tr>\n",
       "  </tbody>\n",
       "</table>\n",
       "</div>"
      ],
      "text/plain": [
       "            VSTOXX          VIX\n",
       "count  6500.000000  6437.000000\n",
       "mean     23.495357    20.086699\n",
       "std       9.352124     8.414864\n",
       "min      10.678300     9.140000\n",
       "25%      16.998550    13.960000\n",
       "50%      21.573800    18.260000\n",
       "75%      27.119575    23.860000\n",
       "max      87.512700    82.690000"
      ]
     },
     "execution_count": 12,
     "metadata": {},
     "output_type": "execute_result"
    }
   ],
   "source": [
    "df.describe()"
   ]
  },
  {
   "cell_type": "code",
   "execution_count": 16,
   "metadata": {},
   "outputs": [
    {
     "data": {
      "text/plain": [
       "Text(0, 0.5, 'VSTOXX/VIX')"
      ]
     },
     "execution_count": 16,
     "metadata": {},
     "output_type": "execute_result"
    },
    {
     "data": {
      "image/png": "[encoded data removed]",
      "text/plain": [
       "<Figure size 640x480 with 1 Axes>"
      ]
     },
     "metadata": {},
     "output_type": "display_data"
    }
   ],
   "source": [
    "df.loc[:, \"spread\"] = df[\"VSTOXX\"]/df[\"VIX\"]\n",
    "plt.plot(df.index, df[\"spread\"])\n",
    "plt.xlabel(\"Date\")\n",
    "plt.ylabel(\"VSTOXX/VIX\")"
   ]
  },
  {
   "cell_type": "code",
   "execution_count": 83,
   "metadata": {},
   "outputs": [
    {
     "name": "stderr",
     "output_type": "stream",
     "text": [
      "d:\\Users\\semic\\Anaconda3\\lib\\site-packages\\vectorbt\\generic\\stats_builder.py:396: UserWarning:\n",
      "\n",
      "Metric 'sharpe_ratio' requires frequency to be set\n",
      "\n",
      "d:\\Users\\semic\\Anaconda3\\lib\\site-packages\\vectorbt\\generic\\stats_builder.py:396: UserWarning:\n",
      "\n",
      "Metric 'calmar_ratio' requires frequency to be set\n",
      "\n",
      "d:\\Users\\semic\\Anaconda3\\lib\\site-packages\\vectorbt\\generic\\stats_builder.py:396: UserWarning:\n",
      "\n",
      "Metric 'omega_ratio' requires frequency to be set\n",
      "\n",
      "d:\\Users\\semic\\Anaconda3\\lib\\site-packages\\vectorbt\\generic\\stats_builder.py:396: UserWarning:\n",
      "\n",
      "Metric 'sortino_ratio' requires frequency to be set\n",
      "\n"
     ]
    },
    {
     "data": {
      "text/plain": [
       "Start                         1999-01-05 00:00:00\n",
       "End                           2024-07-10 00:00:00\n",
       "Period                                       6587\n",
       "Start Value                                 100.0\n",
       "End Value                                6.572022\n",
       "Total Return [%]                       -93.427978\n",
       "Benchmark Return [%]                   -11.087165\n",
       "Max Gross Exposure [%]                      100.0\n",
       "Total Fees Paid                               0.0\n",
       "Max Drawdown [%]                        95.913324\n",
       "Max Drawdown Duration                      6565.0\n",
       "Total Trades                                  249\n",
       "Total Closed Trades                           248\n",
       "Total Open Trades                               1\n",
       "Open Trade PnL                          -1.348577\n",
       "Win Rate [%]                            44.354839\n",
       "Best Trade [%]                            37.1501\n",
       "Worst Trade [%]                        -36.542221\n",
       "Avg Winning Trade [%]                    9.835962\n",
       "Avg Losing Trade [%]                    -8.475791\n",
       "Avg Winning Trade Duration              22.172727\n",
       "Avg Losing Trade Duration               22.202899\n",
       "Profit Factor                            0.773921\n",
       "Expectancy                              -0.371288\n",
       "Name: spread, dtype: object"
      ]
     },
     "execution_count": 83,
     "metadata": {},
     "output_type": "execute_result"
    }
   ],
   "source": [
    "import calendar\n",
    "from datetime import timedelta\n",
    "\n",
    "spread = df.loc[:, \"spread\"]\n",
    "fastma = vbt.MA.run(spread, [14,21,28,50], short_name=\"fast\")\n",
    "slowma = vbt.MA.run(spread, [28,35,50,100], short_name=\"slow\")\n",
    "\n",
    "def first_or_last(prev_date, date, next_date, flag):\n",
    "    if flag == \"first\":\n",
    "        return prev_date.month != date.month\n",
    "    else:\n",
    "        return next_date.month != date.month\n",
    "    \n",
    "prev_dates = df.index[:-2]\n",
    "dates = df.index[1:-1]\n",
    "next_dates = df.index[2:]\n",
    "\n",
    "entries = list(map(first_or_last, prev_dates, dates, next_dates, [\"first\"] * 6587))\n",
    "exits = list(map(first_or_last, prev_dates, dates, next_dates, [\"last\"] * 6587))\n",
    "\n",
    "\n",
    "monthlypf = vbt.Portfolio.from_signals(spread[1:-1], entries, exits)\n",
    "monthlypf.stats()"
   ]
  }
 ],
 "metadata": {
  "kernelspec": {
   "display_name": "base",
   "language": "python",
   "name": "python3"
  },
  "language_info": {
   "codemirror_mode": {
    "name": "ipython",
    "version": 3
   },
   "file_extension": ".py",
   "mimetype": "text/x-python",
   "name": "python",
   "nbconvert_exporter": "python",
   "pygments_lexer": "ipython3",
   "version": "3.9.19"
  }
 },
 "nbformat": 4,
 "nbformat_minor": 2
}
