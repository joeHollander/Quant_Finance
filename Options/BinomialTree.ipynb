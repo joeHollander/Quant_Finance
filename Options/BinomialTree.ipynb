{
 "cells": [
  {
   "cell_type": "code",
   "execution_count": 2,
   "metadata": {},
   "outputs": [],
   "source": [
    "#!! Stolen Code from Mastering Python for Finance !!\n",
    "# stolen in order to better understand binomial trees and their applications\n",
    "import math\n",
    "import numpy as np\n",
    "\n",
    "class StockOption(object):\n",
    "    def __init__(self, S0, K, r, T, N, params):\n",
    "        self.S0 = S0\n",
    "        self.K = K\n",
    "        self.r = r\n",
    "        self.T = T\n",
    "        self.N = max(1, N) # Ensure N have at least 1 time step\n",
    "        self.STs = None # Declare the stock prices tree\n",
    "        \"\"\" Optional parameters used by derived classes \"\"\"\n",
    "        self.pu = params.get(\"pu\", 0) # Magnitude of up state\n",
    "        self.pd = params.get(\"pd\", 0) # Magnitude of down state\n",
    "        self.div = params.get(\"div\", 0) # Dividend yield\n",
    "        self.sigma = params.get(\"sigma\", 0.11) # Volatility\n",
    "        self.is_call = params.get(\"is_call\", True) # Call or put\n",
    "        self.is_european = params.get(\"is_eu\", True) # Eu or Am\n",
    "        self.CRR = params.get(\"CRR\", False)\n",
    "        \"\"\" Computed values \"\"\"\n",
    "        self.dt = T/float(N) # Single time step, in years\n",
    "        self.df = math.exp(-(r-self.div) * self.dt) # Discount factor"
   ]
  },
  {
   "cell_type": "code",
   "execution_count": 3,
   "metadata": {},
   "outputs": [],
   "source": [
    "class BinomialTreeOption(StockOption):\n",
    "    def _setup_parameters_(self):\n",
    "        if self.CRR:\n",
    "            self.u = np.exp(self.sigma * np.sqrt(self.dt))\n",
    "            self.d = 1 / self.u\n",
    "        else: \n",
    "            self.u = 1 + self.pu # Expected value in the up state\n",
    "            self.d = 1 - self.pd # Expected value in the down state\n",
    "        # probability of up and down moves given risk-neutral assumption\n",
    "        self.qu = (math.exp((self.r-self.div)*self.dt) - \n",
    "        self.d)/(self.u-self.d)\n",
    "        self.qd = 1-self.qu\n",
    "\n",
    "    def _initialize_stock_price_tree_(self):\n",
    "        # Initialize a 2D tree at T=0\n",
    "        self.STs = [np.array([self.S0])]\n",
    "        # Simulate the possible stock prices path\n",
    "        for i in range(self.N):\n",
    "            prev_branches = self.STs[-1]\n",
    "            st = np.concatenate((prev_branches*self.u,\n",
    "            [prev_branches[-1]*self.d]))\n",
    "            self.STs.append(st) # Add nodes at each time step\n",
    "\n",
    "    def _initialize_payoffs_tree_(self):\n",
    "        # The payoffs when option expires\n",
    "        return np.maximum(0, (self.STs[self.N]-self.K) if self.is_call\n",
    "                else (self.K-self.STs[self.N]))\n",
    "    \n",
    "    def __check_early_exercise__(self, payoffs, node):\n",
    "        early_ex_payoff = \\\n",
    "            (self.STs[node] - self.K) if self.is_call \\\n",
    "            else (self.K - self.STs[node])\n",
    "        \n",
    "        return np.maximum(payoffs, early_ex_payoff)\n",
    "    \n",
    "    def _traverse_tree_(self, payoffs):\n",
    "        for i in reversed(range(self.N)):\n",
    "            # The payoffs from NOT exercising the option\n",
    "            payoffs = (payoffs[:-1] * self.qu +\n",
    "            payoffs[1:] * self.qd) * self.df\n",
    "\n",
    "            # Payoffs from exercising, for American options\n",
    "            if not self.is_european:\n",
    "                payoffs = self.__check_early_exercise__(payoffs,\n",
    "                    i)\n",
    "                \n",
    "        return payoffs\n",
    "    \n",
    "    def __begin_tree_traversal__(self):\n",
    "        payoffs = self._initialize_payoffs_tree_()\n",
    "        return self._traverse_tree_(payoffs)\n",
    "    \n",
    "    def price(self):\n",
    "        self._setup_parameters_()\n",
    "        self._initialize_stock_price_tree_()\n",
    "        payoffs = self.__begin_tree_traversal__()\n",
    "        return payoffs[0]"
   ]
  },
  {
   "cell_type": "code",
   "execution_count": 4,
   "metadata": {},
   "outputs": [],
   "source": [
    "class BinomialLROption(BinomialTreeOption):\n",
    "    def _setup_parameters_(self):\n",
    "        even_N = self.N if (self.N % 2 == 0) else (self.N + 1)\n",
    "        #odd_N = self.N if (self.N%2 == 1) else (self.N+1)\n",
    "        d1 = (math.log(self.S0/self.K) +\n",
    "            ((self.r-self.div) +\n",
    "            (self.sigma**2)/2.) *\n",
    "            self.T) / (self.sigma * math.sqrt(self.T))\n",
    "        d2 = (math.log(self.S0/self.K) +\n",
    "            ((self.r-self.div) -\n",
    "            (self.sigma**2)/2.) *\n",
    "            self.T) / (self.sigma * math.sqrt(self.T))\n",
    "        pp_2_inversion = lambda z, n: .5 + math.copysign(1, z) * \\\n",
    "            math.sqrt(.25 - .25 * math.exp(\n",
    "            -((z/(n+1./3.+.1/(n+1)))**2.)*(n+1./6.)))\n",
    "        pbar = pp_2_inversion(d1, even_N)\n",
    "        self.p = pp_2_inversion(d2, even_N)\n",
    "        self.u = 1/self.df * pbar/self.p\n",
    "        self.d = (1/self.df - self.p*self.u)/(1-self.p)\n",
    "        self.qu = self.p\n",
    "        self.qd = 1-self.p  "
   ]
  },
  {
   "cell_type": "code",
   "execution_count": 5,
   "metadata": {},
   "outputs": [
    {
     "name": "stdout",
     "output_type": "stream",
     "text": [
      "3.0927036213182157\n"
     ]
    }
   ],
   "source": [
    "eu = BinomialLROption(50, 50, 0.05, 0.5, 3,\n",
    "                      {\"sigma\": 0.3, \"is_call\": False})\n",
    "\n",
    "print(eu.price())"
   ]
  },
  {
   "cell_type": "code",
   "execution_count": null,
   "metadata": {},
   "outputs": [],
   "source": [
    "# TO DO\n",
    "# Jarrow-Rudd, Tian"
   ]
  }
 ],
 "metadata": {
  "kernelspec": {
   "display_name": "Python 3",
   "language": "python",
   "name": "python3"
  },
  "language_info": {
   "codemirror_mode": {
    "name": "ipython",
    "version": 3
   },
   "file_extension": ".py",
   "mimetype": "text/x-python",
   "name": "python",
   "nbconvert_exporter": "python",
   "pygments_lexer": "ipython3",
   "version": "3.9.12"
  }
 },
 "nbformat": 4,
 "nbformat_minor": 2
}
