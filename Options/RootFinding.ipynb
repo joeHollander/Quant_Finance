{
 "cells": [
  {
   "cell_type": "markdown",
   "metadata": {},
   "source": [
    "Implementing different root finding methods. Especially useful for IV calculation."
   ]
  },
  {
   "cell_type": "code",
   "execution_count": 53,
   "metadata": {},
   "outputs": [],
   "source": [
    "# imports\n",
    "import numpy as np\n",
    "import pandas as pd\n",
    "import matplotlib.pyplot as plt\n",
    "import math\n",
    "import scipy.optimize as opt"
   ]
  },
  {
   "cell_type": "code",
   "execution_count": 40,
   "metadata": {},
   "outputs": [
    {
     "name": "stdout",
     "output_type": "stream",
     "text": [
      "(0.0001220703125, 13)\n"
     ]
    }
   ],
   "source": [
    "# bisection\n",
    "def bisection(f, a, b, max_iter, tol=0.01):\n",
    "    if f(a) >= 0 or f(b) <= 0:\n",
    "        raise ValueError(\"f(a) must be less than 0 and f(b) must be greater than 0\")\n",
    "    if f(a) == 0: \n",
    "        return a\n",
    "    if f(b) == 0:\n",
    "        return b\n",
    "    else: \n",
    "        c = (a + b) / 2 \n",
    "        n=1\n",
    "        while n < max_iter:\n",
    "            c = (a + b) / 2\n",
    "            if f(c) == 0 or abs(a - b) < tol:\n",
    "                return c, n\n",
    "            if f(c) < 0: \n",
    "                a = c\n",
    "            else:\n",
    "                b = c\n",
    "\n",
    "            n += 1\n",
    "\n",
    "        return c, n\n",
    "            \n",
    "    \n",
    "\n",
    "f = lambda x: x ** 3\n",
    "print(bisection(f, -10, 11, 100))"
   ]
  },
  {
   "cell_type": "code",
   "execution_count": 41,
   "metadata": {},
   "outputs": [
    {
     "name": "stdout",
     "output_type": "stream",
     "text": [
      "(0.016746827243821892, 16)\n"
     ]
    }
   ],
   "source": [
    "# newton-raphson\n",
    "def newton(f, df, x, max_iter, tol=0.01):\n",
    "    n = 1\n",
    "    while n <= max_iter:\n",
    "        x1 = x - f(x)/df(x)\n",
    "        if f(x) == 0 or abs(x1 - x) < tol:\n",
    "            return x1, n\n",
    "        else:\n",
    "            x = x1\n",
    "            n += 1\n",
    "\n",
    "    return x, n\n",
    "\n",
    "df = lambda x: 3 * x ** 2\n",
    "print(newton(f, df, 11, 100))"
   ]
  },
  {
   "cell_type": "code",
   "execution_count": 60,
   "metadata": {},
   "outputs": [
    {
     "name": "stdout",
     "output_type": "stream",
     "text": [
      "(-0.16633706603324336, 8)\n"
     ]
    }
   ],
   "source": [
    "# secant method\n",
    "def secant(f, a, b, max_iter, tol=0.01):\n",
    "    n = 1\n",
    "    while n <= max_iter: \n",
    "        c = b - f(b) * ((b - a) / (f(b) - f(a)))\n",
    "        if f(c) == 0 or abs(f(c)) < tol:\n",
    "            return c, n\n",
    "        else:\n",
    "            a, b, = b, c\n",
    "            n += 1\n",
    "\n",
    "    return c, n\n",
    "\n",
    "print(secant(f, -10, 11, 100))"
   ]
  },
  {
   "cell_type": "code",
   "execution_count": 64,
   "metadata": {},
   "outputs": [
    {
     "name": "stdout",
     "output_type": "stream",
     "text": [
      "4.08 µs ± 28.3 ns per loop (mean ± std. dev. of 7 runs, 100,000 loops each)\n",
      "10 µs ± 245 ns per loop (mean ± std. dev. of 7 runs, 100,000 loops each)\n",
      "15.4 µs ± 705 ns per loop (mean ± std. dev. of 7 runs, 100,000 loops each)\n",
      "655 µs ± 21 µs per loop (mean ± std. dev. of 7 runs, 1,000 loops each)\n",
      "15 µs ± 430 ns per loop (mean ± std. dev. of 7 runs, 100,000 loops each)\n",
      "480 µs ± 11.8 µs per loop (mean ± std. dev. of 7 runs, 1,000 loops each)\n"
     ]
    }
   ],
   "source": [
    "# comparing different methods and against scipy\n",
    "%timeit opt.bisect(f, -10, 5, maxiter=100, xtol=0.001)\n",
    "%timeit bisection(f, -10, 5, 100, tol=0.001)\n",
    "\n",
    "%timeit secant(f, 4.9, 5.1, 100, tol=0.001)\n",
    "%timeit opt.newton(f, x0=4.9, x1=5.1, maxiter=100, tol=0.001) # secant method if df isn't given\n",
    "\n",
    "%timeit newton(f, df, 5, max_iter=100, tol=0.001)\n",
    "%timeit opt.newton(f, fprime=df, x0=5, maxiter=100, tol=0.001)"
   ]
  },
  {
   "cell_type": "code",
   "execution_count": null,
   "metadata": {},
   "outputs": [],
   "source": []
  }
 ],
 "metadata": {
  "kernelspec": {
   "display_name": "base",
   "language": "python",
   "name": "python3"
  },
  "language_info": {
   "codemirror_mode": {
    "name": "ipython",
    "version": 3
   },
   "file_extension": ".py",
   "mimetype": "text/x-python",
   "name": "python",
   "nbconvert_exporter": "python",
   "pygments_lexer": "ipython3",
   "version": "3.9.12"
  }
 },
 "nbformat": 4,
 "nbformat_minor": 2
}
