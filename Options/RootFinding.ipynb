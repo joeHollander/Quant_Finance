{
 "cells": [
  {
   "cell_type": "markdown",
   "metadata": {},
   "source": [
    "Implementing different root finding methods. Especially useful for IV calculation."
   ]
  },
  {
   "cell_type": "code",
   "execution_count": 2,
   "metadata": {},
   "outputs": [],
   "source": [
    "# imports\n",
    "import numpy as np\n",
    "import pandas as pd\n",
    "import matplotlib.pyplot as plt\n",
    "import math"
   ]
  },
  {
   "cell_type": "code",
   "execution_count": 26,
   "metadata": {},
   "outputs": [
    {
     "name": "stdout",
     "output_type": "stream",
     "text": [
      "(-0.0009765625, 12)\n"
     ]
    }
   ],
   "source": [
    "# bisection\n",
    "def bisection(f, a, b, max_iter, tol=0.01):\n",
    "    if f(a) >= 0 or f(b) <= 0:\n",
    "        raise ValueError(\"f(a) must be less than 0 and f(b) must be greater than 0\")\n",
    "    if f(a) == 0: \n",
    "        return a\n",
    "    if f(b) == 0:\n",
    "        return b\n",
    "    else: \n",
    "        c = (a + b) / 2 \n",
    "        n=1\n",
    "        while n < max_iter:\n",
    "            c = (a + b) / 2\n",
    "            if f(c) == 0 or abs(a - b) < tol:\n",
    "                return c, n\n",
    "            if f(c) < 0: \n",
    "                a = c\n",
    "            else:\n",
    "                b = c\n",
    "\n",
    "            n += 1\n",
    "\n",
    "        return c, n\n",
    "            \n",
    "    \n",
    "\n",
    "f = lambda x: x ** 3\n",
    "print(bisection(f, -10, 2, 100))"
   ]
  },
  {
   "cell_type": "code",
   "execution_count": 27,
   "metadata": {},
   "outputs": [
    {
     "name": "stdout",
     "output_type": "stream",
     "text": [
      "(0.017341529915832612, 10)\n"
     ]
    }
   ],
   "source": [
    "# newton-raphson\n",
    "def newton(f, df, x, max_iter, tol=0.01):\n",
    "    n = 1\n",
    "    while n <= max_iter:\n",
    "        x1 = x - f(x)/df(x)\n",
    "        if f(x) == 0 or abs(x1 - x) < tol:\n",
    "            return x1, n\n",
    "        else:\n",
    "            x = x1\n",
    "            n += 1\n",
    "\n",
    "    return x, n\n",
    "\n",
    "df = lambda x: 3 * x ** 2\n",
    "print(newton(f, df, 1, 100))"
   ]
  },
  {
   "cell_type": "code",
   "execution_count": null,
   "metadata": {},
   "outputs": [],
   "source": [
    "# secant method\n",
    "def secant(f, a, b, max_iter, tol=0.01):\n",
    "    n = 1\n",
    "    while n <= max_iter: \n",
    "        "
   ]
  }
 ],
 "metadata": {
  "kernelspec": {
   "display_name": "base",
   "language": "python",
   "name": "python3"
  },
  "language_info": {
   "codemirror_mode": {
    "name": "ipython",
    "version": 3
   },
   "file_extension": ".py",
   "mimetype": "text/x-python",
   "name": "python",
   "nbconvert_exporter": "python",
   "pygments_lexer": "ipython3",
   "version": "3.9.12"
  }
 },
 "nbformat": 4,
 "nbformat_minor": 2
}
