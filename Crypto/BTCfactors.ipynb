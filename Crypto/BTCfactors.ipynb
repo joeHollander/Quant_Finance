{
 "cells": [
  {
   "cell_type": "code",
   "execution_count": 156,
   "metadata": {},
   "outputs": [],
   "source": [
    "import yfinance as yf\n",
    "import pandas as pd\n",
    "import numpy as np\n",
    "import matplotlib.pyplot as plt\n",
    "import sklearn as sk"
   ]
  },
  {
   "cell_type": "markdown",
   "metadata": {},
   "source": [
    "Decomposing BTC into its factors. Using factors: equities, gold, interest rates, bond yields, momentum, inflation, liquidity. Using methods: PCA, Ridge, Lasso, ElasticNet, Best Subset"
   ]
  },
  {
   "cell_type": "code",
   "execution_count": 157,
   "metadata": {},
   "outputs": [
    {
     "name": "stderr",
     "output_type": "stream",
     "text": [
      "[*********************100%%**********************]  1 of 1 completed\n"
     ]
    },
    {
     "data": {
      "text/html": [
       "<div>\n",
       "<style scoped>\n",
       "    .dataframe tbody tr th:only-of-type {\n",
       "        vertical-align: middle;\n",
       "    }\n",
       "\n",
       "    .dataframe tbody tr th {\n",
       "        vertical-align: top;\n",
       "    }\n",
       "\n",
       "    .dataframe thead th {\n",
       "        text-align: right;\n",
       "    }\n",
       "</style>\n",
       "<table border=\"1\" class=\"dataframe\">\n",
       "  <thead>\n",
       "    <tr style=\"text-align: right;\">\n",
       "      <th></th>\n",
       "      <th>Open</th>\n",
       "      <th>High</th>\n",
       "      <th>Low</th>\n",
       "      <th>Close</th>\n",
       "      <th>Adj Close</th>\n",
       "      <th>Volume</th>\n",
       "      <th>open_ret</th>\n",
       "    </tr>\n",
       "    <tr>\n",
       "      <th>Date</th>\n",
       "      <th></th>\n",
       "      <th></th>\n",
       "      <th></th>\n",
       "      <th></th>\n",
       "      <th></th>\n",
       "      <th></th>\n",
       "      <th></th>\n",
       "    </tr>\n",
       "  </thead>\n",
       "  <tbody>\n",
       "    <tr>\n",
       "      <th>2005-03-01</th>\n",
       "      <td>8.674</td>\n",
       "      <td>8.938</td>\n",
       "      <td>8.482</td>\n",
       "      <td>8.576</td>\n",
       "      <td>8.576</td>\n",
       "      <td>8064500</td>\n",
       "      <td>0.029922</td>\n",
       "    </tr>\n",
       "  </tbody>\n",
       "</table>\n",
       "</div>"
      ],
      "text/plain": [
       "             Open   High    Low  Close  Adj Close   Volume  open_ret\n",
       "Date                                                                \n",
       "2005-03-01  8.674  8.938  8.482  8.576      8.576  8064500  0.029922"
      ]
     },
     "execution_count": 157,
     "metadata": {},
     "output_type": "execute_result"
    }
   ],
   "source": [
    "# gold data \n",
    "iau = yf.download(\"IAU\", start=\"2005-01-01\", end=\"2023-01-01\", interval=\"1mo\")\n",
    "iau[\"open_ret\"] = iau[\"Open\"].pct_change()\n",
    "iau = iau.dropna()\n",
    "iau.head(1)"
   ]
  },
  {
   "cell_type": "code",
   "execution_count": 158,
   "metadata": {},
   "outputs": [
    {
     "name": "stderr",
     "output_type": "stream",
     "text": [
      "[*********************100%%**********************]  1 of 1 completed\n"
     ]
    },
    {
     "data": {
      "text/html": [
       "<div>\n",
       "<style scoped>\n",
       "    .dataframe tbody tr th:only-of-type {\n",
       "        vertical-align: middle;\n",
       "    }\n",
       "\n",
       "    .dataframe tbody tr th {\n",
       "        vertical-align: top;\n",
       "    }\n",
       "\n",
       "    .dataframe thead th {\n",
       "        text-align: right;\n",
       "    }\n",
       "</style>\n",
       "<table border=\"1\" class=\"dataframe\">\n",
       "  <thead>\n",
       "    <tr style=\"text-align: right;\">\n",
       "      <th></th>\n",
       "      <th>Open</th>\n",
       "      <th>High</th>\n",
       "      <th>Low</th>\n",
       "      <th>Close</th>\n",
       "      <th>Adj Close</th>\n",
       "      <th>Volume</th>\n",
       "      <th>open_ret</th>\n",
       "    </tr>\n",
       "    <tr>\n",
       "      <th>Date</th>\n",
       "      <th></th>\n",
       "      <th></th>\n",
       "      <th></th>\n",
       "      <th></th>\n",
       "      <th></th>\n",
       "      <th></th>\n",
       "      <th></th>\n",
       "    </tr>\n",
       "  </thead>\n",
       "  <tbody>\n",
       "    <tr>\n",
       "      <th>2005-02-01</th>\n",
       "      <td>118.25</td>\n",
       "      <td>121.669998</td>\n",
       "      <td>118.099998</td>\n",
       "      <td>120.629997</td>\n",
       "      <td>83.324211</td>\n",
       "      <td>1025608400</td>\n",
       "      <td>-0.027229</td>\n",
       "    </tr>\n",
       "  </tbody>\n",
       "</table>\n",
       "</div>"
      ],
      "text/plain": [
       "              Open        High         Low       Close  Adj Close      Volume  \\\n",
       "Date                                                                            \n",
       "2005-02-01  118.25  121.669998  118.099998  120.629997  83.324211  1025608400   \n",
       "\n",
       "            open_ret  \n",
       "Date                  \n",
       "2005-02-01 -0.027229  "
      ]
     },
     "execution_count": 158,
     "metadata": {},
     "output_type": "execute_result"
    }
   ],
   "source": [
    "# sp500 data\n",
    "spy = yf.download('SPY', start='2005-01-01', end='2023-01-01', interval=\"1mo\")\n",
    "spy[\"open_ret\"] = spy[\"Open\"].pct_change()\n",
    "spy = spy.dropna()\n",
    "spy.head(1)"
   ]
  },
  {
   "cell_type": "code",
   "execution_count": 118,
   "metadata": {},
   "outputs": [
    {
     "name": "stderr",
     "output_type": "stream",
     "text": [
      "[*********************100%%**********************]  1 of 1 completed\n"
     ]
    },
    {
     "data": {
      "text/html": [
       "<div>\n",
       "<style scoped>\n",
       "    .dataframe tbody tr th:only-of-type {\n",
       "        vertical-align: middle;\n",
       "    }\n",
       "\n",
       "    .dataframe tbody tr th {\n",
       "        vertical-align: top;\n",
       "    }\n",
       "\n",
       "    .dataframe thead th {\n",
       "        text-align: right;\n",
       "    }\n",
       "</style>\n",
       "<table border=\"1\" class=\"dataframe\">\n",
       "  <thead>\n",
       "    <tr style=\"text-align: right;\">\n",
       "      <th></th>\n",
       "      <th>Open</th>\n",
       "      <th>High</th>\n",
       "      <th>Low</th>\n",
       "      <th>Close</th>\n",
       "      <th>Adj Close</th>\n",
       "      <th>Volume</th>\n",
       "      <th>open_ret</th>\n",
       "    </tr>\n",
       "    <tr>\n",
       "      <th>Date</th>\n",
       "      <th></th>\n",
       "      <th></th>\n",
       "      <th></th>\n",
       "      <th></th>\n",
       "      <th></th>\n",
       "      <th></th>\n",
       "      <th></th>\n",
       "    </tr>\n",
       "  </thead>\n",
       "  <tbody>\n",
       "    <tr>\n",
       "      <th>2014-11-01</th>\n",
       "      <td>338.649994</td>\n",
       "      <td>457.092987</td>\n",
       "      <td>320.626007</td>\n",
       "      <td>378.046997</td>\n",
       "      <td>378.046997</td>\n",
       "      <td>659733360</td>\n",
       "      <td>-0.1259</td>\n",
       "    </tr>\n",
       "  </tbody>\n",
       "</table>\n",
       "</div>"
      ],
      "text/plain": [
       "                  Open        High         Low       Close   Adj Close  \\\n",
       "Date                                                                     \n",
       "2014-11-01  338.649994  457.092987  320.626007  378.046997  378.046997   \n",
       "\n",
       "               Volume  open_ret  \n",
       "Date                             \n",
       "2014-11-01  659733360   -0.1259  "
      ]
     },
     "execution_count": 118,
     "metadata": {},
     "output_type": "execute_result"
    }
   ],
   "source": [
    "# btc data\n",
    "btc = yf.download(\"BTC-USD\", start=\"2005-01-01\", end=\"2023-01-01\", interval=\"1mo\")\n",
    "btc[\"open_ret\"] = btc[\"Open\"].pct_change()\n",
    "btc = btc.dropna()\n",
    "btc.head(1)"
   ]
  },
  {
   "cell_type": "code",
   "execution_count": 134,
   "metadata": {},
   "outputs": [
    {
     "data": {
      "text/plain": [
       "DATE\n",
       "1950-01-01    1.5\n",
       "Name: INTDSRUSM193N, dtype: float64"
      ]
     },
     "execution_count": 134,
     "metadata": {},
     "output_type": "execute_result"
    }
   ],
   "source": [
    "# interest rates\n",
    "rf = pd.read_csv(\"Data/InterestRates.csv\", index_col=\"DATE\",  parse_dates=True, dtype=float).iloc[:, 0]\n",
    "rf.head(1)"
   ]
  },
  {
   "cell_type": "code",
   "execution_count": 137,
   "metadata": {},
   "outputs": [
    {
     "data": {
      "text/plain": [
       "DATE\n",
       "1953-05-01    0.077739\n",
       "Name: IRLTLT01USM156N, dtype: float64"
      ]
     },
     "execution_count": 137,
     "metadata": {},
     "output_type": "execute_result"
    }
   ],
   "source": [
    "# bond yields\n",
    "by = pd.read_csv(\"Data/BondYields.csv\", index_col=\"DATE\",  parse_dates=True, dtype=float).pct_change().dropna().iloc[:, 0]\n",
    "by.head(1)"
   ]
  },
  {
   "cell_type": "code",
   "execution_count": 138,
   "metadata": {},
   "outputs": [
    {
     "data": {
      "text/plain": [
       "DATE\n",
       "1955-02-01    0.0\n",
       "Name: CPALTT01USM657N, dtype: float64"
      ]
     },
     "execution_count": 138,
     "metadata": {},
     "output_type": "execute_result"
    }
   ],
   "source": [
    "# cpi \n",
    "cpi = pd.read_csv(\"Data/CPI.csv\", index_col=\"DATE\",  parse_dates=True, dtype=float).iloc[:, 0]\n",
    "cpi.head(1)"
   ]
  },
  {
   "cell_type": "code",
   "execution_count": 139,
   "metadata": {},
   "outputs": [
    {
     "data": {
      "text/plain": [
       "DATE\n",
       "1986-01-01    101.3\n",
       "Name: PCUOMFGOMFG, dtype: float64"
      ]
     },
     "execution_count": 139,
     "metadata": {},
     "output_type": "execute_result"
    }
   ],
   "source": [
    "# ppi\n",
    "ppi = pd.read_csv(\"Data/PPI.csv\", index_col=\"DATE\",  parse_dates=True, dtype=float).iloc[:, 0]\n",
    "ppi.head(1)"
   ]
  },
  {
   "cell_type": "code",
   "execution_count": 140,
   "metadata": {},
   "outputs": [
    {
     "data": {
      "text/plain": [
       "DATE\n",
       "1975-02-01   -0.05445\n",
       "Name: WM1NS, dtype: float64"
      ]
     },
     "execution_count": 140,
     "metadata": {},
     "output_type": "execute_result"
    }
   ],
   "source": [
    "# liquidity from m1\n",
    "m1 = pd.read_csv(\"Data/M1.csv\", index_col=\"DATE\",  parse_dates=True, dtype=float).pct_change().dropna().iloc[:, 0]\n",
    "m1 = m1.resample(\"ME\").apply(lambda x: (1+x).prod()-1)\n",
    "m1.index = m1.index + pd.offsets.MonthBegin(1)\n",
    "m1.head(1)"
   ]
  },
  {
   "cell_type": "code",
   "execution_count": 147,
   "metadata": {},
   "outputs": [
    {
     "data": {
      "text/plain": [
       "<pandas.plotting._core.PlotAccessor object at 0x00000231BDC813D0>"
      ]
     },
     "execution_count": 147,
     "metadata": {},
     "output_type": "execute_result"
    }
   ],
   "source": [
    "# combining everything\n",
    "df = pd.DataFrame({\"iau\": iau[\"open_ret\"], \"btc\": btc[\"open_ret\"], \"rf\": rf, \"by\": by, \"cpi\": cpi, \"m1\": m1}).dropna()\n",
    "df.head()\n",
    "df.plot"
   ]
  },
  {
   "cell_type": "code",
   "execution_count": 155,
   "metadata": {},
   "outputs": [
    {
     "data": {
      "text/html": [
       "<div>\n",
       "<style scoped>\n",
       "    .dataframe tbody tr th:only-of-type {\n",
       "        vertical-align: middle;\n",
       "    }\n",
       "\n",
       "    .dataframe tbody tr th {\n",
       "        vertical-align: top;\n",
       "    }\n",
       "\n",
       "    .dataframe thead th {\n",
       "        text-align: right;\n",
       "    }\n",
       "</style>\n",
       "<table border=\"1\" class=\"dataframe\">\n",
       "  <thead>\n",
       "    <tr style=\"text-align: right;\">\n",
       "      <th></th>\n",
       "      <th>iau</th>\n",
       "      <th>btc</th>\n",
       "      <th>rf</th>\n",
       "      <th>by</th>\n",
       "      <th>cpi</th>\n",
       "      <th>m1</th>\n",
       "    </tr>\n",
       "  </thead>\n",
       "  <tbody>\n",
       "    <tr>\n",
       "      <th>iau</th>\n",
       "      <td>1.000000</td>\n",
       "      <td>0.116881</td>\n",
       "      <td>-0.285580</td>\n",
       "      <td>0.061729</td>\n",
       "      <td>0.055912</td>\n",
       "      <td>-0.013175</td>\n",
       "    </tr>\n",
       "    <tr>\n",
       "      <th>btc</th>\n",
       "      <td>0.116881</td>\n",
       "      <td>1.000000</td>\n",
       "      <td>0.081036</td>\n",
       "      <td>0.179109</td>\n",
       "      <td>-0.017996</td>\n",
       "      <td>-0.004670</td>\n",
       "    </tr>\n",
       "    <tr>\n",
       "      <th>rf</th>\n",
       "      <td>-0.285580</td>\n",
       "      <td>0.081036</td>\n",
       "      <td>1.000000</td>\n",
       "      <td>-0.143044</td>\n",
       "      <td>-0.048822</td>\n",
       "      <td>-0.194111</td>\n",
       "    </tr>\n",
       "    <tr>\n",
       "      <th>by</th>\n",
       "      <td>0.061729</td>\n",
       "      <td>0.179109</td>\n",
       "      <td>-0.143044</td>\n",
       "      <td>1.000000</td>\n",
       "      <td>0.233836</td>\n",
       "      <td>0.086623</td>\n",
       "    </tr>\n",
       "    <tr>\n",
       "      <th>cpi</th>\n",
       "      <td>0.055912</td>\n",
       "      <td>-0.017996</td>\n",
       "      <td>-0.048822</td>\n",
       "      <td>0.233836</td>\n",
       "      <td>1.000000</td>\n",
       "      <td>0.114404</td>\n",
       "    </tr>\n",
       "    <tr>\n",
       "      <th>m1</th>\n",
       "      <td>-0.013175</td>\n",
       "      <td>-0.004670</td>\n",
       "      <td>-0.194111</td>\n",
       "      <td>0.086623</td>\n",
       "      <td>0.114404</td>\n",
       "      <td>1.000000</td>\n",
       "    </tr>\n",
       "  </tbody>\n",
       "</table>\n",
       "</div>"
      ],
      "text/plain": [
       "          iau       btc        rf        by       cpi        m1\n",
       "iau  1.000000  0.116881 -0.285580  0.061729  0.055912 -0.013175\n",
       "btc  0.116881  1.000000  0.081036  0.179109 -0.017996 -0.004670\n",
       "rf  -0.285580  0.081036  1.000000 -0.143044 -0.048822 -0.194111\n",
       "by   0.061729  0.179109 -0.143044  1.000000  0.233836  0.086623\n",
       "cpi  0.055912 -0.017996 -0.048822  0.233836  1.000000  0.114404\n",
       "m1  -0.013175 -0.004670 -0.194111  0.086623  0.114404  1.000000"
      ]
     },
     "execution_count": 155,
     "metadata": {},
     "output_type": "execute_result"
    }
   ],
   "source": [
    "# corr matrix to check if high correlations between factors\n",
    "df.corr()"
   ]
  },
  {
   "cell_type": "code",
   "execution_count": null,
   "metadata": {},
   "outputs": [],
   "source": [
    "# applying ridge regression\n",
    "from sk.linear_model import Ridge\n"
   ]
  }
 ],
 "metadata": {
  "kernelspec": {
   "display_name": "qfi",
   "language": "python",
   "name": "python3"
  },
  "language_info": {
   "codemirror_mode": {
    "name": "ipython",
    "version": 3
   },
   "file_extension": ".py",
   "mimetype": "text/x-python",
   "name": "python",
   "nbconvert_exporter": "python",
   "pygments_lexer": "ipython3",
   "version": "3.12.4"
  }
 },
 "nbformat": 4,
 "nbformat_minor": 2
}
