{
 "cells": [
  {
   "cell_type": "code",
   "execution_count": 2,
   "metadata": {},
   "outputs": [],
   "source": [
    "import yfinance as yf\n",
    "import pandas as pd\n",
    "import numpy as np\n",
    "import matplotlib.pyplot as plt\n",
    "import sklearn as sk\n",
    "from sklearn.preprocessing import PowerTransformer"
   ]
  },
  {
   "cell_type": "markdown",
   "metadata": {},
   "source": [
    "Decomposing BTC into its factors. Using factors: equities, gold, interest rates, bond yields, momentum, inflation, liquidity, roc, rsi, etc price, financial equities price. Using methods: PCA, Ridge, Lasso, ElasticNet, Best Subset"
   ]
  },
  {
   "cell_type": "code",
   "execution_count": 15,
   "metadata": {},
   "outputs": [
    {
     "name": "stderr",
     "output_type": "stream",
     "text": [
      "[*********************100%%**********************]  1 of 1 completed"
     ]
    },
    {
     "name": "stderr",
     "output_type": "stream",
     "text": [
      "\n"
     ]
    },
    {
     "data": {
      "text/plain": [
       "<Axes: >"
      ]
     },
     "execution_count": 15,
     "metadata": {},
     "output_type": "execute_result"
    },
    {
     "data": {
      "image/png": "[encoded data removed]",
      "text/plain": [
       "<Figure size 640x480 with 1 Axes>"
      ]
     },
     "metadata": {},
     "output_type": "display_data"
    }
   ],
   "source": [
    "# gold data \n",
    "def scale(col):\n",
    "    return (col - col.mean()) / col.std()\n",
    "\n",
    "iau = yf.download(\"IAU\", start=\"2005-01-01\", end=\"2023-01-01\", interval=\"1mo\")\n",
    "iau[\"open_ret\"] = (iau[\"Adj Close\"] - iau[\"Open\"])/iau[\"Open\"]\n",
    "iau[\"open_ret\"] = scale(iau[\"open_ret\"])\n",
    "iau[\"open_ret\"].hist()"
   ]
  },
  {
   "cell_type": "code",
   "execution_count": 23,
   "metadata": {},
   "outputs": [],
   "source": [
    "def rsi(ret, period=10):\n",
    "    return ret.rolling(period).apply(lambda x: 100 - (100 / (1 + (x[x>=0].mean()/abs(x[x<0].mean())))))\n",
    "def roc(ret, period=10):\n",
    "    return ret.rolling(period).apply(lambda x: 100 * (x[-1] - x[0])/x[0])"
   ]
  },
  {
   "cell_type": "code",
   "execution_count": 60,
   "metadata": {},
   "outputs": [
    {
     "name": "stderr",
     "output_type": "stream",
     "text": [
      "[*********************100%%**********************]  1 of 1 completed\n"
     ]
    },
    {
     "data": {
      "text/plain": [
       "<Axes: >"
      ]
     },
     "execution_count": 60,
     "metadata": {},
     "output_type": "execute_result"
    },
    {
     "data": {
      "image/png": "[encoded data removed]",
      "text/plain": [
       "<Figure size 640x480 with 1 Axes>"
      ]
     },
     "metadata": {},
     "output_type": "display_data"
    }
   ],
   "source": [
    "# sp500 data\n",
    "spy = yf.download('SPY', start='2005-01-01', end='2023-01-01', interval=\"1mo\")\n",
    "spy_pt = PowerTransformer()\n",
    "spy[\"open_ret\"] = (spy[\"Adj Close\"] - spy[\"Open\"])/spy[\"Open\"]\n",
    "spy[\"open_ret\"] = spy_pt.fit_transform(spy[\"open_ret\"].to_numpy().reshape(-1,1))\n",
    "spy[\"spy_rsi\"] = spy_pt.fit_transform(rsi(spy[\"open_ret\"]).to_numpy().reshape(-1,1))\n",
    "spy = spy.dropna()\n",
    "spy[\"open_ret\"].hist()"
   ]
  },
  {
   "cell_type": "code",
   "execution_count": 24,
   "metadata": {},
   "outputs": [
    {
     "name": "stderr",
     "output_type": "stream",
     "text": [
      "[*********************100%%**********************]  1 of 1 completed\n"
     ]
    },
    {
     "data": {
      "text/html": [
       "<div>\n",
       "<style scoped>\n",
       "    .dataframe tbody tr th:only-of-type {\n",
       "        vertical-align: middle;\n",
       "    }\n",
       "\n",
       "    .dataframe tbody tr th {\n",
       "        vertical-align: top;\n",
       "    }\n",
       "\n",
       "    .dataframe thead th {\n",
       "        text-align: right;\n",
       "    }\n",
       "</style>\n",
       "<table border=\"1\" class=\"dataframe\">\n",
       "  <thead>\n",
       "    <tr style=\"text-align: right;\">\n",
       "      <th></th>\n",
       "      <th>Open</th>\n",
       "      <th>High</th>\n",
       "      <th>Low</th>\n",
       "      <th>Close</th>\n",
       "      <th>Adj Close</th>\n",
       "      <th>Volume</th>\n",
       "      <th>open_ret</th>\n",
       "      <th>rsi</th>\n",
       "    </tr>\n",
       "    <tr>\n",
       "      <th>Date</th>\n",
       "      <th></th>\n",
       "      <th></th>\n",
       "      <th></th>\n",
       "      <th></th>\n",
       "      <th></th>\n",
       "      <th></th>\n",
       "      <th></th>\n",
       "      <th></th>\n",
       "    </tr>\n",
       "  </thead>\n",
       "  <tbody>\n",
       "    <tr>\n",
       "      <th>2022-08-01</th>\n",
       "      <td>23336.718750</td>\n",
       "      <td>25135.589844</td>\n",
       "      <td>19600.785156</td>\n",
       "      <td>20049.763672</td>\n",
       "      <td>20049.763672</td>\n",
       "      <td>894192654543</td>\n",
       "      <td>-0.932313</td>\n",
       "      <td>-2.094507</td>\n",
       "    </tr>\n",
       "    <tr>\n",
       "      <th>2022-09-01</th>\n",
       "      <td>20050.498047</td>\n",
       "      <td>22673.820312</td>\n",
       "      <td>18290.314453</td>\n",
       "      <td>19431.789062</td>\n",
       "      <td>19431.789062</td>\n",
       "      <td>1123272250385</td>\n",
       "      <td>-0.372756</td>\n",
       "      <td>-2.047581</td>\n",
       "    </tr>\n",
       "    <tr>\n",
       "      <th>2022-10-01</th>\n",
       "      <td>19431.105469</td>\n",
       "      <td>20988.394531</td>\n",
       "      <td>18319.822266</td>\n",
       "      <td>20495.773438</td>\n",
       "      <td>20495.773438</td>\n",
       "      <td>957903424925</td>\n",
       "      <td>0.025166</td>\n",
       "      <td>-2.239233</td>\n",
       "    </tr>\n",
       "    <tr>\n",
       "      <th>2022-11-01</th>\n",
       "      <td>20494.898438</td>\n",
       "      <td>21446.886719</td>\n",
       "      <td>15599.046875</td>\n",
       "      <td>17168.566406</td>\n",
       "      <td>17168.566406</td>\n",
       "      <td>1224531549126</td>\n",
       "      <td>-1.047829</td>\n",
       "      <td>-2.230512</td>\n",
       "    </tr>\n",
       "    <tr>\n",
       "      <th>2022-12-01</th>\n",
       "      <td>17168.001953</td>\n",
       "      <td>18318.531250</td>\n",
       "      <td>16398.136719</td>\n",
       "      <td>16547.496094</td>\n",
       "      <td>16547.496094</td>\n",
       "      <td>541356716034</td>\n",
       "      <td>-0.398391</td>\n",
       "      <td>-2.158662</td>\n",
       "    </tr>\n",
       "  </tbody>\n",
       "</table>\n",
       "</div>"
      ],
      "text/plain": [
       "                    Open          High           Low         Close  \\\n",
       "Date                                                                 \n",
       "2022-08-01  23336.718750  25135.589844  19600.785156  20049.763672   \n",
       "2022-09-01  20050.498047  22673.820312  18290.314453  19431.789062   \n",
       "2022-10-01  19431.105469  20988.394531  18319.822266  20495.773438   \n",
       "2022-11-01  20494.898438  21446.886719  15599.046875  17168.566406   \n",
       "2022-12-01  17168.001953  18318.531250  16398.136719  16547.496094   \n",
       "\n",
       "               Adj Close         Volume  open_ret       rsi  \n",
       "Date                                                         \n",
       "2022-08-01  20049.763672   894192654543 -0.932313 -2.094507  \n",
       "2022-09-01  19431.789062  1123272250385 -0.372756 -2.047581  \n",
       "2022-10-01  20495.773438   957903424925  0.025166 -2.239233  \n",
       "2022-11-01  17168.566406  1224531549126 -1.047829 -2.230512  \n",
       "2022-12-01  16547.496094   541356716034 -0.398391 -2.158662  "
      ]
     },
     "execution_count": 24,
     "metadata": {},
     "output_type": "execute_result"
    }
   ],
   "source": [
    "# btc data\n",
    "btc = yf.download(\"BTC-USD\", start=\"2005-01-01\", end=\"2023-01-01\", interval=\"1mo\")\n",
    "btc[\"open_ret\"] = (btc[\"Adj Close\"] - btc[\"Open\"]) / btc[\"Open\"]\n",
    "btc = btc.dropna()\n",
    "pt = PowerTransformer(method='yeo-johnson')\n",
    "btc[\"rsi\"] = rsi(btc[\"open_ret\"])\n",
    "btc.dropna(inplace=True)\n",
    "btc[\"open_ret\"] = pt.fit_transform(btc[\"open_ret\"].to_numpy().reshape(-1, 1))\n",
    "btc[\"rsi\"] = pt.fit_transform(btc[\"rsi\"].to_numpy().reshape(-1, 1))\n",
    "btc.tail()"
   ]
  },
  {
   "cell_type": "code",
   "execution_count": 26,
   "metadata": {},
   "outputs": [
    {
     "data": {
      "text/plain": [
       "DATE\n",
       "1950-01-01   -0.978808\n",
       "1950-02-01   -0.978808\n",
       "1950-03-01   -0.978808\n",
       "1950-04-01   -0.978808\n",
       "1950-05-01   -0.978808\n",
       "Name: INTDSRUSM193N, dtype: float64"
      ]
     },
     "execution_count": 26,
     "metadata": {},
     "output_type": "execute_result"
    }
   ],
   "source": [
    "# interest rates\n",
    "rf = pd.read_csv(\"Data/InterestRates.csv\", index_col=\"DATE\",  parse_dates=True, dtype=float).iloc[:, 0]\n",
    "rf = scale(rf)\n",
    "rf.head(5)"
   ]
  },
  {
   "cell_type": "code",
   "execution_count": 27,
   "metadata": {},
   "outputs": [],
   "source": [
    "# bond yields\n",
    "by = pd.read_csv(\"Data/BondYields.csv\", index_col=\"DATE\",  parse_dates=True, dtype=float).pct_change().dropna().iloc[:, 0]\n",
    "by.head(1)\n",
    "by = scale(by)"
   ]
  },
  {
   "cell_type": "code",
   "execution_count": 28,
   "metadata": {},
   "outputs": [
    {
     "data": {
      "text/plain": [
       "DATE\n",
       "1955-02-01   -0.835674\n",
       "Name: CPALTT01USM657N, dtype: float64"
      ]
     },
     "execution_count": 28,
     "metadata": {},
     "output_type": "execute_result"
    }
   ],
   "source": [
    "# cpi \n",
    "cpi = pd.read_csv(\"Data/CPI.csv\", index_col=\"DATE\",  parse_dates=True, dtype=float).iloc[:, 0]\n",
    "cpi = scale(cpi)\n",
    "cpi.head(1)"
   ]
  },
  {
   "cell_type": "code",
   "execution_count": 29,
   "metadata": {},
   "outputs": [
    {
     "data": {
      "text/plain": [
       "DATE\n",
       "1986-01-01   -1.371528\n",
       "Name: PCUOMFGOMFG, dtype: float64"
      ]
     },
     "execution_count": 29,
     "metadata": {},
     "output_type": "execute_result"
    }
   ],
   "source": [
    "# ppi\n",
    "ppi = pd.read_csv(\"Data/PPI.csv\", index_col=\"DATE\",  parse_dates=True, dtype=float).iloc[:, 0]\n",
    "ppi = scale(ppi)\n",
    "ppi.head(1)"
   ]
  },
  {
   "cell_type": "code",
   "execution_count": 30,
   "metadata": {},
   "outputs": [
    {
     "data": {
      "text/plain": [
       "DATE\n",
       "1975-02-01   -0.685625\n",
       "Name: WM1NS, dtype: float64"
      ]
     },
     "execution_count": 30,
     "metadata": {},
     "output_type": "execute_result"
    }
   ],
   "source": [
    "# liquidity from m1\n",
    "m1 = pd.read_csv(\"Data/M1.csv\", index_col=\"DATE\",  parse_dates=True, dtype=float).pct_change().dropna().iloc[:, 0]\n",
    "m1 = m1.resample(\"ME\").apply(lambda x: (1+x).prod()-1)\n",
    "m1.index = m1.index + pd.offsets.MonthBegin(1)\n",
    "m1 = scale(m1)\n",
    "m1.head(1)"
   ]
  },
  {
   "cell_type": "code",
   "execution_count": 61,
   "metadata": {},
   "outputs": [
    {
     "data": {
      "text/html": [
       "<div>\n",
       "<style scoped>\n",
       "    .dataframe tbody tr th:only-of-type {\n",
       "        vertical-align: middle;\n",
       "    }\n",
       "\n",
       "    .dataframe tbody tr th {\n",
       "        vertical-align: top;\n",
       "    }\n",
       "\n",
       "    .dataframe thead th {\n",
       "        text-align: right;\n",
       "    }\n",
       "</style>\n",
       "<table border=\"1\" class=\"dataframe\">\n",
       "  <thead>\n",
       "    <tr style=\"text-align: right;\">\n",
       "      <th></th>\n",
       "      <th>spy</th>\n",
       "      <th>iau</th>\n",
       "      <th>btc</th>\n",
       "      <th>rf</th>\n",
       "      <th>by</th>\n",
       "      <th>cpi</th>\n",
       "      <th>m1</th>\n",
       "      <th>rsi</th>\n",
       "      <th>spy_rsi</th>\n",
       "    </tr>\n",
       "  </thead>\n",
       "  <tbody>\n",
       "    <tr>\n",
       "      <th>count</th>\n",
       "      <td>31.000000</td>\n",
       "      <td>31.000000</td>\n",
       "      <td>31.000000</td>\n",
       "      <td>31.000000</td>\n",
       "      <td>31.000000</td>\n",
       "      <td>31.000000</td>\n",
       "      <td>31.000000</td>\n",
       "      <td>31.000000</td>\n",
       "      <td>31.000000</td>\n",
       "    </tr>\n",
       "    <tr>\n",
       "      <th>mean</th>\n",
       "      <td>0.868745</td>\n",
       "      <td>0.107025</td>\n",
       "      <td>0.177957</td>\n",
       "      <td>-1.035643</td>\n",
       "      <td>-0.668761</td>\n",
       "      <td>-0.543140</td>\n",
       "      <td>0.814706</td>\n",
       "      <td>-0.238578</td>\n",
       "      <td>0.969512</td>\n",
       "    </tr>\n",
       "    <tr>\n",
       "      <th>std</th>\n",
       "      <td>0.710994</td>\n",
       "      <td>0.996767</td>\n",
       "      <td>0.866921</td>\n",
       "      <td>0.405329</td>\n",
       "      <td>2.085291</td>\n",
       "      <td>0.836463</td>\n",
       "      <td>4.207229</td>\n",
       "      <td>0.697109</td>\n",
       "      <td>0.309081</td>\n",
       "    </tr>\n",
       "    <tr>\n",
       "      <th>min</th>\n",
       "      <td>-0.304810</td>\n",
       "      <td>-1.450986</td>\n",
       "      <td>-1.549308</td>\n",
       "      <td>-1.419280</td>\n",
       "      <td>-7.621884</td>\n",
       "      <td>-2.714764</td>\n",
       "      <td>-0.778439</td>\n",
       "      <td>-1.702838</td>\n",
       "      <td>0.178910</td>\n",
       "    </tr>\n",
       "    <tr>\n",
       "      <th>25%</th>\n",
       "      <td>0.329376</td>\n",
       "      <td>-0.404488</td>\n",
       "      <td>-0.501607</td>\n",
       "      <td>-1.419280</td>\n",
       "      <td>-1.225759</td>\n",
       "      <td>-0.984653</td>\n",
       "      <td>-0.293464</td>\n",
       "      <td>-0.872344</td>\n",
       "      <td>0.851140</td>\n",
       "    </tr>\n",
       "    <tr>\n",
       "      <th>50%</th>\n",
       "      <td>0.865853</td>\n",
       "      <td>0.118746</td>\n",
       "      <td>0.140274</td>\n",
       "      <td>-1.154997</td>\n",
       "      <td>-0.318403</td>\n",
       "      <td>-0.604382</td>\n",
       "      <td>0.014810</td>\n",
       "      <td>-0.164234</td>\n",
       "      <td>1.125321</td>\n",
       "    </tr>\n",
       "    <tr>\n",
       "      <th>75%</th>\n",
       "      <td>1.309388</td>\n",
       "      <td>0.696852</td>\n",
       "      <td>0.825672</td>\n",
       "      <td>-0.494288</td>\n",
       "      <td>0.767153</td>\n",
       "      <td>0.175818</td>\n",
       "      <td>0.346989</td>\n",
       "      <td>0.325974</td>\n",
       "      <td>1.170697</td>\n",
       "    </tr>\n",
       "    <tr>\n",
       "      <th>max</th>\n",
       "      <td>2.582156</td>\n",
       "      <td>2.122359</td>\n",
       "      <td>2.006369</td>\n",
       "      <td>-0.450241</td>\n",
       "      <td>2.883881</td>\n",
       "      <td>0.749598</td>\n",
       "      <td>23.307030</td>\n",
       "      <td>1.360939</td>\n",
       "      <td>1.247440</td>\n",
       "    </tr>\n",
       "  </tbody>\n",
       "</table>\n",
       "</div>"
      ],
      "text/plain": [
       "             spy        iau        btc         rf         by        cpi  \\\n",
       "count  31.000000  31.000000  31.000000  31.000000  31.000000  31.000000   \n",
       "mean    0.868745   0.107025   0.177957  -1.035643  -0.668761  -0.543140   \n",
       "std     0.710994   0.996767   0.866921   0.405329   2.085291   0.836463   \n",
       "min    -0.304810  -1.450986  -1.549308  -1.419280  -7.621884  -2.714764   \n",
       "25%     0.329376  -0.404488  -0.501607  -1.419280  -1.225759  -0.984653   \n",
       "50%     0.865853   0.118746   0.140274  -1.154997  -0.318403  -0.604382   \n",
       "75%     1.309388   0.696852   0.825672  -0.494288   0.767153   0.175818   \n",
       "max     2.582156   2.122359   2.006369  -0.450241   2.883881   0.749598   \n",
       "\n",
       "              m1        rsi    spy_rsi  \n",
       "count  31.000000  31.000000  31.000000  \n",
       "mean    0.814706  -0.238578   0.969512  \n",
       "std     4.207229   0.697109   0.309081  \n",
       "min    -0.778439  -1.702838   0.178910  \n",
       "25%    -0.293464  -0.872344   0.851140  \n",
       "50%     0.014810  -0.164234   1.125321  \n",
       "75%     0.346989   0.325974   1.170697  \n",
       "max    23.307030   1.360939   1.247440  "
      ]
     },
     "execution_count": 61,
     "metadata": {},
     "output_type": "execute_result"
    }
   ],
   "source": [
    "# combining everything\n",
    "df = pd.DataFrame({\"spy\": spy[\"open_ret\"], \"iau\": iau[\"open_ret\"], \"btc\": btc[\"open_ret\"],\n",
    "                    \"rf\": rf, \"by\": by, \"cpi\": cpi, \"m1\": m1, \"rsi\": btc[\"rsi\"], \"spy_rsi\": spy[\"spy_rsi\"]}).dropna()\n",
    "df.head()\n",
    "df.describe()"
   ]
  },
  {
   "cell_type": "code",
   "execution_count": 62,
   "metadata": {},
   "outputs": [
    {
     "data": {
      "text/plain": [
       "<Axes: >"
      ]
     },
     "execution_count": 62,
     "metadata": {},
     "output_type": "execute_result"
    },
    {
     "data": {
      "image/png": "[encoded data removed]",
      "text/plain": [
       "<Figure size 640x480 with 2 Axes>"
      ]
     },
     "metadata": {},
     "output_type": "display_data"
    }
   ],
   "source": [
    "# corr matrix to check if high correlations between factors\n",
    "import seaborn as sns\n",
    "sns.heatmap(df.corr(), cmap='coolwarm')"
   ]
  },
  {
   "cell_type": "code",
   "execution_count": 63,
   "metadata": {},
   "outputs": [
    {
     "data": {
      "text/html": [
       "<table class=\"simpletable\">\n",
       "<caption>OLS Regression Results</caption>\n",
       "<tr>\n",
       "  <th>Dep. Variable:</th>           <td>btc</td>       <th>  R-squared (uncentered):</th>      <td>   0.145</td>\n",
       "</tr>\n",
       "<tr>\n",
       "  <th>Model:</th>                   <td>OLS</td>       <th>  Adj. R-squared (uncentered):</th> <td>  -0.166</td>\n",
       "</tr>\n",
       "<tr>\n",
       "  <th>Method:</th>             <td>Least Squares</td>  <th>  F-statistic:       </th>          <td>  0.4648</td>\n",
       "</tr>\n",
       "<tr>\n",
       "  <th>Date:</th>             <td>Tue, 19 Nov 2024</td> <th>  Prob (F-statistic):</th>           <td> 0.868</td> \n",
       "</tr>\n",
       "<tr>\n",
       "  <th>Time:</th>                 <td>14:32:05</td>     <th>  Log-Likelihood:    </th>          <td> -36.568</td>\n",
       "</tr>\n",
       "<tr>\n",
       "  <th>No. Observations:</th>      <td>    30</td>      <th>  AIC:               </th>          <td>   89.14</td>\n",
       "</tr>\n",
       "<tr>\n",
       "  <th>Df Residuals:</th>          <td>    22</td>      <th>  BIC:               </th>          <td>   100.3</td>\n",
       "</tr>\n",
       "<tr>\n",
       "  <th>Df Model:</th>              <td>     8</td>      <th>                     </th>              <td> </td>   \n",
       "</tr>\n",
       "<tr>\n",
       "  <th>Covariance Type:</th>      <td>nonrobust</td>    <th>                     </th>              <td> </td>   \n",
       "</tr>\n",
       "</table>\n",
       "<table class=\"simpletable\">\n",
       "<tr>\n",
       "   <td></td>     <th>coef</th>     <th>std err</th>      <th>t</th>      <th>P>|t|</th>  <th>[0.025</th>    <th>0.975]</th>  \n",
       "</tr>\n",
       "<tr>\n",
       "  <th>x1</th> <td>    0.0283</td> <td>    0.041</td> <td>    0.686</td> <td> 0.500</td> <td>   -0.057</td> <td>    0.114</td>\n",
       "</tr>\n",
       "<tr>\n",
       "  <th>x2</th> <td>    0.0453</td> <td>    0.083</td> <td>    0.547</td> <td> 0.590</td> <td>   -0.126</td> <td>    0.217</td>\n",
       "</tr>\n",
       "<tr>\n",
       "  <th>x3</th> <td>    0.0298</td> <td>    0.195</td> <td>    0.153</td> <td> 0.880</td> <td>   -0.375</td> <td>    0.434</td>\n",
       "</tr>\n",
       "<tr>\n",
       "  <th>x4</th> <td>   -0.1561</td> <td>    0.206</td> <td>   -0.758</td> <td> 0.456</td> <td>   -0.583</td> <td>    0.271</td>\n",
       "</tr>\n",
       "<tr>\n",
       "  <th>x5</th> <td>   -0.2240</td> <td>    0.262</td> <td>   -0.854</td> <td> 0.402</td> <td>   -0.768</td> <td>    0.320</td>\n",
       "</tr>\n",
       "<tr>\n",
       "  <th>x6</th> <td>    0.3351</td> <td>    0.331</td> <td>    1.012</td> <td> 0.322</td> <td>   -0.351</td> <td>    1.022</td>\n",
       "</tr>\n",
       "<tr>\n",
       "  <th>x7</th> <td>   -0.1176</td> <td>    0.515</td> <td>   -0.228</td> <td> 0.822</td> <td>   -1.187</td> <td>    0.951</td>\n",
       "</tr>\n",
       "<tr>\n",
       "  <th>x8</th> <td>    0.6345</td> <td>    0.861</td> <td>    0.737</td> <td> 0.469</td> <td>   -1.151</td> <td>    2.420</td>\n",
       "</tr>\n",
       "</table>\n",
       "<table class=\"simpletable\">\n",
       "<tr>\n",
       "  <th>Omnibus:</th>       <td> 0.491</td> <th>  Durbin-Watson:     </th> <td>   1.317</td>\n",
       "</tr>\n",
       "<tr>\n",
       "  <th>Prob(Omnibus):</th> <td> 0.782</td> <th>  Jarque-Bera (JB):  </th> <td>   0.371</td>\n",
       "</tr>\n",
       "<tr>\n",
       "  <th>Skew:</th>          <td>-0.255</td> <th>  Prob(JB):          </th> <td>   0.831</td>\n",
       "</tr>\n",
       "<tr>\n",
       "  <th>Kurtosis:</th>      <td> 2.807</td> <th>  Cond. No.          </th> <td>    20.9</td>\n",
       "</tr>\n",
       "</table><br/><br/>Notes:<br/>[1] R² is computed without centering (uncentered) since the model does not contain a constant.<br/>[2] Standard Errors assume that the covariance matrix of the errors is correctly specified."
      ],
      "text/latex": [
       "\\begin{center}\n",
       "\\begin{tabular}{lclc}\n",
       "\\toprule\n",
       "\\textbf{Dep. Variable:}    &       btc        & \\textbf{  R-squared (uncentered):}      &     0.145   \\\\\n",
       "\\textbf{Model:}            &       OLS        & \\textbf{  Adj. R-squared (uncentered):} &    -0.166   \\\\\n",
       "\\textbf{Method:}           &  Least Squares   & \\textbf{  F-statistic:       }          &    0.4648   \\\\\n",
       "\\textbf{Date:}             & Tue, 19 Nov 2024 & \\textbf{  Prob (F-statistic):}          &    0.868    \\\\\n",
       "\\textbf{Time:}             &     14:32:05     & \\textbf{  Log-Likelihood:    }          &   -36.568   \\\\\n",
       "\\textbf{No. Observations:} &          30      & \\textbf{  AIC:               }          &     89.14   \\\\\n",
       "\\textbf{Df Residuals:}     &          22      & \\textbf{  BIC:               }          &     100.3   \\\\\n",
       "\\textbf{Df Model:}         &           8      & \\textbf{                     }          &             \\\\\n",
       "\\textbf{Covariance Type:}  &    nonrobust     & \\textbf{                     }          &             \\\\\n",
       "\\bottomrule\n",
       "\\end{tabular}\n",
       "\\begin{tabular}{lcccccc}\n",
       "            & \\textbf{coef} & \\textbf{std err} & \\textbf{t} & \\textbf{P$> |$t$|$} & \\textbf{[0.025} & \\textbf{0.975]}  \\\\\n",
       "\\midrule\n",
       "\\textbf{x1} &       0.0283  &        0.041     &     0.686  &         0.500        &       -0.057    &        0.114     \\\\\n",
       "\\textbf{x2} &       0.0453  &        0.083     &     0.547  &         0.590        &       -0.126    &        0.217     \\\\\n",
       "\\textbf{x3} &       0.0298  &        0.195     &     0.153  &         0.880        &       -0.375    &        0.434     \\\\\n",
       "\\textbf{x4} &      -0.1561  &        0.206     &    -0.758  &         0.456        &       -0.583    &        0.271     \\\\\n",
       "\\textbf{x5} &      -0.2240  &        0.262     &    -0.854  &         0.402        &       -0.768    &        0.320     \\\\\n",
       "\\textbf{x6} &       0.3351  &        0.331     &     1.012  &         0.322        &       -0.351    &        1.022     \\\\\n",
       "\\textbf{x7} &      -0.1176  &        0.515     &    -0.228  &         0.822        &       -1.187    &        0.951     \\\\\n",
       "\\textbf{x8} &       0.6345  &        0.861     &     0.737  &         0.469        &       -1.151    &        2.420     \\\\\n",
       "\\bottomrule\n",
       "\\end{tabular}\n",
       "\\begin{tabular}{lclc}\n",
       "\\textbf{Omnibus:}       &  0.491 & \\textbf{  Durbin-Watson:     } &    1.317  \\\\\n",
       "\\textbf{Prob(Omnibus):} &  0.782 & \\textbf{  Jarque-Bera (JB):  } &    0.371  \\\\\n",
       "\\textbf{Skew:}          & -0.255 & \\textbf{  Prob(JB):          } &    0.831  \\\\\n",
       "\\textbf{Kurtosis:}      &  2.807 & \\textbf{  Cond. No.          } &     20.9  \\\\\n",
       "\\bottomrule\n",
       "\\end{tabular}\n",
       "%\\caption{OLS Regression Results}\n",
       "\\end{center}\n",
       "\n",
       "Notes: \\newline\n",
       " [1] R² is computed without centering (uncentered) since the model does not contain a constant. \\newline\n",
       " [2] Standard Errors assume that the covariance matrix of the errors is correctly specified."
      ],
      "text/plain": [
       "<class 'statsmodels.iolib.summary.Summary'>\n",
       "\"\"\"\n",
       "                                 OLS Regression Results                                \n",
       "=======================================================================================\n",
       "Dep. Variable:                    btc   R-squared (uncentered):                   0.145\n",
       "Model:                            OLS   Adj. R-squared (uncentered):             -0.166\n",
       "Method:                 Least Squares   F-statistic:                             0.4648\n",
       "Date:                Tue, 19 Nov 2024   Prob (F-statistic):                       0.868\n",
       "Time:                        14:32:05   Log-Likelihood:                         -36.568\n",
       "No. Observations:                  30   AIC:                                      89.14\n",
       "Df Residuals:                      22   BIC:                                      100.3\n",
       "Df Model:                           8                                                  \n",
       "Covariance Type:            nonrobust                                                  \n",
       "==============================================================================\n",
       "                 coef    std err          t      P>|t|      [0.025      0.975]\n",
       "------------------------------------------------------------------------------\n",
       "x1             0.0283      0.041      0.686      0.500      -0.057       0.114\n",
       "x2             0.0453      0.083      0.547      0.590      -0.126       0.217\n",
       "x3             0.0298      0.195      0.153      0.880      -0.375       0.434\n",
       "x4            -0.1561      0.206     -0.758      0.456      -0.583       0.271\n",
       "x5            -0.2240      0.262     -0.854      0.402      -0.768       0.320\n",
       "x6             0.3351      0.331      1.012      0.322      -0.351       1.022\n",
       "x7            -0.1176      0.515     -0.228      0.822      -1.187       0.951\n",
       "x8             0.6345      0.861      0.737      0.469      -1.151       2.420\n",
       "==============================================================================\n",
       "Omnibus:                        0.491   Durbin-Watson:                   1.317\n",
       "Prob(Omnibus):                  0.782   Jarque-Bera (JB):                0.371\n",
       "Skew:                          -0.255   Prob(JB):                        0.831\n",
       "Kurtosis:                       2.807   Cond. No.                         20.9\n",
       "==============================================================================\n",
       "\n",
       "Notes:\n",
       "[1] R² is computed without centering (uncentered) since the model does not contain a constant.\n",
       "[2] Standard Errors assume that the covariance matrix of the errors is correctly specified.\n",
       "\"\"\""
      ]
     },
     "execution_count": 63,
     "metadata": {},
     "output_type": "execute_result"
    }
   ],
   "source": [
    "from sklearn.decomposition import PCA\n",
    "from statsmodels.api import OLS\n",
    "\n",
    "pca = PCA()\n",
    "\n",
    "X = pca.fit_transform(df.drop(columns=[\"btc\"])[:-1])\n",
    "y = df[\"btc\"].shift(-1)[:-1]\n",
    "OLS(y, X).fit().summary()"
   ]
  },
  {
   "cell_type": "code",
   "execution_count": 50,
   "metadata": {},
   "outputs": [
    {
     "name": "stdout",
     "output_type": "stream",
     "text": [
      "0     2.0\n",
      "1     3.0\n",
      "2     4.0\n",
      "3     5.0\n",
      "4     6.0\n",
      "5     7.0\n",
      "6     8.0\n",
      "7     9.0\n",
      "8    10.0\n",
      "dtype: float64\n",
      "0    1\n",
      "1    2\n",
      "2    3\n",
      "3    4\n",
      "4    5\n",
      "5    6\n",
      "6    7\n",
      "7    8\n",
      "8    9\n",
      "dtype: int64\n"
     ]
    }
   ],
   "source": [
    "x = pd.Series(data=[1,2,3,4,5,6,7,8,9,10])\n",
    "y = pd.Series(data=[1,2,3,4,5,6,7,8,9,10])\n",
    "print(y.shift(-1)[:-1])\n",
    "print(x[:-1])"
   ]
  },
  {
   "cell_type": "code",
   "execution_count": 195,
   "metadata": {},
   "outputs": [
    {
     "name": "stdout",
     "output_type": "stream",
     "text": [
      "[82  6]\n",
      "[82]\n"
     ]
    }
   ],
   "source": [
    "# train test split\n",
    "train = df.loc[:\"2020\"].copy()\n",
    "test = df.loc[\"2020\":].copy()\n",
    "\n",
    "factors = df.columns[~(df.columns == \"btc\")]\n",
    "print(np.array(df[factors].shape))\n",
    "print(np.array(df[\"btc\"].shape))"
   ]
  },
  {
   "cell_type": "code",
   "execution_count": 196,
   "metadata": {},
   "outputs": [],
   "source": [
    "def display_factor_loadings(intercept, coefs, factorNames):\n",
    "    '''display_factor_loadings takes an intercept, coefs, factorNames and options dict, and prints the factor loadings in a readable way\n",
    "    INPUTS:\n",
    "        intercept: float, intercept value\n",
    "        coefs: np array, coeficients from pandas df\n",
    "        factorNames: list, names of the factors\n",
    "        options: dict, should contain at least one key, nameOfReg\n",
    "            nameOfReg: string, name for the regression\n",
    "    Outputs:\n",
    "        output is printed\n",
    "    '''\n",
    "    loadings = np.insert(coefs, 0, intercept)\n",
    "    name = 'No Name'\n",
    "    out = pd.DataFrame(loadings, columns=[name])\n",
    "    out = out.transpose()\n",
    "    fullNames = ['Intercept'] + factorNames\n",
    "    out.columns = fullNames\n",
    "    print(out)"
   ]
  },
  {
   "cell_type": "code",
   "execution_count": 26,
   "metadata": {},
   "outputs": [
    {
     "ename": "NameError",
     "evalue": "name 'train' is not defined",
     "output_type": "error",
     "traceback": [
      "\u001b[1;31m---------------------------------------------------------------------------\u001b[0m",
      "\u001b[1;31mNameError\u001b[0m                                 Traceback (most recent call last)",
      "Cell \u001b[1;32mIn[26], line 10\u001b[0m\n\u001b[0;32m      7\u001b[0m lasso \u001b[38;5;241m=\u001b[39m Lasso()\n\u001b[0;32m      9\u001b[0m clf \u001b[38;5;241m=\u001b[39m GridSearchCV(lasso, tuned_parameters, cv\u001b[38;5;241m=\u001b[39m\u001b[38;5;241m5\u001b[39m, refit\u001b[38;5;241m=\u001b[39m\u001b[38;5;28;01mTrue\u001b[39;00m)\n\u001b[1;32m---> 10\u001b[0m clf\u001b[38;5;241m.\u001b[39mfit(\u001b[43mtrain\u001b[49m[factors], train[\u001b[38;5;124m\"\u001b[39m\u001b[38;5;124mbtc\u001b[39m\u001b[38;5;124m\"\u001b[39m])\n\u001b[0;32m     11\u001b[0m lassoBest \u001b[38;5;241m=\u001b[39m clf\u001b[38;5;241m.\u001b[39mbest_estimator_\n\u001b[0;32m     13\u001b[0m \u001b[38;5;28mprint\u001b[39m(factors)\n",
      "\u001b[1;31mNameError\u001b[0m: name 'train' is not defined"
     ]
    }
   ],
   "source": [
    "# applying lasso regression\n",
    "from sklearn.linear_model import Lasso\n",
    "from sklearn.model_selection import GridSearchCV\n",
    "\n",
    "alphas = np.logspace(-12, -2, num=100)\n",
    "tuned_parameters = [{'alpha': alphas}]\n",
    "lasso = Lasso()\n",
    "\n",
    "clf = GridSearchCV(lasso, tuned_parameters, cv=5, refit=True)\n",
    "clf.fit(train[factors], train[\"btc\"])\n",
    "lassoBest = clf.best_estimator_\n",
    "\n",
    "print(factors)\n",
    "print(lassoBest.alpha)\n",
    "print(lassoBest.coef_)"
   ]
  },
  {
   "cell_type": "code",
   "execution_count": 203,
   "metadata": {},
   "outputs": [
    {
     "name": "stdout",
     "output_type": "stream",
     "text": [
      "Index(['spy', 'iau', 'rf', 'by', 'cpi', 'm1'], dtype='object')\n",
      "0.01\n",
      "[ 1.22069011  0.39787717 -0.00585366 -0.02161795  0.02891144 -0.02441718]\n"
     ]
    }
   ],
   "source": [
    "# applying ridge regression\n",
    "from sklearn.linear_model import Ridge\n",
    "\n",
    "ridge = Ridge()\n",
    "\n",
    "clf = GridSearchCV(ridge, tuned_parameters, cv=5, refit=True)\n",
    "clf.fit(train[factors], train[\"btc\"])\n",
    "ridgeBest = clf.best_estimator_\n",
    "\n",
    "print(factors)\n",
    "print(ridgeBest.alpha)\n",
    "print(ridgeBest.coef_)"
   ]
  },
  {
   "cell_type": "code",
   "execution_count": 209,
   "metadata": {},
   "outputs": [],
   "source": [
    "def plot_pred(y_test, y_pred, figsize=(8, 6)):\n",
    "    plt.figure(figsize=figsize)\n",
    "    plt.scatter(test[\"btc\"], y_pred, alpha=0.7)\n",
    "    plt.plot([y_test.min(), y_test.max()], [y_test.min(), y_test.max()], 'r--', lw=2)  # Diagonal line\n",
    "    plt.xlabel('Actual Values')\n",
    "    plt.ylabel('Predicted Values')\n",
    "    plt.title('Predictions vs. Actual Values')\n",
    "    plt.grid(True)\n",
    "    plt.show()"
   ]
  },
  {
   "cell_type": "code",
   "execution_count": 210,
   "metadata": {},
   "outputs": [
    {
     "name": "stdout",
     "output_type": "stream",
     "text": [
      "0.21291435353475197\n"
     ]
    },
    {
     "data": {
      "image/png": "[encoded data removed]",
      "text/plain": [
       "<Figure size 400x300 with 1 Axes>"
      ]
     },
     "metadata": {},
     "output_type": "display_data"
    }
   ],
   "source": [
    "# testing ridge regression\n",
    "print(ridgeBest.score(test[factors], test[\"btc\"]))\n",
    "plot_pred(test[\"btc\"], ridgeBest.predict(test[factors]), figsize=(4,3))"
   ]
  },
  {
   "cell_type": "code",
   "execution_count": 212,
   "metadata": {},
   "outputs": [
    {
     "name": "stdout",
     "output_type": "stream",
     "text": [
      "Index(['spy', 'iau', 'rf', 'by', 'cpi', 'm1'], dtype='object')\n",
      "0.0019630406500402682\n",
      "[ 0.54592525  0.         -0.00426448  0.          0.05323497 -0.        ]\n"
     ]
    }
   ],
   "source": [
    "# applying elastic net  \n",
    "from sklearn.linear_model import ElasticNet\n",
    "\n",
    "elasticNet = ElasticNet()\n",
    "\n",
    "clf = GridSearchCV(elasticNet, tuned_parameters, cv=5, refit=True)\n",
    "clf.fit(train[factors], train[\"btc\"])\n",
    "netBest = clf.best_estimator_\n",
    "\n",
    "print(factors)\n",
    "print(netBest.alpha)\n",
    "print(netBest.coef_)"
   ]
  },
  {
   "cell_type": "code",
   "execution_count": 213,
   "metadata": {},
   "outputs": [
    {
     "name": "stdout",
     "output_type": "stream",
     "text": [
      "0.13120738948208255\n"
     ]
    },
    {
     "data": {
      "image/png": "[encoded data removed]",
      "text/plain": [
       "<Figure size 400x300 with 1 Axes>"
      ]
     },
     "metadata": {},
     "output_type": "display_data"
    }
   ],
   "source": [
    "# testing elastic net\n",
    "print(netBest.score(test[factors], test[\"btc\"]))\n",
    "plot_pred(test[\"btc\"], netBest.predict(test[factors]), figsize=(4,3))"
   ]
  }
 ],
 "metadata": {
  "kernelspec": {
   "display_name": "qfi",
   "language": "python",
   "name": "python3"
  },
  "language_info": {
   "codemirror_mode": {
    "name": "ipython",
    "version": 3
   },
   "file_extension": ".py",
   "mimetype": "text/x-python",
   "name": "python",
   "nbconvert_exporter": "python",
   "pygments_lexer": "ipython3",
   "version": "3.12.4"
  }
 },
 "nbformat": 4,
 "nbformat_minor": 2
}
