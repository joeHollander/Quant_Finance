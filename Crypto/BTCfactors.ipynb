{
 "cells": [
  {
   "cell_type": "code",
   "execution_count": 160,
   "metadata": {},
   "outputs": [],
   "source": [
    "import yfinance as yf\n",
    "import pandas as pd\n",
    "import numpy as np\n",
    "import matplotlib.pyplot as plt\n",
    "import sklearn as sk"
   ]
  },
  {
   "cell_type": "markdown",
   "metadata": {},
   "source": [
    "Decomposing BTC into its factors. Using factors: equities, gold, interest rates, bond yields, momentum, inflation, liquidity. Using methods: PCA, Ridge, Lasso, ElasticNet, Best Subset"
   ]
  },
  {
   "cell_type": "code",
   "execution_count": 157,
   "metadata": {},
   "outputs": [
    {
     "name": "stderr",
     "output_type": "stream",
     "text": [
      "[*********************100%%**********************]  1 of 1 completed\n"
     ]
    },
    {
     "data": {
      "text/html": [
       "<div>\n",
       "<style scoped>\n",
       "    .dataframe tbody tr th:only-of-type {\n",
       "        vertical-align: middle;\n",
       "    }\n",
       "\n",
       "    .dataframe tbody tr th {\n",
       "        vertical-align: top;\n",
       "    }\n",
       "\n",
       "    .dataframe thead th {\n",
       "        text-align: right;\n",
       "    }\n",
       "</style>\n",
       "<table border=\"1\" class=\"dataframe\">\n",
       "  <thead>\n",
       "    <tr style=\"text-align: right;\">\n",
       "      <th></th>\n",
       "      <th>Open</th>\n",
       "      <th>High</th>\n",
       "      <th>Low</th>\n",
       "      <th>Close</th>\n",
       "      <th>Adj Close</th>\n",
       "      <th>Volume</th>\n",
       "      <th>open_ret</th>\n",
       "    </tr>\n",
       "    <tr>\n",
       "      <th>Date</th>\n",
       "      <th></th>\n",
       "      <th></th>\n",
       "      <th></th>\n",
       "      <th></th>\n",
       "      <th></th>\n",
       "      <th></th>\n",
       "      <th></th>\n",
       "    </tr>\n",
       "  </thead>\n",
       "  <tbody>\n",
       "    <tr>\n",
       "      <th>2005-03-01</th>\n",
       "      <td>8.674</td>\n",
       "      <td>8.938</td>\n",
       "      <td>8.482</td>\n",
       "      <td>8.576</td>\n",
       "      <td>8.576</td>\n",
       "      <td>8064500</td>\n",
       "      <td>0.029922</td>\n",
       "    </tr>\n",
       "  </tbody>\n",
       "</table>\n",
       "</div>"
      ],
      "text/plain": [
       "             Open   High    Low  Close  Adj Close   Volume  open_ret\n",
       "Date                                                                \n",
       "2005-03-01  8.674  8.938  8.482  8.576      8.576  8064500  0.029922"
      ]
     },
     "execution_count": 157,
     "metadata": {},
     "output_type": "execute_result"
    }
   ],
   "source": [
    "# gold data \n",
    "iau = yf.download(\"IAU\", start=\"2005-01-01\", end=\"2023-01-01\", interval=\"1mo\")\n",
    "iau[\"open_ret\"] = iau[\"Open\"].pct_change()\n",
    "iau = iau.dropna()\n",
    "iau.head(1)"
   ]
  },
  {
   "cell_type": "code",
   "execution_count": 158,
   "metadata": {},
   "outputs": [
    {
     "name": "stderr",
     "output_type": "stream",
     "text": [
      "[*********************100%%**********************]  1 of 1 completed\n"
     ]
    },
    {
     "data": {
      "text/html": [
       "<div>\n",
       "<style scoped>\n",
       "    .dataframe tbody tr th:only-of-type {\n",
       "        vertical-align: middle;\n",
       "    }\n",
       "\n",
       "    .dataframe tbody tr th {\n",
       "        vertical-align: top;\n",
       "    }\n",
       "\n",
       "    .dataframe thead th {\n",
       "        text-align: right;\n",
       "    }\n",
       "</style>\n",
       "<table border=\"1\" class=\"dataframe\">\n",
       "  <thead>\n",
       "    <tr style=\"text-align: right;\">\n",
       "      <th></th>\n",
       "      <th>Open</th>\n",
       "      <th>High</th>\n",
       "      <th>Low</th>\n",
       "      <th>Close</th>\n",
       "      <th>Adj Close</th>\n",
       "      <th>Volume</th>\n",
       "      <th>open_ret</th>\n",
       "    </tr>\n",
       "    <tr>\n",
       "      <th>Date</th>\n",
       "      <th></th>\n",
       "      <th></th>\n",
       "      <th></th>\n",
       "      <th></th>\n",
       "      <th></th>\n",
       "      <th></th>\n",
       "      <th></th>\n",
       "    </tr>\n",
       "  </thead>\n",
       "  <tbody>\n",
       "    <tr>\n",
       "      <th>2005-02-01</th>\n",
       "      <td>118.25</td>\n",
       "      <td>121.669998</td>\n",
       "      <td>118.099998</td>\n",
       "      <td>120.629997</td>\n",
       "      <td>83.324211</td>\n",
       "      <td>1025608400</td>\n",
       "      <td>-0.027229</td>\n",
       "    </tr>\n",
       "  </tbody>\n",
       "</table>\n",
       "</div>"
      ],
      "text/plain": [
       "              Open        High         Low       Close  Adj Close      Volume  \\\n",
       "Date                                                                            \n",
       "2005-02-01  118.25  121.669998  118.099998  120.629997  83.324211  1025608400   \n",
       "\n",
       "            open_ret  \n",
       "Date                  \n",
       "2005-02-01 -0.027229  "
      ]
     },
     "execution_count": 158,
     "metadata": {},
     "output_type": "execute_result"
    }
   ],
   "source": [
    "# sp500 data\n",
    "spy = yf.download('SPY', start='2005-01-01', end='2023-01-01', interval=\"1mo\")\n",
    "spy[\"open_ret\"] = spy[\"Open\"].pct_change()\n",
    "spy = spy.dropna()\n",
    "spy.head(1)"
   ]
  },
  {
   "cell_type": "code",
   "execution_count": 118,
   "metadata": {},
   "outputs": [
    {
     "name": "stderr",
     "output_type": "stream",
     "text": [
      "[*********************100%%**********************]  1 of 1 completed\n"
     ]
    },
    {
     "data": {
      "text/html": [
       "<div>\n",
       "<style scoped>\n",
       "    .dataframe tbody tr th:only-of-type {\n",
       "        vertical-align: middle;\n",
       "    }\n",
       "\n",
       "    .dataframe tbody tr th {\n",
       "        vertical-align: top;\n",
       "    }\n",
       "\n",
       "    .dataframe thead th {\n",
       "        text-align: right;\n",
       "    }\n",
       "</style>\n",
       "<table border=\"1\" class=\"dataframe\">\n",
       "  <thead>\n",
       "    <tr style=\"text-align: right;\">\n",
       "      <th></th>\n",
       "      <th>Open</th>\n",
       "      <th>High</th>\n",
       "      <th>Low</th>\n",
       "      <th>Close</th>\n",
       "      <th>Adj Close</th>\n",
       "      <th>Volume</th>\n",
       "      <th>open_ret</th>\n",
       "    </tr>\n",
       "    <tr>\n",
       "      <th>Date</th>\n",
       "      <th></th>\n",
       "      <th></th>\n",
       "      <th></th>\n",
       "      <th></th>\n",
       "      <th></th>\n",
       "      <th></th>\n",
       "      <th></th>\n",
       "    </tr>\n",
       "  </thead>\n",
       "  <tbody>\n",
       "    <tr>\n",
       "      <th>2014-11-01</th>\n",
       "      <td>338.649994</td>\n",
       "      <td>457.092987</td>\n",
       "      <td>320.626007</td>\n",
       "      <td>378.046997</td>\n",
       "      <td>378.046997</td>\n",
       "      <td>659733360</td>\n",
       "      <td>-0.1259</td>\n",
       "    </tr>\n",
       "  </tbody>\n",
       "</table>\n",
       "</div>"
      ],
      "text/plain": [
       "                  Open        High         Low       Close   Adj Close  \\\n",
       "Date                                                                     \n",
       "2014-11-01  338.649994  457.092987  320.626007  378.046997  378.046997   \n",
       "\n",
       "               Volume  open_ret  \n",
       "Date                             \n",
       "2014-11-01  659733360   -0.1259  "
      ]
     },
     "execution_count": 118,
     "metadata": {},
     "output_type": "execute_result"
    }
   ],
   "source": [
    "# btc data\n",
    "btc = yf.download(\"BTC-USD\", start=\"2005-01-01\", end=\"2023-01-01\", interval=\"1mo\")\n",
    "btc[\"open_ret\"] = btc[\"Open\"].pct_change()\n",
    "btc = btc.dropna()\n",
    "btc.head(1)"
   ]
  },
  {
   "cell_type": "code",
   "execution_count": 134,
   "metadata": {},
   "outputs": [
    {
     "data": {
      "text/plain": [
       "DATE\n",
       "1950-01-01    1.5\n",
       "Name: INTDSRUSM193N, dtype: float64"
      ]
     },
     "execution_count": 134,
     "metadata": {},
     "output_type": "execute_result"
    }
   ],
   "source": [
    "# interest rates\n",
    "rf = pd.read_csv(\"Data/InterestRates.csv\", index_col=\"DATE\",  parse_dates=True, dtype=float).iloc[:, 0]\n",
    "rf.head(1)"
   ]
  },
  {
   "cell_type": "code",
   "execution_count": 137,
   "metadata": {},
   "outputs": [
    {
     "data": {
      "text/plain": [
       "DATE\n",
       "1953-05-01    0.077739\n",
       "Name: IRLTLT01USM156N, dtype: float64"
      ]
     },
     "execution_count": 137,
     "metadata": {},
     "output_type": "execute_result"
    }
   ],
   "source": [
    "# bond yields\n",
    "by = pd.read_csv(\"Data/BondYields.csv\", index_col=\"DATE\",  parse_dates=True, dtype=float).pct_change().dropna().iloc[:, 0]\n",
    "by.head(1)"
   ]
  },
  {
   "cell_type": "code",
   "execution_count": 138,
   "metadata": {},
   "outputs": [
    {
     "data": {
      "text/plain": [
       "DATE\n",
       "1955-02-01    0.0\n",
       "Name: CPALTT01USM657N, dtype: float64"
      ]
     },
     "execution_count": 138,
     "metadata": {},
     "output_type": "execute_result"
    }
   ],
   "source": [
    "# cpi \n",
    "cpi = pd.read_csv(\"Data/CPI.csv\", index_col=\"DATE\",  parse_dates=True, dtype=float).iloc[:, 0]\n",
    "cpi.head(1)"
   ]
  },
  {
   "cell_type": "code",
   "execution_count": 139,
   "metadata": {},
   "outputs": [
    {
     "data": {
      "text/plain": [
       "DATE\n",
       "1986-01-01    101.3\n",
       "Name: PCUOMFGOMFG, dtype: float64"
      ]
     },
     "execution_count": 139,
     "metadata": {},
     "output_type": "execute_result"
    }
   ],
   "source": [
    "# ppi\n",
    "ppi = pd.read_csv(\"Data/PPI.csv\", index_col=\"DATE\",  parse_dates=True, dtype=float).iloc[:, 0]\n",
    "ppi.head(1)"
   ]
  },
  {
   "cell_type": "code",
   "execution_count": 140,
   "metadata": {},
   "outputs": [
    {
     "data": {
      "text/plain": [
       "DATE\n",
       "1975-02-01   -0.05445\n",
       "Name: WM1NS, dtype: float64"
      ]
     },
     "execution_count": 140,
     "metadata": {},
     "output_type": "execute_result"
    }
   ],
   "source": [
    "# liquidity from m1\n",
    "m1 = pd.read_csv(\"Data/M1.csv\", index_col=\"DATE\",  parse_dates=True, dtype=float).pct_change().dropna().iloc[:, 0]\n",
    "m1 = m1.resample(\"ME\").apply(lambda x: (1+x).prod()-1)\n",
    "m1.index = m1.index + pd.offsets.MonthBegin(1)\n",
    "m1.head(1)"
   ]
  },
  {
   "cell_type": "code",
   "execution_count": 193,
   "metadata": {},
   "outputs": [
    {
     "data": {
      "text/plain": [
       "<pandas.plotting._core.PlotAccessor object at 0x00000231D9032300>"
      ]
     },
     "execution_count": 193,
     "metadata": {},
     "output_type": "execute_result"
    }
   ],
   "source": [
    "# combining everything\n",
    "df = pd.DataFrame({\"spy\": spy[\"open_ret\"], \"iau\": iau[\"open_ret\"], \"btc\": btc[\"open_ret\"], \"rf\": rf, \"by\": by, \"cpi\": cpi, \"m1\": m1}).dropna()\n",
    "df.head()\n",
    "df.plot"
   ]
  },
  {
   "cell_type": "code",
   "execution_count": 194,
   "metadata": {},
   "outputs": [
    {
     "data": {
      "text/html": [
       "<div>\n",
       "<style scoped>\n",
       "    .dataframe tbody tr th:only-of-type {\n",
       "        vertical-align: middle;\n",
       "    }\n",
       "\n",
       "    .dataframe tbody tr th {\n",
       "        vertical-align: top;\n",
       "    }\n",
       "\n",
       "    .dataframe thead th {\n",
       "        text-align: right;\n",
       "    }\n",
       "</style>\n",
       "<table border=\"1\" class=\"dataframe\">\n",
       "  <thead>\n",
       "    <tr style=\"text-align: right;\">\n",
       "      <th></th>\n",
       "      <th>spy</th>\n",
       "      <th>iau</th>\n",
       "      <th>btc</th>\n",
       "      <th>rf</th>\n",
       "      <th>by</th>\n",
       "      <th>cpi</th>\n",
       "      <th>m1</th>\n",
       "    </tr>\n",
       "  </thead>\n",
       "  <tbody>\n",
       "    <tr>\n",
       "      <th>spy</th>\n",
       "      <td>1.000000</td>\n",
       "      <td>-0.014590</td>\n",
       "      <td>0.271571</td>\n",
       "      <td>-0.045410</td>\n",
       "      <td>0.348699</td>\n",
       "      <td>0.282467</td>\n",
       "      <td>0.087913</td>\n",
       "    </tr>\n",
       "    <tr>\n",
       "      <th>iau</th>\n",
       "      <td>-0.014590</td>\n",
       "      <td>1.000000</td>\n",
       "      <td>0.043030</td>\n",
       "      <td>0.034657</td>\n",
       "      <td>-0.112324</td>\n",
       "      <td>0.149823</td>\n",
       "      <td>0.051799</td>\n",
       "    </tr>\n",
       "    <tr>\n",
       "      <th>btc</th>\n",
       "      <td>0.271571</td>\n",
       "      <td>0.043030</td>\n",
       "      <td>1.000000</td>\n",
       "      <td>-0.037763</td>\n",
       "      <td>0.181379</td>\n",
       "      <td>0.090793</td>\n",
       "      <td>0.008107</td>\n",
       "    </tr>\n",
       "    <tr>\n",
       "      <th>rf</th>\n",
       "      <td>-0.045410</td>\n",
       "      <td>0.034657</td>\n",
       "      <td>-0.037763</td>\n",
       "      <td>1.000000</td>\n",
       "      <td>-0.115294</td>\n",
       "      <td>-0.065073</td>\n",
       "      <td>-0.159316</td>\n",
       "    </tr>\n",
       "    <tr>\n",
       "      <th>by</th>\n",
       "      <td>0.348699</td>\n",
       "      <td>-0.112324</td>\n",
       "      <td>0.181379</td>\n",
       "      <td>-0.115294</td>\n",
       "      <td>1.000000</td>\n",
       "      <td>0.250903</td>\n",
       "      <td>0.070834</td>\n",
       "    </tr>\n",
       "    <tr>\n",
       "      <th>cpi</th>\n",
       "      <td>0.282467</td>\n",
       "      <td>0.149823</td>\n",
       "      <td>0.090793</td>\n",
       "      <td>-0.065073</td>\n",
       "      <td>0.250903</td>\n",
       "      <td>1.000000</td>\n",
       "      <td>0.102110</td>\n",
       "    </tr>\n",
       "    <tr>\n",
       "      <th>m1</th>\n",
       "      <td>0.087913</td>\n",
       "      <td>0.051799</td>\n",
       "      <td>0.008107</td>\n",
       "      <td>-0.159316</td>\n",
       "      <td>0.070834</td>\n",
       "      <td>0.102110</td>\n",
       "      <td>1.000000</td>\n",
       "    </tr>\n",
       "  </tbody>\n",
       "</table>\n",
       "</div>"
      ],
      "text/plain": [
       "          spy       iau       btc        rf        by       cpi        m1\n",
       "spy  1.000000 -0.014590  0.271571 -0.045410  0.348699  0.282467  0.087913\n",
       "iau -0.014590  1.000000  0.043030  0.034657 -0.112324  0.149823  0.051799\n",
       "btc  0.271571  0.043030  1.000000 -0.037763  0.181379  0.090793  0.008107\n",
       "rf  -0.045410  0.034657 -0.037763  1.000000 -0.115294 -0.065073 -0.159316\n",
       "by   0.348699 -0.112324  0.181379 -0.115294  1.000000  0.250903  0.070834\n",
       "cpi  0.282467  0.149823  0.090793 -0.065073  0.250903  1.000000  0.102110\n",
       "m1   0.087913  0.051799  0.008107 -0.159316  0.070834  0.102110  1.000000"
      ]
     },
     "execution_count": 194,
     "metadata": {},
     "output_type": "execute_result"
    }
   ],
   "source": [
    "# corr matrix to check if high correlations between factors\n",
    "df.corr()"
   ]
  },
  {
   "cell_type": "code",
   "execution_count": 195,
   "metadata": {},
   "outputs": [
    {
     "name": "stdout",
     "output_type": "stream",
     "text": [
      "[82  6]\n",
      "[82]\n"
     ]
    }
   ],
   "source": [
    "# train test split\n",
    "train = df.loc[:\"2020\"].copy()\n",
    "test = df.loc[\"2020\":].copy()\n",
    "\n",
    "factors = df.columns[~(df.columns == \"btc\")]\n",
    "print(np.array(df[factors].shape))\n",
    "print(np.array(df[\"btc\"].shape))"
   ]
  },
  {
   "cell_type": "code",
   "execution_count": 196,
   "metadata": {},
   "outputs": [],
   "source": [
    "def display_factor_loadings(intercept, coefs, factorNames):\n",
    "    '''display_factor_loadings takes an intercept, coefs, factorNames and options dict, and prints the factor loadings in a readable way\n",
    "    INPUTS:\n",
    "        intercept: float, intercept value\n",
    "        coefs: np array, coeficients from pandas df\n",
    "        factorNames: list, names of the factors\n",
    "        options: dict, should contain at least one key, nameOfReg\n",
    "            nameOfReg: string, name for the regression\n",
    "    Outputs:\n",
    "        output is printed\n",
    "    '''\n",
    "    loadings = np.insert(coefs, 0, intercept)\n",
    "    name = 'No Name'\n",
    "    out = pd.DataFrame(loadings, columns=[name])\n",
    "    out = out.transpose()\n",
    "    fullNames = ['Intercept'] + factorNames\n",
    "    out.columns = fullNames\n",
    "    print(out)"
   ]
  },
  {
   "cell_type": "code",
   "execution_count": 202,
   "metadata": {},
   "outputs": [
    {
     "name": "stdout",
     "output_type": "stream",
     "text": [
      "Index(['spy', 'iau', 'rf', 'by', 'cpi', 'm1'], dtype='object')\n",
      "0.01\n",
      "[ 0.  0. -0.  0.  0.  0.]\n"
     ]
    }
   ],
   "source": [
    "# applying lasso regression\n",
    "from sklearn.linear_model import Lasso\n",
    "from sklearn.model_selection import GridSearchCV\n",
    "\n",
    "alphas = np.logspace(-12, -2, num=100)\n",
    "tuned_parameters = [{'alpha': alphas}]\n",
    "lasso = Lasso()\n",
    "\n",
    "clf = GridSearchCV(lasso, tuned_parameters, cv=5, refit=True)\n",
    "clf.fit(train[factors], train[\"btc\"])\n",
    "lassoBest = clf.best_estimator_\n",
    "\n",
    "print(factors)\n",
    "print(lassoBest.alpha)\n",
    "print(lassoBest.coef_)"
   ]
  },
  {
   "cell_type": "code",
   "execution_count": 203,
   "metadata": {},
   "outputs": [
    {
     "name": "stdout",
     "output_type": "stream",
     "text": [
      "Index(['spy', 'iau', 'rf', 'by', 'cpi', 'm1'], dtype='object')\n",
      "0.01\n",
      "[ 1.22069011  0.39787717 -0.00585366 -0.02161795  0.02891144 -0.02441718]\n"
     ]
    }
   ],
   "source": [
    "# applying ridge regression\n",
    "from sklearn.linear_model import Ridge\n",
    "\n",
    "ridge = Ridge()\n",
    "\n",
    "clf = GridSearchCV(ridge, tuned_parameters, cv=5, refit=True)\n",
    "clf.fit(train[factors], train[\"btc\"])\n",
    "ridgeBest = clf.best_estimator_\n",
    "\n",
    "print(factors)\n",
    "print(ridgeBest.alpha)\n",
    "print(ridgeBest.coef_)"
   ]
  },
  {
   "cell_type": "code",
   "execution_count": 209,
   "metadata": {},
   "outputs": [],
   "source": [
    "def plot_pred(y_test, y_pred, figsize=(8, 6)):\n",
    "    plt.figure(figsize=figsize)\n",
    "    plt.scatter(test[\"btc\"], y_pred, alpha=0.7)\n",
    "    plt.plot([y_test.min(), y_test.max()], [y_test.min(), y_test.max()], 'r--', lw=2)  # Diagonal line\n",
    "    plt.xlabel('Actual Values')\n",
    "    plt.ylabel('Predicted Values')\n",
    "    plt.title('Predictions vs. Actual Values')\n",
    "    plt.grid(True)\n",
    "    plt.show()"
   ]
  },
  {
   "cell_type": "code",
   "execution_count": 210,
   "metadata": {},
   "outputs": [
    {
     "name": "stdout",
     "output_type": "stream",
     "text": [
      "0.21291435353475197\n"
     ]
    },
    {
     "data": {
      "image/png": "[encoded data removed]",
      "text/plain": [
       "<Figure size 400x300 with 1 Axes>"
      ]
     },
     "metadata": {},
     "output_type": "display_data"
    }
   ],
   "source": [
    "# testing ridge regression\n",
    "print(ridgeBest.score(test[factors], test[\"btc\"]))\n",
    "plot_pred(test[\"btc\"], ridgeBest.predict(test[factors]), figsize=(4,3))"
   ]
  },
  {
   "cell_type": "code",
   "execution_count": 212,
   "metadata": {},
   "outputs": [
    {
     "name": "stdout",
     "output_type": "stream",
     "text": [
      "Index(['spy', 'iau', 'rf', 'by', 'cpi', 'm1'], dtype='object')\n",
      "0.0019630406500402682\n",
      "[ 0.54592525  0.         -0.00426448  0.          0.05323497 -0.        ]\n"
     ]
    }
   ],
   "source": [
    "# applying elastic net  \n",
    "from sklearn.linear_model import ElasticNet\n",
    "\n",
    "elasticNet = ElasticNet()\n",
    "\n",
    "clf = GridSearchCV(elasticNet, tuned_parameters, cv=5, refit=True)\n",
    "clf.fit(train[factors], train[\"btc\"])\n",
    "netBest = clf.best_estimator_\n",
    "\n",
    "print(factors)\n",
    "print(netBest.alpha)\n",
    "print(netBest.coef_)"
   ]
  },
  {
   "cell_type": "code",
   "execution_count": 213,
   "metadata": {},
   "outputs": [
    {
     "name": "stdout",
     "output_type": "stream",
     "text": [
      "0.13120738948208255\n"
     ]
    },
    {
     "data": {
      "image/png": "[encoded data removed]",
      "text/plain": [
       "<Figure size 400x300 with 1 Axes>"
      ]
     },
     "metadata": {},
     "output_type": "display_data"
    }
   ],
   "source": [
    "# testing elastic net\n",
    "print(netBest.score(test[factors], test[\"btc\"]))\n",
    "plot_pred(test[\"btc\"], netBest.predict(test[factors]), figsize=(4,3))"
   ]
  }
 ],
 "metadata": {
  "kernelspec": {
   "display_name": "qfi",
   "language": "python",
   "name": "python3"
  },
  "language_info": {
   "codemirror_mode": {
    "name": "ipython",
    "version": 3
   },
   "file_extension": ".py",
   "mimetype": "text/x-python",
   "name": "python",
   "nbconvert_exporter": "python",
   "pygments_lexer": "ipython3",
   "version": "3.12.4"
  }
 },
 "nbformat": 4,
 "nbformat_minor": 2
}
