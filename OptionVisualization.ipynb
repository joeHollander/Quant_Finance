{
 "cells": [
  {
   "cell_type": "code",
   "execution_count": 4,
   "metadata": {},
   "outputs": [],
   "source": [
    "import pandas as pd\n",
    "import numpy as np\n",
    "import matplotlib.pyplot as plt\n",
    "import yfinance as yf"
   ]
  },
  {
   "cell_type": "code",
   "execution_count": 5,
   "metadata": {},
   "outputs": [],
   "source": [
    "# loading options data\n",
    "options_df = pd.read_csv(\"AAPL.csv\")\n",
    "# cleaning\n",
    "mask = options_df[\"type\"] == \"put\"\n",
    "options_df = options_df.drop(options_df[mask].index)\n",
    "options_df[\"moneyness\"] = options_df[\"closing price\"] - options_df[\"strike price\"]\n",
    "# checking length\n",
    "#print(options_df[\"date\"].nunique())"
   ]
  },
  {
   "cell_type": "code",
   "execution_count": 6,
   "metadata": {},
   "outputs": [
    {
     "data": {
      "text/html": [
       "<div>\n",
       "<style scoped>\n",
       "    .dataframe tbody tr th:only-of-type {\n",
       "        vertical-align: middle;\n",
       "    }\n",
       "\n",
       "    .dataframe tbody tr th {\n",
       "        vertical-align: top;\n",
       "    }\n",
       "\n",
       "    .dataframe thead th {\n",
       "        text-align: right;\n",
       "    }\n",
       "</style>\n",
       "<table border=\"1\" class=\"dataframe\">\n",
       "  <thead>\n",
       "    <tr style=\"text-align: right;\">\n",
       "      <th></th>\n",
       "      <th>expiration date</th>\n",
       "      <th>strike price</th>\n",
       "      <th>mid price</th>\n",
       "      <th>closing price</th>\n",
       "      <th>moneyness</th>\n",
       "    </tr>\n",
       "    <tr>\n",
       "      <th>date</th>\n",
       "      <th></th>\n",
       "      <th></th>\n",
       "      <th></th>\n",
       "      <th></th>\n",
       "      <th></th>\n",
       "    </tr>\n",
       "  </thead>\n",
       "  <tbody>\n",
       "    <tr>\n",
       "      <th>2016-01-04</th>\n",
       "      <td>[2016-01-08, 2016-01-08, 2016-01-08, 2016-01-0...</td>\n",
       "      <td>[15.0, 16.25, 17.5, 18.75, 20.0, 21.25, 22.5, ...</td>\n",
       "      <td>[11.3375, 10.0875, 8.8375, 7.5875, 6.3375, 5.0...</td>\n",
       "      <td>[26.337, 26.337, 26.337, 26.337, 26.337, 26.33...</td>\n",
       "      <td>[11.337, 10.087, 8.837, 7.587, 6.337, 5.087, 3...</td>\n",
       "    </tr>\n",
       "    <tr>\n",
       "      <th>2016-01-05</th>\n",
       "      <td>[2016-01-08, 2016-01-08, 2016-01-08, 2016-01-0...</td>\n",
       "      <td>[15.0, 16.25, 17.5, 18.75, 20.0, 20.125, 20.25...</td>\n",
       "      <td>[10.67875, 9.42875, 8.17875, 6.92875, 5.67875,...</td>\n",
       "      <td>[25.677, 25.677, 25.677, 25.677, 25.677, 25.67...</td>\n",
       "      <td>[10.677, 9.427, 8.177, 6.927, 5.677, 5.552, 5....</td>\n",
       "    </tr>\n",
       "  </tbody>\n",
       "</table>\n",
       "</div>"
      ],
      "text/plain": [
       "                                              expiration date  \\\n",
       "date                                                            \n",
       "2016-01-04  [2016-01-08, 2016-01-08, 2016-01-08, 2016-01-0...   \n",
       "2016-01-05  [2016-01-08, 2016-01-08, 2016-01-08, 2016-01-0...   \n",
       "\n",
       "                                                 strike price  \\\n",
       "date                                                            \n",
       "2016-01-04  [15.0, 16.25, 17.5, 18.75, 20.0, 21.25, 22.5, ...   \n",
       "2016-01-05  [15.0, 16.25, 17.5, 18.75, 20.0, 20.125, 20.25...   \n",
       "\n",
       "                                                    mid price  \\\n",
       "date                                                            \n",
       "2016-01-04  [11.3375, 10.0875, 8.8375, 7.5875, 6.3375, 5.0...   \n",
       "2016-01-05  [10.67875, 9.42875, 8.17875, 6.92875, 5.67875,...   \n",
       "\n",
       "                                                closing price  \\\n",
       "date                                                            \n",
       "2016-01-04  [26.337, 26.337, 26.337, 26.337, 26.337, 26.33...   \n",
       "2016-01-05  [25.677, 25.677, 25.677, 25.677, 25.677, 25.67...   \n",
       "\n",
       "                                                    moneyness  \n",
       "date                                                           \n",
       "2016-01-04  [11.337, 10.087, 8.837, 7.587, 6.337, 5.087, 3...  \n",
       "2016-01-05  [10.677, 9.427, 8.177, 6.927, 5.677, 5.552, 5....  "
      ]
     },
     "execution_count": 6,
     "metadata": {},
     "output_type": "execute_result"
    }
   ],
   "source": [
    "# creating mid price\n",
    "options_df[\"mid price\"] = (options_df[\"ask price\"] + options_df[\"bid price\"])/2\n",
    "#print(options_df[\"mid price\"])\n",
    "\n",
    "# organizing based on dates\n",
    "df = pd.DataFrame()\n",
    "for header in [\"expiration date\", \"strike price\", \"mid price\", \"closing price\", \"moneyness\"]:\n",
    "    df[header] = options_df.groupby(\"date\")[header].apply(list)\n",
    "\n",
    "df.head(2)"
   ]
  },
  {
   "cell_type": "code",
   "execution_count": 43,
   "metadata": {},
   "outputs": [
    {
     "name": "stdout",
     "output_type": "stream",
     "text": [
      "Int64Index([   4,    3,    2,    1,    0,   -3,   -4,   -5,   -6,   -7,\n",
      "            ...\n",
      "            -343, -346, -347, -348, -349, -350, -354, -355, -356, -357],\n",
      "           dtype='int64', name='date', length=252)\n"
     ]
    }
   ],
   "source": [
    "# time to expiration\n",
    "def time_to_expiration(row):\n",
    "    date = pd.to_datetime(df.index)\n",
    "    T = [(pd.to_datetime(ex_date) - date).days for ex_date in row[\"expiration date\"]]\n",
    "    return T\n",
    "\n",
    "print(time_to_expiration(df.iloc[0, :])[0])\n",
    "#print(df.iloc[0, 0])\n",
    "#len(df[\"expiration date\"])"
   ]
  },
  {
   "cell_type": "code",
   "execution_count": 12,
   "metadata": {},
   "outputs": [
    {
     "data": {
      "text/plain": [
       "Timestamp('2016-01-04 00:00:00')"
      ]
     },
     "execution_count": 12,
     "metadata": {},
     "output_type": "execute_result"
    }
   ],
   "source": [
    "pd.to_datetime(df.index[0])\n",
    "\n",
    "nums = [3,2,1,0,-1,-2]\n",
    "max([num for num in nums if num < 0])\n"
   ]
  },
  {
   "cell_type": "code",
   "execution_count": null,
   "metadata": {},
   "outputs": [],
   "source": []
  }
 ],
 "metadata": {
  "kernelspec": {
   "display_name": "base",
   "language": "python",
   "name": "python3"
  },
  "language_info": {
   "codemirror_mode": {
    "name": "ipython",
    "version": 3
   },
   "file_extension": ".py",
   "mimetype": "text/x-python",
   "name": "python",
   "nbconvert_exporter": "python",
   "pygments_lexer": "ipython3",
   "version": "3.9.12"
  }
 },
 "nbformat": 4,
 "nbformat_minor": 2
}
